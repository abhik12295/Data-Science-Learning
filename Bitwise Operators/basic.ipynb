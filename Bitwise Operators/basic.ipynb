{
 "cells": [
  {
   "cell_type": "code",
   "execution_count": null,
   "metadata": {},
   "outputs": [],
   "source": [
    "'''\n",
    "Use Case\n",
    "    -> implement algo such as compression, encryption, and error detection\n",
    "'''"
   ]
  },
  {
   "cell_type": "code",
   "execution_count": null,
   "metadata": {},
   "outputs": [],
   "source": [
    "'''\n",
    "Binary System :\n",
    "    -> data (in Computer) - base-2 numeral system (or binary system [0,1])\n",
    "    -> eg: 1011100(2) = 156(10)\n",
    "      #10  #2\n",
    "    -> 0 = 0\n",
    "    -> 1 = 1\n",
    "    -> 2 = 10\n",
    "    -> 3 = 11\n",
    "    -> 4 = 100 (4*1 + 2*0 + 1*0)\n",
    "    -> 5 = 101  (4*1 + 2*0 + 1*1)\n",
    "    -> and so on\n",
    "\n",
    "# powers of 2 correspond to digit positions in binary number and tell exactly which bits of switch is on\n",
    "# they grow right to left - starting at the least-significant bit, which determines if number is even or odd\n",
    "\n",
    "'''\n"
   ]
  },
  {
   "cell_type": "code",
   "execution_count": 7,
   "metadata": {},
   "outputs": [],
   "source": [
    "'''\n",
    "Bitwise Logical Operators\n",
    "'''\n",
    "#2 numbers in binary\n",
    "a = 0b1010 #10 in decimal\n",
    "b = 0b1100 #12 in decimal\n",
    "\n"
   ]
  },
  {
   "cell_type": "code",
   "execution_count": null,
   "metadata": {},
   "outputs": [
    {
     "name": "stdout",
     "output_type": "stream",
     "text": [
      "Binary:  0b1000\n",
      "Decimal:  8\n"
     ]
    }
   ],
   "source": [
    "#Bitwise AND -> 1 if both 1 else 0\n",
    "# it gives the last number\n",
    "'''\n",
    "a =  1010\n",
    "b =  1100\n",
    "a&b= 1000\n",
    "'''\n",
    "res_and = a & b\n",
    "print(\"Binary: \",bin(res_and))\n",
    "print(\"Decimal: \",res_and)"
   ]
  },
  {
   "cell_type": "code",
   "execution_count": 14,
   "metadata": {},
   "outputs": [
    {
     "name": "stdout",
     "output_type": "stream",
     "text": [
      "Binary:  0b10111100\n",
      "Decimal:  188\n"
     ]
    }
   ],
   "source": [
    "#Bitwise OR -> 1 if any 1 else 0\n",
    "'''\n",
    "a =  10011100\n",
    "b =  00110100\n",
    "a|b= 10111100\n",
    "'''\n",
    "a =  0b10011100\n",
    "b =  0b110100\n",
    "res_or = a | b\n",
    "print(\"Binary: \",bin(res_or))\n",
    "print(\"Decimal: \",res_or)"
   ]
  },
  {
   "cell_type": "code",
   "execution_count": null,
   "metadata": {},
   "outputs": [
    {
     "name": "stdout",
     "output_type": "stream",
     "text": [
      "Binary:  0b10101000\n",
      "Decimal:  168\n"
     ]
    }
   ],
   "source": [
    "#Bitwise XOR -> 1 if bits are different else 0\n",
    "'''\n",
    "a =  10011100\n",
    "b =  00110100\n",
    "a^b= 10101000\n",
    "'''\n",
    "a =  0b10011100\n",
    "b =  0b110100\n",
    "res_xor = a ^ b\n",
    "print(\"Binary: \",bin(res_xor))\n",
    "print(\"Decimal: \",res_xor)"
   ]
  },
  {
   "cell_type": "code",
   "execution_count": null,
   "metadata": {},
   "outputs": [
    {
     "name": "stdout",
     "output_type": "stream",
     "text": [
      "Binary:  -0b10011101\n",
      "Decimal:  -157\n"
     ]
    }
   ],
   "source": [
    "#Bitwise not -> ~1 if bits are different else 0\n",
    "'''\n",
    "a =  10011100\n",
    "b =  00110100\n",
    "~a=  01100011\n",
    "'''\n",
    "a =  0b10011100\n",
    "b =  0b110100\n",
    "res_not = ~a\n",
    "print(\"Binary: \",bin(res_not))\n",
    "print(\"Decimal: \",res_not)"
   ]
  },
  {
   "cell_type": "code",
   "execution_count": null,
   "metadata": {},
   "outputs": [],
   "source": []
  }
 ],
 "metadata": {
  "kernelspec": {
   "display_name": "venv",
   "language": "python",
   "name": "python3"
  },
  "language_info": {
   "codemirror_mode": {
    "name": "ipython",
    "version": 3
   },
   "file_extension": ".py",
   "mimetype": "text/x-python",
   "name": "python",
   "nbconvert_exporter": "python",
   "pygments_lexer": "ipython3",
   "version": "3.10.0"
  }
 },
 "nbformat": 4,
 "nbformat_minor": 2
}
