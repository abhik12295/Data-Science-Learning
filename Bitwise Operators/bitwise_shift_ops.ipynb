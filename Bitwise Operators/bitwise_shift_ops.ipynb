{
 "cells": [
  {
   "cell_type": "code",
   "execution_count": null,
   "metadata": {},
   "outputs": [],
   "source": [
    "'''\n",
    "Bitwise Shift Operators\n",
    "Notes:\n",
    "left shift used to be a popular optimization techniques bcaz bit shifting is a single instruction,\n",
    "and is cheaper to calculate than exponent or product.\n",
    "'''"
   ]
  },
  {
   "cell_type": "code",
   "execution_count": 9,
   "metadata": {},
   "outputs": [
    {
     "name": "stdout",
     "output_type": "stream",
     "text": [
      "left shift of a before: (10) 0b1010 10\n",
      "left shift of a after: (10*2) 0b10100 20\n"
     ]
    }
   ],
   "source": [
    "'''\n",
    "Left Shift\n",
    "\n",
    "-> moves the bits of first operand to the left by the number of places specified in its second operand\n",
    "-> effectively multiplying the number by 2 raised to the power of the shift amount.\n",
    "'''\n",
    "a = 0b1010\n",
    "res_left_shift = a<<1\n",
    "print(\"left shift of a before: (10)\", bin(a),int(a) )\n",
    "print(\"left shift of a after: (10*2)\", bin(res_left_shift),int(res_left_shift) )"
   ]
  },
  {
   "cell_type": "code",
   "execution_count": null,
   "metadata": {},
   "outputs": [
    {
     "name": "stdout",
     "output_type": "stream",
     "text": [
      "left shift of a before: (10) 0b1010 10\n",
      "left shift of a after: (10*2) 0b101 5\n"
     ]
    },
    {
     "ename": "",
     "evalue": "",
     "output_type": "error",
     "traceback": [
      "\u001b[1;31mThe Kernel crashed while executing code in the current cell or a previous cell. \n",
      "\u001b[1;31mPlease review the code in the cell(s) to identify a possible cause of the failure. \n",
      "\u001b[1;31mClick <a href='https://aka.ms/vscodeJupyterKernelCrash'>here</a> for more info. \n",
      "\u001b[1;31mView Jupyter <a href='command:jupyter.viewOutput'>log</a> for further details."
     ]
    }
   ],
   "source": [
    "'''\n",
    "Right Shift\n",
    "\n",
    "-> moves the bits of first operand to the Right by the number of places specified in its second operand\n",
    "-> effectively dividing the number by 2 raised to the power of the shift amount (integer division).\n",
    "'''\n",
    "a = 0b1010\n",
    "res_right_shift = a>>1\n",
    "print(\"left shift of a before: (10)\", bin(a),int(a) )\n",
    "print(\"left shift of a after: (10//2)\", bin(res_right_shift),int(res_right_shift) )"
   ]
  }
 ],
 "metadata": {
  "kernelspec": {
   "display_name": "venv",
   "language": "python",
   "name": "python3"
  },
  "language_info": {
   "codemirror_mode": {
    "name": "ipython",
    "version": 3
   },
   "file_extension": ".py",
   "mimetype": "text/x-python",
   "name": "python",
   "nbconvert_exporter": "python",
   "pygments_lexer": "ipython3",
   "version": "3.10.0"
  }
 },
 "nbformat": 4,
 "nbformat_minor": 2
}
