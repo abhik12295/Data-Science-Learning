{
 "cells": [
  {
   "cell_type": "code",
   "execution_count": 1,
   "metadata": {},
   "outputs": [
    {
     "data": {
      "text/plain": [
       "964176192"
      ]
     },
     "execution_count": 1,
     "metadata": {},
     "output_type": "execute_result"
    }
   ],
   "source": [
    "'''\n",
    "Reverse bits \n",
    "\n",
    "Reverse the bits of a 32-bit unsigned integer\n",
    "'''\n",
    "#logic = go bit by bit from right to left and rebuild from left to right\n",
    "# and operator = will get us the last bit from n -> 0 & 1 = 0 , 1 & 1 = 1\n",
    "# or operator = will add the required bit to resultant -> 0|1 = 1, or 0|0= 0\n",
    "# >> right = shift with add -> to get the next element from n\n",
    "#  << left  = shift with or -> to make the resultant space for our result \n",
    "n = 0b00000010100101000001111010011100\n",
    "#Output:    964176192 (00111001011110000010100101000000)\n",
    "\n",
    "def reverse_bit(n):\n",
    "    res = 0\n",
    "    for _ in range(32):\n",
    "        res = res << 1\n",
    "        bit = n&1\n",
    "        res = res|bit\n",
    "        n = n>>1\n",
    "    return res\n",
    "\n",
    "reverse_bit(n)\n",
    "\n"
   ]
  },
  {
   "cell_type": "code",
   "execution_count": 2,
   "metadata": {},
   "outputs": [
    {
     "data": {
      "text/plain": [
       "964176192"
      ]
     },
     "execution_count": 2,
     "metadata": {},
     "output_type": "execute_result"
    }
   ],
   "source": [
    "'''\n",
    "Reverse bits \n",
    "\n",
    "Reverse the bits of a 32-bit unsigned integer\n",
    "'''\n",
    "#logic = go bit by bit from right to left and rebuild from left to right\n",
    "# and operator = will get us the last bit from n -> 0 & 1 = 0 , 1 & 1 = 1\n",
    "# or operator = will add the required bit to resultant -> 0|1 = 1, or 0|0= 0\n",
    "# >> right = shift with add -> to get the next element from n\n",
    "#  << left  = shift with or -> to make the resultant space for our result \n",
    "n = 0b00000010100101000001111010011100\n",
    "#Output:    964176192 (00111001011110000010100101000000)\n",
    "\n",
    "def reverse_bit(n):\n",
    "    res = 0\n",
    "    for _ in range(32):\n",
    "        res = res << 1|n&1\n",
    "        n>>=1\n",
    "    return res\n",
    "\n",
    "reverse_bit(n)\n",
    "\n"
   ]
  },
  {
   "cell_type": "code",
   "execution_count": null,
   "metadata": {},
   "outputs": [],
   "source": [
    "'''\n",
    "Number of 1 bits\n",
    "'''\n",
    "n= 11\n",
    "#outpt = 3 bits on -> 1011 = 11\n",
    "def no_of_bits(n):\n",
    "    cnt = 0\n",
    "    while n:\n",
    "        #get the last bit\n",
    "        bit=n&1\n",
    "        # left shift to remove the last bit\n",
    "        n=n>>1\n",
    "        #increase the cnt if bit is 1\n",
    "        if bit==1:\n",
    "            cnt+=1\n",
    "    return cnt\n",
    "no_of_bits(n)"
   ]
  },
  {
   "cell_type": "code",
   "execution_count": 5,
   "metadata": {},
   "outputs": [
    {
     "data": {
      "text/plain": [
       "[0, 1, 1, 2, 1, 2]"
      ]
     },
     "execution_count": 5,
     "metadata": {},
     "output_type": "execute_result"
    }
   ],
   "source": [
    "# counting bits \"DP solutions\"\n",
    "n = 5\n",
    "def dp_counting_bits(n):\n",
    "    dp = [0]\n",
    "    for i in range(1, n+1):\n",
    "        dp.append(dp[i//2]+(i%2))\n",
    "    return dp\n",
    "dp_counting_bits(n)"
   ]
  },
  {
   "cell_type": "code",
   "execution_count": 3,
   "metadata": {},
   "outputs": [
    {
     "data": {
      "text/plain": [
       "[0, 1, 1, 2, 1, 2]"
      ]
     },
     "execution_count": 3,
     "metadata": {},
     "output_type": "execute_result"
    }
   ],
   "source": [
    "# counting bits \"DP solutions bit ops\"\n",
    "n = 5\n",
    "def dp_counting_bits(n):\n",
    "    dp = [0]\n",
    "    for i in range(1, n+1):\n",
    "        dp.append(dp[i>>1]+(i&1))\n",
    "    return dp\n",
    "dp_counting_bits(n)"
   ]
  }
 ],
 "metadata": {
  "kernelspec": {
   "display_name": "venv",
   "language": "python",
   "name": "python3"
  },
  "language_info": {
   "codemirror_mode": {
    "name": "ipython",
    "version": 3
   },
   "file_extension": ".py",
   "mimetype": "text/x-python",
   "name": "python",
   "nbconvert_exporter": "python",
   "pygments_lexer": "ipython3",
   "version": "3.10.0"
  }
 },
 "nbformat": 4,
 "nbformat_minor": 2
}
