{
 "cells": [
  {
   "cell_type": "code",
   "execution_count": 1,
   "metadata": {},
   "outputs": [
    {
     "data": {
      "text/plain": [
       "964176192"
      ]
     },
     "execution_count": 1,
     "metadata": {},
     "output_type": "execute_result"
    }
   ],
   "source": [
    "'''\n",
    "Reverse bits \n",
    "\n",
    "Reverse the bits of a 32-bit unsigned integer\n",
    "'''\n",
    "#logic = go bit by bit from right to left and rebuild from left to right\n",
    "# and operator = will get us the last bit from n -> 0 & 1 = 0 , 1 & 1 = 1\n",
    "# or operator = will add the required bit to resultant -> 0|1 = 1, or 0|0= 0\n",
    "# >> right = shift with add -> to get the next element from n\n",
    "#  << left  = shift with or -> to make the resultant space for our result \n",
    "n = 0b00000010100101000001111010011100\n",
    "#Output:    964176192 (00111001011110000010100101000000)\n",
    "\n",
    "def reverse_bit(n):\n",
    "    res = 0\n",
    "    for _ in range(32):\n",
    "        res = res << 1\n",
    "        bit = n&1\n",
    "        res = res|bit\n",
    "        n = n>>1\n",
    "    return res\n",
    "\n",
    "reverse_bit(n)\n",
    "\n"
   ]
  },
  {
   "cell_type": "code",
   "execution_count": 2,
   "metadata": {},
   "outputs": [
    {
     "data": {
      "text/plain": [
       "964176192"
      ]
     },
     "execution_count": 2,
     "metadata": {},
     "output_type": "execute_result"
    }
   ],
   "source": [
    "'''\n",
    "Reverse bits \n",
    "\n",
    "Reverse the bits of a 32-bit unsigned integer\n",
    "'''\n",
    "#logic = go bit by bit from right to left and rebuild from left to right\n",
    "# and operator = will get us the last bit from n -> 0 & 1 = 0 , 1 & 1 = 1\n",
    "# or operator = will add the required bit to resultant -> 0|1 = 1, or 0|0= 0\n",
    "# >> right = shift with add -> to get the next element from n\n",
    "#  << left  = shift with or -> to make the resultant space for our result \n",
    "n = 0b00000010100101000001111010011100\n",
    "#Output:    964176192 (00111001011110000010100101000000)\n",
    "\n",
    "def reverse_bit(n):\n",
    "    res = 0\n",
    "    for _ in range(32):\n",
    "        res = res << 1|n&1\n",
    "        n>>=1\n",
    "    return res\n",
    "\n",
    "reverse_bit(n)\n",
    "\n"
   ]
  },
  {
   "cell_type": "code",
   "execution_count": null,
   "metadata": {},
   "outputs": [],
   "source": [
    "'''\n",
    "Number of 1 bits\n",
    "'''\n",
    "n= 11\n",
    "#outpt = 3 bits on -> 1011 = 11\n",
    "def no_of_bits(n):\n",
    "    cnt = 0\n",
    "    while n:\n",
    "        #get the last bit\n",
    "        bit=n&1\n",
    "        # right shift to remove the last bit\n",
    "        n=n>>1\n",
    "        #increase the cnt if bit is 1\n",
    "        if bit==1:\n",
    "            cnt+=1\n",
    "    return cnt\n",
    "no_of_bits(n)"
   ]
  },
  {
   "cell_type": "code",
   "execution_count": 5,
   "metadata": {},
   "outputs": [
    {
     "data": {
      "text/plain": [
       "[0, 1, 1, 2, 1, 2]"
      ]
     },
     "execution_count": 5,
     "metadata": {},
     "output_type": "execute_result"
    }
   ],
   "source": [
    "# counting bits \"DP solutions\"\n",
    "n = 5\n",
    "def dp_counting_bits(n):\n",
    "    dp = [0]\n",
    "    for i in range(1, n+1):\n",
    "        dp.append(dp[i//2]+(i%2))\n",
    "    return dp\n",
    "dp_counting_bits(n)"
   ]
  },
  {
   "cell_type": "code",
   "execution_count": 3,
   "metadata": {},
   "outputs": [
    {
     "data": {
      "text/plain": [
       "[0, 1, 1, 2, 1, 2]"
      ]
     },
     "execution_count": 3,
     "metadata": {},
     "output_type": "execute_result"
    }
   ],
   "source": [
    "# counting bits \"DP solutions bit ops\"\n",
    "n = 5\n",
    "def dp_counting_bits(n):\n",
    "    dp = [0]\n",
    "    for i in range(1, n+1):\n",
    "        dp.append(dp[i>>1]+(i&1))\n",
    "    return dp\n",
    "dp_counting_bits(n)"
   ]
  },
  {
   "cell_type": "code",
   "execution_count": 15,
   "metadata": {},
   "outputs": [
    {
     "data": {
      "text/plain": [
       "8"
      ]
     },
     "execution_count": 15,
     "metadata": {},
     "output_type": "execute_result"
    }
   ],
   "source": [
    "'''\n",
    "Missing Numbers - Leetcode 268\n",
    "'''\n",
    "\n",
    "#brute\n",
    "nums = [9,1,2,6,5,0,3,4,7]\n",
    "def missing_number(nums):\n",
    "    for i in range(len(nums)+1):\n",
    "        if i not in nums:\n",
    "            return i\n",
    "missing_number(nums)\n"
   ]
  },
  {
   "cell_type": "code",
   "execution_count": 16,
   "metadata": {},
   "outputs": [
    {
     "data": {
      "text/plain": [
       "8"
      ]
     },
     "execution_count": 16,
     "metadata": {},
     "output_type": "execute_result"
    }
   ],
   "source": [
    "'''\n",
    "Optimized version\n",
    "using bit XOR\n",
    "since XOR cancel the same items -> 0\n",
    "\n",
    "a b output\n",
    "0 0  0\n",
    "0 1  1\n",
    "1 0  1\n",
    "1 1  0\n",
    "'''\n",
    "nums = [9,1,2,6,5,0,3,4,7]\n",
    "# nums = [9,6,4,2,3,5,7,0,1]\n",
    "def missing_number_opt(nums):\n",
    "    res = len(nums) #expected range\n",
    "    for i,e in enumerate(nums):\n",
    "        res =res^i^e\n",
    "    return res\n",
    "\n",
    "missing_number_opt(nums)"
   ]
  },
  {
   "cell_type": "code",
   "execution_count": null,
   "metadata": {},
   "outputs": [],
   "source": [
    "'''Single Number'''\n",
    "from collections import Counter\n",
    "nums = [2,2,1]\n",
    "#output = 1\n",
    "def single_number(nums):\n",
    "    # dict = {}\n",
    "    # for i in nums:\n",
    "    #     if i in dict:\n",
    "    #         dict[i]+=1\n",
    "    #     else:\n",
    "    #         dict[i]=1\n",
    "    dict = Counter(nums)\n",
    "    for k,v in dict.items():\n",
    "        if v!=2:\n",
    "            return k\n",
    "    return\n",
    "single_number(nums)\n",
    "        \n"
   ]
  },
  {
   "cell_type": "code",
   "execution_count": null,
   "metadata": {},
   "outputs": [
    {
     "data": {
      "text/plain": [
       "1"
      ]
     },
     "execution_count": 27,
     "metadata": {},
     "output_type": "execute_result"
    }
   ],
   "source": [
    "#Single Number using Bit manipulation \n",
    "#linear runtime complexity and use only constant extra space.\n",
    "'''\n",
    "Logic again XOR\n",
    "if we XOR all numbers in the list\n",
    "-> all duplicates cancel out to 0\n",
    "-> single number remains\n",
    "'''\n",
    "nums = [2,2,1]\n",
    "def singleNumber(nums):\n",
    "    res = 0\n",
    "    for num in nums:\n",
    "        res=res^num\n",
    "    return res\n",
    "singleNumber(nums)"
   ]
  }
 ],
 "metadata": {
  "kernelspec": {
   "display_name": "venv",
   "language": "python",
   "name": "python3"
  },
  "language_info": {
   "codemirror_mode": {
    "name": "ipython",
    "version": 3
   },
   "file_extension": ".py",
   "mimetype": "text/x-python",
   "name": "python",
   "nbconvert_exporter": "python",
   "pygments_lexer": "ipython3",
   "version": "3.10.0"
  }
 },
 "nbformat": 4,
 "nbformat_minor": 2
}
