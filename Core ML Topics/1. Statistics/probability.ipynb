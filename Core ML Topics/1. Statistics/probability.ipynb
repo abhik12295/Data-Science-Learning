{
 "cells": [
  {
   "cell_type": "code",
   "execution_count": null,
   "id": "ca8d8c85",
   "metadata": {},
   "outputs": [],
   "source": [
    "'''\n",
    "Probability:\n",
    "- Introduction to Probability\n",
    "- Basic Probability Concepts\n",
    "- Conditional Probability\n",
    "- Addition Rule (For mutually exclusive events)\n",
    "- Addition Rule (For non-mutually exclusive events)\n",
    "- Multiplication Rule (For independent events)\n",
    "- Multiplication Rule (For dependent events)\n",
    "- Bayes' Theorem\n",
    "- Law of Total Probability\n",
    "'''"
   ]
  },
  {
   "cell_type": "code",
   "execution_count": null,
   "id": "bcc48ffa",
   "metadata": {},
   "outputs": [],
   "source": [
    "'''\n",
    "Introduction to Probability:\n",
    "- Probability is a branch of mathematics that deals with the likelihood of events occurring. \n",
    "- It quantifies uncertainty and provides a framework for making predictions based on known information. \n",
    "- The probability of an event is a number between 0 and 1, where 0 indicates impossibility and 1 indicates certainty.\n",
    "\n",
    "Example:\n",
    "1. The probability of flipping a fair coin and getting heads is 0.5, since there are two equally likely outcomes (heads or tails).\n",
    "P(heads) = 1/2 = 0.5\n",
    "p(tails) = 1/2 = 0.5\n",
    "\n",
    "\n",
    "Basic Probability Concepts:\n",
    "- Sample Space: The set of all possible outcomes of a random experiment.\n",
    "- Event: A subset of the sample space, which can consist of one or more outcomes.\n",
    "- Probability of an Event: The likelihood of an event occurring, calculated as the number of favorable outcomes divided by the total number of outcomes in the sample space.\n",
    "'''"
   ]
  },
  {
   "cell_type": "code",
   "execution_count": null,
   "id": "491ffcac",
   "metadata": {},
   "outputs": [],
   "source": [
    "'''\n",
    "Conditional Probability:\n",
    "- Conditional Probability: The probability of an event occurring given that another event has already occurred.\n",
    "- Denoted as P(A|B), which reads \"the probability of A given B\".\n",
    "- Formula: P(A|B) = P(A and B) / P(B), where P(A and B) is the joint probability of both events occurring, \n",
    "and P(B) is the probability of event B.\n",
    "- Real-World Example: If we know that it is raining, the probability of someone carrying an umbrella increases.\n",
    "P(umbrella | rain) = P(umbrella and rain) / P(rain)\n",
    "Value: If P(umbrella and rain) = 0.3 and P(rain) = 0.6, then P(umbrella | rain) = 0.3 / 0.6 = 0.5.\n",
    "\n",
    "'''"
   ]
  },
  {
   "cell_type": "code",
   "execution_count": null,
   "id": "b3a75c3d",
   "metadata": {},
   "outputs": [],
   "source": [
    "'''\n",
    "Mutually Exclusive Events:\n",
    "- Mutually Exclusive Events: Two events that cannot occur at the same time. If one event occurs, the other cannot.\n",
    "- Addition Rule for Mutually Exclusive Events: If A and B are mutually exclusive, then the probability of either A or B occurring is given by:\n",
    "P(A or B) = P(A) + P(B)\n",
    "- Example: The probability of rolling a 2 or a 3 on a fair six-sided die.\n",
    "P(2 or 3) = P(2) + P(3) = 1/6 + 1/6 = 2/6 = 1/3\n",
    "- Multiplication Rule for Mutually Exclusive Events: Not applicable, as mutually exclusive events cannot occur together.\n",
    "'''"
   ]
  },
  {
   "cell_type": "code",
   "execution_count": null,
   "id": "ced78073",
   "metadata": {},
   "outputs": [],
   "source": [
    "''' \n",
    "Non-Mutually Exclusive Events:\n",
    "- Non-Mutually Exclusive Events: Two events that can occur at the same time. If A and B can both happen, we need to adjust the addition rule.\n",
    "- Addition Rule for Non-Mutually Exclusive Events: If A and B are not mutually exclusive, then the probability of either A or B occurring is given by:\n",
    "P(A or B) = P(A) + P(B) - P(A and B)\n",
    "Example: The probability of drawing a king and a heart from a standard deck of cards.\n",
    "P(king or heart) = P(king) + P(heart) - P(king and heart)\n",
    "P(king or heart) = (4/52) + (13/52) - (1/52) = 16/52 = 4/13\n",
    "'''\n"
   ]
  },
  {
   "cell_type": "code",
   "execution_count": null,
   "id": "a37ad6c7",
   "metadata": {},
   "outputs": [],
   "source": [
    "\n",
    "'''\n",
    "Multiplication Rule for Independent Events:\n",
    "- Independent Events: Two events are independent if the occurrence of one does not affect the probability of the other.\n",
    "- Multiplication Rule for Independent Events: If A and B are independent, then the probability of both A and B occurring is given by:\n",
    "P(A and B) = P(A) * P(B)\n",
    "Example: The probability of flipping a coin and getting heads, and rolling a die and getting a 4.\n",
    "P(heads and 4) = P(heads) * P(4) = (1/2) * (1/6) = 1/12\n",
    "'''"
   ]
  },
  {
   "cell_type": "code",
   "execution_count": null,
   "id": "85f24298",
   "metadata": {},
   "outputs": [],
   "source": [
    "'''\n",
    "Multiplication Rule for Dependent Events:\n",
    "- Dependent Events: Two events are dependent if the occurrence of one affects the probability of the other.\n",
    "- Multiplication Rule for Dependent Events: If A and B are dependent, then the probability of both A and B occurring is given by:\n",
    "P(A and B) = P(A) * P(B|A)\n",
    "Example: The probability of drawing two cards from a deck without replacement, where the first card is a king and the second card is a queen.\n",
    "P(king and queen) = P(king) * P(queen | king)\n",
    "P(king and queen) = (4/52) * (4/51) = 16/2652 = 4/663\n",
    "\n",
    "'''"
   ]
  },
  {
   "cell_type": "code",
   "execution_count": null,
   "id": "71229cf2",
   "metadata": {},
   "outputs": [],
   "source": [
    "'''\n",
    "Bayes' Theorem: (part of Conditional Probability)\n",
    "- Bayes' Theorem: A way to calculate conditional probabilities by relating the conditional and marginal probabilities of events.\n",
    "- Formula: P(A|B) = [P(B|A) * P(A)] / P(B)\n",
    "- Example: If we know the probability of having a disease given a positive test result, we can use Bayes' theorem to find the probability of having the disease given that we tested positive.\n",
    "- Real-World Example: In medical testing, if a test is 95% accurate and the disease prevalence is 1%, we can calculate the probability of actually having the disease given a positive test result. \n",
    "P(disease | positive) = [P(positive | disease) * P(disease)] / P(positive)\n",
    "Where:\n",
    "P(positive | disease) = 0.95 (true positive rate)\n",
    "P(disease) = 0.01 (prevalence)\n",
    "P(positive) = P(positive | disease) * P(disease) + P(positive | no disease) * P(no disease)\n",
    "P(positive | no disease) = 0.05 (false positive rate)\n",
    "- Using the values:\n",
    "P(positive) = (0.95 * 0.01) + (0.05 * 0.99) = 0.0095 + 0.0495 = 0.059\n",
    "P(disease | positive) = (0.95 * 0.01) / 0.059 = 0.161 or 16.1%\n",
    "'''\n",
    "\n"
   ]
  },
  {
   "cell_type": "code",
   "execution_count": null,
   "id": "d1b9e2c9",
   "metadata": {},
   "outputs": [],
   "source": [
    "'''\n",
    "Law of Total Probability:\n",
    "- Law of Total Probability: A way to calculate the probability of an event by considering all possible ways that event can occur.\n",
    "- If B1, B2, ..., Bn are mutually exclusive events that cover the entire sample space, then for any event A:\n",
    "P(A) = P(A|B1) * P(B1) + P(A|B2) * P(B2) + ... + P(A|Bn) * P(Bn)\n",
    "- Example: If we want to find the probability of a student passing an exam, we can consider different scenarios such as studying hard, studying moderately, or not studying at all.\n",
    "solve math problems:\n",
    "P(pass) = P(pass | study hard) * P(study hard) + P(pass | study moderately) * P(study moderately) + P(pass | not studying) * P(not studying)\n",
    "value: If P(pass | study hard) = 0.9, \n",
    "            P(study hard) = 0.4, \n",
    "            P(pass | study moderately) = 0.6, \n",
    "            P(study moderately) = 0.4, P(pass | not studying) = 0.2, and \n",
    "            P(not studying) = 0.2, \n",
    "then:\n",
    "    P(pass) = (0.9 * 0.4) + (0.6 * 0.4) + (0.2 * 0.2) = 0.36 + 0.24 + 0.04 = 0.64\n",
    "\n",
    "'''"
   ]
  }
 ],
 "metadata": {
  "language_info": {
   "name": "python"
  }
 },
 "nbformat": 4,
 "nbformat_minor": 5
}
