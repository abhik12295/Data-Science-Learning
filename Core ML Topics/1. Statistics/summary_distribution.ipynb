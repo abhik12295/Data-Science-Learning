{
 "cells": [
  {
   "cell_type": "markdown",
   "id": "21fb8d2a",
   "metadata": {},
   "source": [
    "                   ┌─────────────────────────────┐\n",
    "                   │    Probability Distributions│\n",
    "                   └────────────┬────────────────┘\n",
    "                                │\n",
    "              ┌────────────────┴────────────────┐\n",
    "              │                                 │\n",
    "       ┌──────▼──────┐                   ┌──────▼──────┐\n",
    "       │ Discrete    │                   │ Continuous  │\n",
    "       └──────┬──────┘                   └──────┬──────┘\n",
    "              │                                 │\n",
    "   ┌──────────┴─────────────┐       ┌───────────┴─────────────┐\n",
    "   │                        │       │                         │\n",
    "┌──▼──┐                ┌────▼──┐   ┌─▼──────┐            ┌─────▼─────┐\n",
    "│Bernoulli│            │Binomial│  │Normal  │            │Exponential│\n",
    "└──┬───┘                └──┬────┘  └──┬─────┘            └────┬──────┘\n",
    "   │                       │          │                        │\n",
    "   │                 ┌─────▼───┐    ┌─▼──────┐           ┌────▼─────┐\n",
    "   │                 │Poisson  │    │t-distribution│     │Gamma     │\n",
    "   │                 └─────────┘    └────────────┘       └──────────┘\n",
    "   │                        ┌───────▼──────┐\n",
    "   │                        │Chi-Square    │\n",
    "   │                        └──────────────┘\n",
    "   └────────► Geometric, etc.\n",
    "\n",
    "Also:\n",
    "   ┌────────► Beta / Uniform / Pareto – used in Bayesian, simulations etc.\n"
   ]
  },
  {
   "cell_type": "code",
   "execution_count": null,
   "id": "e853c0b8",
   "metadata": {
    "vscode": {
     "languageId": "plaintext"
    }
   },
   "outputs": [],
   "source": [
    "**Mnemonic Trick: “Be Bright, Please Think Normally, Even Chickens Predict Good Behavior”\n",
    "\n",
    "(Mixes Discrete + Continuous logically)\n",
    "\n",
    "| Letter | Distribution       | Type       | When to Use                           |\n",
    "| ------ | ------------------ | ---------- | ------------------------------------- |\n",
    "| **B**  | **Bernoulli**      | Discrete   | Binary outcome (Yes/No) – 1 trial     |\n",
    "| **B**  | **Binomial**       | Discrete   | Count of successes in **n** trials    |\n",
    "| **P**  | **Poisson**        | Discrete   | Count of rare events per time/unit    |\n",
    "| **T**  | **t-distribution** | Continuous | Small sample mean comparisons         |\n",
    "| **N**  | **Normal**         | Continuous | Natural phenomena, CLT                |\n",
    "| **E**  | **Exponential**    | Continuous | Time between events (waiting time)    |\n",
    "| **C**  | **Chi-Square**     | Continuous | Testing variance / goodness of fit    |\n",
    "| **P**  | **Pareto**         | Continuous | Wealth distribution (Power Law)       |\n",
    "| **G**  | **Gamma**          | Continuous | Modeling waiting times (k events)     |\n",
    "| **B**  | **Beta**           | Continuous | Probabilities between 0 and 1 (Bayes) |\n"
   ]
  },
  {
   "cell_type": "code",
   "execution_count": null,
   "id": "bee313e2",
   "metadata": {
    "vscode": {
     "languageId": "plaintext"
    }
   },
   "outputs": [],
   "source": [
    "When to Use – Quick Guide\n",
    "| Distribution       | Use Case Example                           |\n",
    "| ------------------ | ------------------------------------------ |\n",
    "| **Bernoulli**      | Tossing a coin (1 success/failure)         |\n",
    "| **Binomial**       | Tossing a coin n times                     |\n",
    "| **Poisson**        | Calls to a call center per hour            |\n",
    "| **Normal**         | Heights, IQ scores, errors                 |\n",
    "| **t-distribution** | Estimating mean from small sample          |\n",
    "| **Exponential**    | Time until next earthquake                 |\n",
    "| **Chi-square**     | Testing independence in contingency tables |\n",
    "| **Beta**           | Prior in Bayesian analysis (probabilities) |\n",
    "| **Gamma**          | Time until k-th event occurs               |\n",
    "| **Pareto**         | Top 20% own 80% of wealth                  |\n",
    "| **Uniform**        | Equal probability (rolling dice)           |\n"
   ]
  },
  {
   "cell_type": "code",
   "execution_count": null,
   "id": "d7d41684",
   "metadata": {
    "vscode": {
     "languageId": "plaintext"
    }
   },
   "outputs": [],
   "source": [
    " Tips to Internalize:\n",
    "\n",
    "    Discrete = Counting, Continuous = Measuring\n",
    "\n",
    "    Use Binomial/Bernoulli when results are in 0/1 form.\n",
    "\n",
    "    Normal vs t-distribution? → Use t when sample size < 30.\n",
    "\n",
    "    Poisson & Exponential are inverse –> Poisson = # of events; Exponential = time between them.\n",
    "\n",
    "    Chi-square is used for variance, association tests.\n",
    "\n",
    "    Beta is a flexible distribution bounded between 0 and 1 (great for modeling probabilities).\n",
    "\n",
    "    Visualize: Always plot histograms and fit distributions."
   ]
  },
  {
   "cell_type": "code",
   "execution_count": null,
   "id": "f1167eaa",
   "metadata": {
    "vscode": {
     "languageId": "plaintext"
    }
   },
   "outputs": [],
   "source": [
    "                         ┌────────────────────────────┐\n",
    "                         │    INFERENTIAL STATISTICS   │\n",
    "                         └────────────┬───────────────┘\n",
    "                                      │\n",
    "              ┌──────────────────────┴────────────────────────┐\n",
    "              │                                               │\n",
    "      ┌───────▼───────┐                               ┌───────▼───────┐\n",
    "      │ Estimation    │                               │ Hypothesis Testing │\n",
    "      └───────────────┘                               └───────────────┬────┘\n",
    "                                                                      │\n",
    "               ┌──────────────────────────────────────────────────────┴──────────────────────────────────┐\n",
    "               │                                                                                         │\n",
    "       ┌───────▼────────┐                 ┌───────────────▼───────────────┐             ┌────────────────▼──────────────┐\n",
    "       │ Parametric Tests│               │ Non-Parametric Tests          │             │ Bayesian Inference (Optional) │\n",
    "       └───────┬────────┘                 └───────────────┬──────────────┘             └───────────────────────────────┘\n",
    "               │                                          │\n",
    "    ┌──────────▼──────────────┐                ┌──────────▼──────────┐\n",
    "    │ Based on Sample Size    │                │ No normality needed │\n",
    "    └──────────┬──────────────┘                └──────────┬──────────┘\n",
    "               │                                           │\n",
    " ┌─────────────▼────────────┐                  ┌──────────▼────────────┐\n",
    " │ Z-Test (n ≥ 30, σ known) │                  │ Chi-Square Test       │\n",
    " │                         │                  │ (categorical data)    │\n",
    " └─────────────┬────────────┘                  └──────────┬────────────┘\n",
    "               │                                           │\n",
    " ┌─────────────▼────────────┐                ┌────────────▼────────────┐\n",
    " │ T-Test (n < 30, σ unknown)│               │ Mann-Whitney U Test      │\n",
    " └─────────────┬────────────┘                │ Wilcoxon, Kruskal-Wallis│\n",
    "               │                             └─────────────────────────┘\n",
    "     ┌─────────▼─────────────┐\n",
    "     │ One-Sample T-Test     │\n",
    "     ├───────────────────────┤\n",
    "     │ Two-Sample T-Test     │\n",
    "     ├───────────────────────┤\n",
    "     │ Paired T-Test         │\n",
    "     └─────────┬─────────────┘\n",
    "               │\n",
    "     ┌─────────▼──────────────┐\n",
    "     │ ANOVA (3+ group means) │\n",
    "     └────────────────────────┘\n"
   ]
  },
  {
   "cell_type": "code",
   "execution_count": null,
   "id": "50f4b06e",
   "metadata": {
    "vscode": {
     "languageId": "plaintext"
    }
   },
   "outputs": [],
   "source": [
    "Quick Summary: When to Use:\n",
    "\n",
    "| Test                     | Use Case                                                  |\n",
    "| ------------------------ | --------------------------------------------------------- |\n",
    "| **Z-Test**               | Compare sample mean to population mean (large n, known σ) |\n",
    "| **T-Test (One-sample)**  | Compare sample mean to a known value (small n, unknown σ) |\n",
    "| **T-Test (Two-sample)**  | Compare means of two groups                               |\n",
    "| **Paired T-Test**        | Compare before/after (same subjects)                      |\n",
    "| **ANOVA**                | Compare means of 3+ groups                                |\n",
    "| **Chi-Square Test**      | Test association between categorical variables            |\n",
    "| **Mann-Whitney U**       | Non-parametric alternative to independent T-test          |\n",
    "| **Wilcoxon Signed Rank** | Non-parametric for paired data                            |\n",
    "| **Kruskal-Wallis**       | Non-parametric ANOVA                                      |\n",
    "| **Bayesian Inference**   | Update probability with new evidence (Priors/Posteriors)  |\n"
   ]
  },
  {
   "cell_type": "code",
   "execution_count": null,
   "id": "65cd8728",
   "metadata": {
    "vscode": {
     "languageId": "plaintext"
    }
   },
   "outputs": [],
   "source": [
    " Mnemonic to Remember:\n",
    "\n",
    "“Zany Tiny People Always Choose Tests Carefully”\n",
    "(Think: Z-test, T-test, Paired, ANOVA, Chi-square, T-test, Correlation)"
   ]
  },
  {
   "cell_type": "code",
   "execution_count": null,
   "id": "363729be",
   "metadata": {
    "vscode": {
     "languageId": "plaintext"
    }
   },
   "outputs": [],
   "source": [
    "Practice Table:\n",
    "\n",
    "| Scenario                                                   | Test                        |\n",
    "| ---------------------------------------------------------- | --------------------------- |\n",
    "| Comparing average height of 1 group vs national average    | One-Sample T-Test or Z-Test |\n",
    "| Comparing test scores of males vs females                  | Two-Sample T-Test           |\n",
    "| Comparing weight before and after a diet                   | Paired T-Test               |\n",
    "| Comparing effectiveness of 3 medicines                     | ANOVA                       |\n",
    "| Checking if gender and product preference are related      | Chi-Square                  |\n",
    "| Comparing satisfaction scores of two non-normal samples    | Mann-Whitney U              |\n",
    "| Same person’s rating before/after therapy, data non-normal | Wilcoxon                    |\n"
   ]
  }
 ],
 "metadata": {
  "language_info": {
   "name": "python"
  }
 },
 "nbformat": 4,
 "nbformat_minor": 5
}
