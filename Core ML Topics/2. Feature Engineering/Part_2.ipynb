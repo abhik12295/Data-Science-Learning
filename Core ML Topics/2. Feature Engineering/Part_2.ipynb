{
 "cells": [
  {
   "cell_type": "code",
   "execution_count": null,
   "id": "fb1958c2",
   "metadata": {},
   "outputs": [],
   "source": [
    "'''\n",
    "Handling Imbalanced Datasets:\n",
    "\n",
    "Imbalanced datasets:\n",
    "They are datasets where the classes are not represented equally. \n",
    "For example, in a binary classification problem,\n",
    "if 90% of the samples belong to class A and only 10% belong to class B, the dataset is imbalanced. \n",
    "Imbalanced datasets can lead to models that are biased towards the majority class, \n",
    "resulting in poor performance on the minority class.\n",
    "Imbalanced datasets are common in many real-world applications, \n",
    "such as fraud detection, medical diagnosis, and anomaly detection. \n",
    "When the classes are imbalanced, standard machine learning algorithms may not perform well because \n",
    "they tend to favor the majority class. \n",
    "This can result in high accuracy but poor recall and precision for the minority class, which is often the class of interest.\n",
    "\n",
    "Strategies to handle imbalanced datasets:\n",
    "1. Resampling Techniques:\n",
    "   - **Oversampling**: Increase the number of instances in the minority class by duplicating existing samples or \n",
    "                        generating synthetic samples (e.g., using SMOTE).\n",
    "   - **Undersampling**: Reduce the number of instances in the majority class by randomly removing samples.\n",
    "   - **Combination**: Use a combination of oversampling and undersampling to balance the dataset.\n",
    "2. Algorithmic Approaches:\n",
    "    - **Cost-sensitive learning**: Modify the learning algorithm to take into account the class imbalance by \n",
    "                                    assigning different costs to misclassifications of different classes.\n",
    "    - **Ensemble methods**: Use techniques like bagging or boosting that can help improve performance on imbalanced datasets.\n",
    "3. Evaluation Metrics:\n",
    "   - Use metrics that are more informative than accuracy, such as precision, recall, \n",
    "   F1-score, and area under the ROC curve (AUC-ROC) to evaluate model performance on imbalanced datasets.\n",
    "\n",
    "\n",
    "'''"
   ]
  },
  {
   "cell_type": "code",
   "execution_count": null,
   "id": "13b8ba66",
   "metadata": {},
   "outputs": [],
   "source": [
    "'''\n",
    "1. Upsampling the minority class using SMOTE (Synthetic Minority Over-sampling Technique) \n",
    "or called Oversampling.\n",
    "2. Downsampling the majority class by randomly removing samples (Undersampling).\n",
    "or called Undersampling.\n",
    "'''\n",
    "import numpy as np\n",
    "import pandas as pd\n",
    "\n",
    "# create a sample imbalanced dataset\n",
    "np.random.seed(123) # for reproducibility\n",
    "n_samples = 1000\n",
    "class_0_ratio = 0.9 # 90% of the samples belong to class 0\n",
    "n_class_0 = int(n_samples * class_0_ratio)\n",
    "n_class_1 = n_samples - n_class_0 # 10% of the samples belong to class 1\n",
    "\n"
   ]
  },
  {
   "cell_type": "code",
   "execution_count": 3,
   "id": "dfc01509",
   "metadata": {},
   "outputs": [
    {
     "data": {
      "text/plain": [
       "(900, 100)"
      ]
     },
     "execution_count": 3,
     "metadata": {},
     "output_type": "execute_result"
    }
   ],
   "source": [
    "n_class_0, n_class_1"
   ]
  },
  {
   "cell_type": "code",
   "execution_count": 5,
   "id": "87e89ddf",
   "metadata": {},
   "outputs": [],
   "source": [
    "#create dataframe with imbalanced classes\n",
    "class_0 = pd.DataFrame({\n",
    "    'feature_1': np.random.normal(loc=0, scale=1, size=n_class_0),\n",
    "    'feature_2': np.random.normal(loc=0, scale=1, size=n_class_0),\n",
    "    'target':[0]*n_class_0\n",
    "})  \n",
    "\n",
    "class_1 = pd.DataFrame({\n",
    "    'feature_1': np.random.normal(loc=1, scale=1, size=n_class_1),\n",
    "    'feature_2': np.random.normal(loc=1, scale=1, size=n_class_1),\n",
    "    'target':[1]*n_class_1\n",
    "})  "
   ]
  },
  {
   "cell_type": "code",
   "execution_count": 7,
   "id": "2a9d8208",
   "metadata": {},
   "outputs": [
    {
     "data": {
      "text/html": [
       "<div>\n",
       "<style scoped>\n",
       "    .dataframe tbody tr th:only-of-type {\n",
       "        vertical-align: middle;\n",
       "    }\n",
       "\n",
       "    .dataframe tbody tr th {\n",
       "        vertical-align: top;\n",
       "    }\n",
       "\n",
       "    .dataframe thead th {\n",
       "        text-align: right;\n",
       "    }\n",
       "</style>\n",
       "<table border=\"1\" class=\"dataframe\">\n",
       "  <thead>\n",
       "    <tr style=\"text-align: right;\">\n",
       "      <th></th>\n",
       "      <th>feature_1</th>\n",
       "      <th>feature_2</th>\n",
       "      <th>target</th>\n",
       "    </tr>\n",
       "  </thead>\n",
       "  <tbody>\n",
       "    <tr>\n",
       "      <th>0</th>\n",
       "      <td>0.551302</td>\n",
       "      <td>-0.300232</td>\n",
       "      <td>0</td>\n",
       "    </tr>\n",
       "    <tr>\n",
       "      <th>1</th>\n",
       "      <td>0.419589</td>\n",
       "      <td>-0.632261</td>\n",
       "      <td>0</td>\n",
       "    </tr>\n",
       "    <tr>\n",
       "      <th>2</th>\n",
       "      <td>1.815652</td>\n",
       "      <td>-0.204317</td>\n",
       "      <td>0</td>\n",
       "    </tr>\n",
       "    <tr>\n",
       "      <th>3</th>\n",
       "      <td>-0.252750</td>\n",
       "      <td>0.213696</td>\n",
       "      <td>0</td>\n",
       "    </tr>\n",
       "    <tr>\n",
       "      <th>4</th>\n",
       "      <td>-0.292004</td>\n",
       "      <td>1.033878</td>\n",
       "      <td>0</td>\n",
       "    </tr>\n",
       "  </tbody>\n",
       "</table>\n",
       "</div>"
      ],
      "text/plain": [
       "   feature_1  feature_2  target\n",
       "0   0.551302  -0.300232       0\n",
       "1   0.419589  -0.632261       0\n",
       "2   1.815652  -0.204317       0\n",
       "3  -0.252750   0.213696       0\n",
       "4  -0.292004   1.033878       0"
      ]
     },
     "execution_count": 7,
     "metadata": {},
     "output_type": "execute_result"
    }
   ],
   "source": [
    "df = pd.concat([class_0, class_1], ignore_index=True)\n",
    "df.head()"
   ]
  },
  {
   "cell_type": "code",
   "execution_count": 8,
   "id": "aca3eece",
   "metadata": {},
   "outputs": [
    {
     "data": {
      "text/plain": [
       "target\n",
       "0    900\n",
       "1    100\n",
       "Name: count, dtype: int64"
      ]
     },
     "execution_count": 8,
     "metadata": {},
     "output_type": "execute_result"
    }
   ],
   "source": [
    "df['target'].value_counts()"
   ]
  },
  {
   "cell_type": "code",
   "execution_count": 10,
   "id": "30c8cefb",
   "metadata": {},
   "outputs": [],
   "source": [
    "# Oversampling or Upsampling the minority class\n",
    "df_minority = df[df['target'] == 1]\n",
    "df_majority = df[df['target'] == 0]\n"
   ]
  },
  {
   "cell_type": "code",
   "execution_count": 11,
   "id": "5b6137d6",
   "metadata": {},
   "outputs": [],
   "source": [
    "from sklearn.utils import resample\n",
    "df_minority_upsampled = resample(df_minority,replace=True,     # sample with replacement\n",
    "                                 n_samples=len(df_majority),\n",
    "                                 random_state=42)\n"
   ]
  },
  {
   "cell_type": "code",
   "execution_count": 14,
   "id": "c7a1a365",
   "metadata": {},
   "outputs": [
    {
     "data": {
      "text/html": [
       "<div>\n",
       "<style scoped>\n",
       "    .dataframe tbody tr th:only-of-type {\n",
       "        vertical-align: middle;\n",
       "    }\n",
       "\n",
       "    .dataframe tbody tr th {\n",
       "        vertical-align: top;\n",
       "    }\n",
       "\n",
       "    .dataframe thead th {\n",
       "        text-align: right;\n",
       "    }\n",
       "</style>\n",
       "<table border=\"1\" class=\"dataframe\">\n",
       "  <thead>\n",
       "    <tr style=\"text-align: right;\">\n",
       "      <th></th>\n",
       "      <th>feature_1</th>\n",
       "      <th>feature_2</th>\n",
       "      <th>target</th>\n",
       "    </tr>\n",
       "  </thead>\n",
       "  <tbody>\n",
       "    <tr>\n",
       "      <th>951</th>\n",
       "      <td>0.831202</td>\n",
       "      <td>1.185775</td>\n",
       "      <td>1</td>\n",
       "    </tr>\n",
       "    <tr>\n",
       "      <th>992</th>\n",
       "      <td>0.495097</td>\n",
       "      <td>1.046499</td>\n",
       "      <td>1</td>\n",
       "    </tr>\n",
       "    <tr>\n",
       "      <th>914</th>\n",
       "      <td>1.600053</td>\n",
       "      <td>0.232972</td>\n",
       "      <td>1</td>\n",
       "    </tr>\n",
       "    <tr>\n",
       "      <th>971</th>\n",
       "      <td>2.066104</td>\n",
       "      <td>-0.197674</td>\n",
       "      <td>1</td>\n",
       "    </tr>\n",
       "    <tr>\n",
       "      <th>960</th>\n",
       "      <td>0.182489</td>\n",
       "      <td>-1.039363</td>\n",
       "      <td>1</td>\n",
       "    </tr>\n",
       "  </tbody>\n",
       "</table>\n",
       "</div>"
      ],
      "text/plain": [
       "     feature_1  feature_2  target\n",
       "951   0.831202   1.185775       1\n",
       "992   0.495097   1.046499       1\n",
       "914   1.600053   0.232972       1\n",
       "971   2.066104  -0.197674       1\n",
       "960   0.182489  -1.039363       1"
      ]
     },
     "execution_count": 14,
     "metadata": {},
     "output_type": "execute_result"
    }
   ],
   "source": [
    "df_minority_upsampled.head()"
   ]
  },
  {
   "cell_type": "code",
   "execution_count": null,
   "id": "70b808f2",
   "metadata": {},
   "outputs": [
    {
     "data": {
      "text/plain": [
       "target\n",
       "0    900\n",
       "1    900\n",
       "Name: count, dtype: int64"
      ]
     },
     "execution_count": 18,
     "metadata": {},
     "output_type": "execute_result"
    }
   ],
   "source": [
    "df_upsampled = pd.concat([df_majority, df_minority_upsampled])\n",
    "df_upsampled['target'].value_counts()\n",
    "# now we have balanced classes 0 - 900 and 1 - 900\n",
    "\n"
   ]
  },
  {
   "cell_type": "code",
   "execution_count": 19,
   "id": "11335944",
   "metadata": {},
   "outputs": [],
   "source": [
    "# Downsampling or Undersampling the majority class\n",
    "df_majority_downsampled = resample(df_majority, \n",
    "                                    replace=False,    # sample without replacement\n",
    "                                    n_samples=len(df_minority), \n",
    "                                    random_state=42)  # reproducible results"
   ]
  },
  {
   "cell_type": "code",
   "execution_count": 20,
   "id": "27a88936",
   "metadata": {},
   "outputs": [
    {
     "data": {
      "text/html": [
       "<div>\n",
       "<style scoped>\n",
       "    .dataframe tbody tr th:only-of-type {\n",
       "        vertical-align: middle;\n",
       "    }\n",
       "\n",
       "    .dataframe tbody tr th {\n",
       "        vertical-align: top;\n",
       "    }\n",
       "\n",
       "    .dataframe thead th {\n",
       "        text-align: right;\n",
       "    }\n",
       "</style>\n",
       "<table border=\"1\" class=\"dataframe\">\n",
       "  <thead>\n",
       "    <tr style=\"text-align: right;\">\n",
       "      <th></th>\n",
       "      <th>feature_1</th>\n",
       "      <th>feature_2</th>\n",
       "      <th>target</th>\n",
       "    </tr>\n",
       "  </thead>\n",
       "  <tbody>\n",
       "    <tr>\n",
       "      <th>70</th>\n",
       "      <td>1.720920</td>\n",
       "      <td>-0.131240</td>\n",
       "      <td>0</td>\n",
       "    </tr>\n",
       "    <tr>\n",
       "      <th>827</th>\n",
       "      <td>-0.464899</td>\n",
       "      <td>0.253618</td>\n",
       "      <td>0</td>\n",
       "    </tr>\n",
       "    <tr>\n",
       "      <th>231</th>\n",
       "      <td>-0.969798</td>\n",
       "      <td>-1.096354</td>\n",
       "      <td>0</td>\n",
       "    </tr>\n",
       "    <tr>\n",
       "      <th>588</th>\n",
       "      <td>-0.704720</td>\n",
       "      <td>0.328862</td>\n",
       "      <td>0</td>\n",
       "    </tr>\n",
       "    <tr>\n",
       "      <th>39</th>\n",
       "      <td>1.012868</td>\n",
       "      <td>0.304062</td>\n",
       "      <td>0</td>\n",
       "    </tr>\n",
       "  </tbody>\n",
       "</table>\n",
       "</div>"
      ],
      "text/plain": [
       "     feature_1  feature_2  target\n",
       "70    1.720920  -0.131240       0\n",
       "827  -0.464899   0.253618       0\n",
       "231  -0.969798  -1.096354       0\n",
       "588  -0.704720   0.328862       0\n",
       "39    1.012868   0.304062       0"
      ]
     },
     "execution_count": 20,
     "metadata": {},
     "output_type": "execute_result"
    }
   ],
   "source": [
    "df_majority_downsampled.head()"
   ]
  },
  {
   "cell_type": "code",
   "execution_count": 21,
   "id": "d6dc4ee3",
   "metadata": {},
   "outputs": [
    {
     "data": {
      "text/plain": [
       "target\n",
       "0    100\n",
       "1    100\n",
       "Name: count, dtype: int64"
      ]
     },
     "execution_count": 21,
     "metadata": {},
     "output_type": "execute_result"
    }
   ],
   "source": [
    "df_downsampled = pd.concat([df_majority_downsampled, df_minority])\n",
    "df_downsampled['target'].value_counts()"
   ]
  }
 ],
 "metadata": {
  "kernelspec": {
   "display_name": "venv",
   "language": "python",
   "name": "python3"
  },
  "language_info": {
   "codemirror_mode": {
    "name": "ipython",
    "version": 3
   },
   "file_extension": ".py",
   "mimetype": "text/x-python",
   "name": "python",
   "nbconvert_exporter": "python",
   "pygments_lexer": "ipython3",
   "version": "3.10.0"
  }
 },
 "nbformat": 4,
 "nbformat_minor": 5
}
