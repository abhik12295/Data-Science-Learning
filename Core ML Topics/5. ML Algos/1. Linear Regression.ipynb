{
 "cells": [
  {
   "cell_type": "code",
   "execution_count": 1,
   "id": "4f4fcd69",
   "metadata": {},
   "outputs": [
    {
     "data": {
      "text/plain": [
       "'\\nLinear Regression:\\n\\nDefinition:\\nIt is a supervised learning algorithm used for predicting a continuous target variable based on one or more input variables(features). \\nIt assumes a linear relationship between the input features and the output.\\n\\nExample:\\nPRedicting the price of a house based on its size, number of bedrooms, and location.\\n\\nMathematical Representation:\\ny = β0 + β1*x1 + β2*x2 + ... + βn*xn + ε\\n\\nWhere:\\n- y is the predicted value (target variable)\\n- β0 is the y-intercept (bias term)\\n- β1, β2, ..., βn are the coefficients (weights) for each feature\\n- x1, x2, ..., xn are the input features\\n\\nor,\\nh(x) = θ0 + θ1*x1 + θ2*x2 + ... + θn*xn\\nwhere:\\n- h(x) is the predicted value\\n- θ0 is the y-intercept (bias term)\\n- θ1, θ2, ..., θn are the coefficients (weights) for each feature\\n- x1, x2, ..., xn are the input features\\n\\nor h(x) = w*x + b\\nwhere:\\n- h(x) is the predicted value\\n- w is the weight vector (coefficients)\\n- b is the bias term\\n- x is the input feature vector\\n'"
      ]
     },
     "execution_count": 1,
     "metadata": {},
     "output_type": "execute_result"
    }
   ],
   "source": [
    "'''\n",
    "Linear Regression:\n",
    "\n",
    "Definition:\n",
    "It is a supervised learning algorithm used for predicting a continuous target variable based on one or more input variables(features). \n",
    "It assumes a linear relationship between the input features and the output.\n",
    "\n",
    "Example:\n",
    "PRedicting the price of a house based on its size, number of bedrooms, and location.\n",
    "\n",
    "Mathematical Representation:\n",
    "y = β0 + β1*x1 + β2*x2 + ... + βn*xn + ε\n",
    "\n",
    "Where:\n",
    "- y is the predicted value (target variable)\n",
    "- β0 is the y-intercept (bias term)\n",
    "- β1, β2, ..., βn are the coefficients (weights) for each feature\n",
    "- x1, x2, ..., xn are the input features\n",
    "\n",
    "or,\n",
    "h(x) = θ0 + θ1*x1 + θ2*x2 + ... + θn*xn\n",
    "where:\n",
    "- h(x) is the predicted value\n",
    "- θ0 is the y-intercept (bias term)\n",
    "- θ1, θ2, ..., θn are the coefficients (weights) for each feature\n",
    "- x1, x2, ..., xn are the input features\n",
    "\n",
    "or h(x) = w*x + b\n",
    "where:\n",
    "- h(x) is the predicted value\n",
    "- w is the weight vector (coefficients)\n",
    "- b is the bias term\n",
    "- x is the input feature vector\n",
    "'''"
   ]
  },
  {
   "cell_type": "code",
   "execution_count": 2,
   "id": "768e4dc4",
   "metadata": {},
   "outputs": [
    {
     "data": {
      "text/plain": [
       "'\\n2 Types of Linear Regression:\\n1. Simple Linear Regression:\\n   - Involves one input feature (x) and one output variable (y).\\n   - The relationship is modeled as a straight line.\\n   - Example: Predicting the price of a car based on its age.   \\n2. Multiple Linear Regression:\\n   - Involves multiple input features (x1, x2, ..., xn) and\\n    one output variable (y).\\n    - The relationship is modeled as a hyperplane in higher dimensions.\\n\\n    \\n'"
      ]
     },
     "execution_count": 2,
     "metadata": {},
     "output_type": "execute_result"
    }
   ],
   "source": [
    "'''\n",
    "2 Types of Linear Regression:\n",
    "1. Simple Linear Regression:\n",
    "   - Involves one input feature (x) and one output variable (y).\n",
    "   - The relationship is modeled as a straight line.\n",
    "   - Example: Predicting the price of a car based on its age.   \n",
    "2. Multiple Linear Regression:\n",
    "   - Involves multiple input features (x1, x2, ..., xn) and\n",
    "    one output variable (y).\n",
    "    - The relationship is modeled as a hyperplane in higher dimensions.\n",
    "\n",
    "    \n",
    "'''"
   ]
  },
  {
   "cell_type": "code",
   "execution_count": 3,
   "id": "e4744e29",
   "metadata": {},
   "outputs": [
    {
     "data": {
      "text/plain": [
       "'\\nSimple Linear Regression:\\n\\nEquation:\\ny = β0 + β1*x + ε\\nWhere:\\n- y is the predicted value (target variable)\\n- β0 is the y-intercept (bias term)\\n- β1 is the coefficient (weight) for the feature x\\n- x is the input feature\\n\\nor the prediction function can be represented as:\\nhθ(x) = θ0 + θ1*x\\n\\nwhere:\\n- hθ(x) is the predicted value\\n- θ0 is the y-intercept (bias term)\\n- θ1 is the coefficient (weight) for the feature x or slope\\nExample:\\nPredicting the price of a car based on its age.\\n\\n'"
      ]
     },
     "execution_count": 3,
     "metadata": {},
     "output_type": "execute_result"
    }
   ],
   "source": [
    "'''\n",
    "Simple Linear Regression:\n",
    "\n",
    "Equation:\n",
    "y = β0 + β1*x + ε\n",
    "Where:\n",
    "- y is the predicted value (target variable)\n",
    "- β0 is the y-intercept (bias term)\n",
    "- β1 is the coefficient (weight) for the feature x\n",
    "- x is the input feature\n",
    "\n",
    "or the prediction function can be represented as:\n",
    "hθ(x) = θ0 + θ1*x\n",
    "\n",
    "where:\n",
    "- hθ(x) is the predicted value\n",
    "- θ0 is the y-intercept (bias term)\n",
    "- θ1 is the coefficient (weight) for the feature x or slope\n",
    "Example:\n",
    "Predicting the price of a car based on its age.\n",
    "\n",
    "'''"
   ]
  },
  {
   "cell_type": "code",
   "execution_count": 4,
   "id": "22d88ade",
   "metadata": {},
   "outputs": [
    {
     "data": {
      "text/plain": [
       "'\\nMultiple Linear Regression:\\nEquation:\\nh(x) = θ0 + θ1*x1 + θ2*x2 + ... + θn*xn\\nor h(θ) = θ^T * x\\n\\nWhere:\\n- h(x) is the predicted value (target variable)\\n- θ0 is the y-intercept (bias term)\\n- θ1, θ2, ..., θn are the coefficients (weights) for each feature\\n- x1, x2, ..., xn are the input features\\n- θ^T is the transpose of the parameter vector θ or dot product of θ and x\\nand θ is parameter vector containing the coefficients (weights) and bias term\\nand x in this case is a vector of input features.\\n\\nExample:\\nPredicting the price of a house based on its size, number of bedrooms, and location.\\n'"
      ]
     },
     "execution_count": 4,
     "metadata": {},
     "output_type": "execute_result"
    }
   ],
   "source": [
    "'''\n",
    "Multiple Linear Regression:\n",
    "Equation:\n",
    "h(x) = θ0 + θ1*x1 + θ2*x2 + ... + θn*xn\n",
    "or h(θ) = θ^T * x\n",
    "\n",
    "Where:\n",
    "- h(x) is the predicted value (target variable)\n",
    "- θ0 is the y-intercept (bias term)\n",
    "- θ1, θ2, ..., θn are the coefficients (weights) for each feature\n",
    "- x1, x2, ..., xn are the input features\n",
    "- θ^T is the transpose of the parameter vector θ or dot product of θ and x\n",
    "and θ is parameter vector containing the coefficients (weights) and bias term\n",
    "and x in this case is a vector of input features.\n",
    "\n",
    "Example:\n",
    "Predicting the price of a house based on its size, number of bedrooms, and location.\n",
    "'''"
   ]
  },
  {
   "cell_type": "code",
   "execution_count": 5,
   "id": "de21212f",
   "metadata": {},
   "outputs": [
    {
     "data": {
      "text/plain": [
       "\"\\nCost Function:\\nThe cost function for linear regression is used to measure how well the model's predictions match the actual target values.\\n\\nJ(θ) = (1/2m) * Σ(h(x_i) - y_i)^2\\nwhere:\\n- J(θ) is the cost function\\n- m is the number of data points (training examples)\\n- h(x_i) is the predicted value for the i-th example\\n- y_i is the actual target value for the i-th example\\n\\nThe most common cost function used is the Mean Squared Error (MSE), which is defined as:\\nMSE = (1/n) * Σ(y_i - h(x_i))^2\\nwhere:\\n- n is the number of training examples \\n- y_i is the actual target value for the i-th example\\n- h(x_i) is the predicted value for the i-th example\\n- Σ denotes the summation over all training examples\\nThe goal of linear regression is to minimize the cost function by adjusting the model parameters (weights and bias).\\n\\n\\n\""
      ]
     },
     "execution_count": 5,
     "metadata": {},
     "output_type": "execute_result"
    }
   ],
   "source": [
    "'''\n",
    "Cost Function:\n",
    "The cost function for linear regression is used to measure how well the model's predictions match the actual target values.\n",
    "\n",
    "J(θ) = (1/2m) * Σ(h(x_i) - y_i)^2\n",
    "where:\n",
    "- J(θ) is the cost function\n",
    "- m is the number of data points (training examples)\n",
    "- h(x_i) is the predicted value for the i-th example\n",
    "- y_i is the actual target value for the i-th example\n",
    "\n",
    "The most common cost function used is the Mean Squared Error (MSE), which is defined as:\n",
    "MSE = (1/n) * Σ(y_i - h(x_i))^2\n",
    "where:\n",
    "- n is the number of training examples \n",
    "- y_i is the actual target value for the i-th example\n",
    "- h(x_i) is the predicted value for the i-th example\n",
    "- Σ denotes the summation over all training examples\n",
    "The goal of linear regression is to minimize the cost function by adjusting the model parameters (weights and bias).\n",
    "\n",
    "\n",
    "'''"
   ]
  },
  {
   "cell_type": "code",
   "execution_count": 6,
   "id": "ae463d38",
   "metadata": {},
   "outputs": [
    {
     "name": "stdout",
     "output_type": "stream",
     "text": [
      "Final parameters (weights): [0.11071521 0.95129619]\n"
     ]
    },
    {
     "data": {
      "image/png": "[encoded data removed]",
      "text/plain": [
       "<Figure size 640x480 with 1 Axes>"
      ]
     },
     "metadata": {},
     "output_type": "display_data"
    }
   ],
   "source": [
    "'''\n",
    "Descent Gradient:\n",
    "The gradient descent algorithm is used to minimize the cost function in linear regression by iteratively \n",
    "updating the model parameters (weights and bias).\n",
    "The update rule for gradient descent is as follows:\n",
    "θ_j := θ_j - α * (1/m) * Σ(h(x_i) - y_i) * x_i\n",
    "where:\n",
    "- θ_j is the j-th parameter (weight or bias)\n",
    "- α is the learning rate (step size)\n",
    "- m is the number of training examples\n",
    "- h(x_i) is the predicted value for the i-th example\n",
    "- y_i is the actual target value for the i-th example\n",
    "- x_i is the input feature for the i-th example\n",
    "- Σ denotes the summation over all training examples\n",
    "'''\n",
    "# Descent Gradient:\n",
    "import numpy as np\n",
    "def gradient_descent(X, y, theta, alpha, num_iterations):\n",
    "    m = len(y)  # number of training examples\n",
    "    for _ in range(num_iterations):\n",
    "        predictions = X.dot(theta)  # h(x) = X * theta\n",
    "        errors = predictions - y  # h(x) - y\n",
    "        gradient = (1/m) * X.T.dot(errors)  # (1/m) * X^T * (h(x) - y)\n",
    "        theta -= alpha * gradient  # θ := θ - α * gradient\n",
    "    return theta\n",
    "# Example usage:\n",
    "X = np.array([[1, 1], [1, 2], [1, 3]])  # Input features (with bias term)\n",
    "y = np.array([1, 2, 3])  # Target variable\n",
    "theta_initial = np.array([0, 0], dtype=float)  # Initial parameters (weights) as float\n",
    "alpha = 0.01  # Learning rate\n",
    "num_iterations = 1000  # Number of iterations for gradient descent\n",
    "theta_final = gradient_descent(X, y, theta_initial, alpha, num_iterations)\n",
    "print(\"Final parameters (weights):\", theta_final)\n",
    "\n",
    "# plotting the descent gradient\n",
    "import matplotlib.pyplot as plt\n",
    "def plot_gradient_descent(X, y, theta):\n",
    "    plt.scatter(X[:, 1], y, color='blue', label='Data points')\n",
    "    plt.plot(X[:, 1], X.dot(theta), color='red', label='Linear regression line')\n",
    "    plt.xlabel('Feature (x)')\n",
    "    plt.ylabel('Target (y)')\n",
    "    plt.title('Gradient Descent for Linear Regression')\n",
    "    plt.legend()\n",
    "    plt.show()\n",
    "# Example usage of plotting function\n",
    "plot_gradient_descent(X, y, theta_final)\n"
   ]
  },
  {
   "cell_type": "code",
   "execution_count": 7,
   "id": "1bdc5f11",
   "metadata": {},
   "outputs": [
    {
     "data": {
      "image/png": "[encoded data removed]",
      "text/plain": [
       "<Figure size 640x480 with 1 Axes>"
      ]
     },
     "metadata": {},
     "output_type": "display_data"
    }
   ],
   "source": [
    "import numpy as np\n",
    "import matplotlib.pyplot as plt\n",
    "\n",
    "# Sample data for simple linear regression\n",
    "X = np.array([1, 2, 3, 4, 5])\n",
    "y = np.array([2, 4, 6, 8, 10])\n",
    "\n",
    "# Cost function J(beta_1) for a fixed beta_0 (for simplicity)\n",
    "def cost_function(beta_1, X, y, beta_0=0):\n",
    "    m = len(X)\n",
    "    y_pred = beta_0 + beta_1 * X\n",
    "    return (1/(2*m)) * np.sum((y_pred - y)**2)\n",
    "\n",
    "# Gradient descent\n",
    "def gradient_descent(X, y, beta_0=0, beta_1=0, alpha=0.01, iterations=100):\n",
    "    m = len(X)\n",
    "    cost_history = []\n",
    "    beta_1_history = []\n",
    "    \n",
    "    for _ in range(iterations):\n",
    "        y_pred = beta_0 + beta_1 * X\n",
    "        error = y_pred - y\n",
    "        beta_1 -= alpha * (1/m) * np.sum(error * X)\n",
    "        cost = cost_function(beta_1, X, y, beta_0)\n",
    "        cost_history.append(cost)\n",
    "        beta_1_history.append(beta_1)\n",
    "    \n",
    "    return beta_1_history, cost_history\n",
    "\n",
    "# Run gradient descent\n",
    "beta_1_history, cost_history = gradient_descent(X, y, alpha=0.01, iterations=50)\n",
    "\n",
    "# Generate points for the U-shaped cost function curve\n",
    "beta_1_range = np.linspace(-5, 10, 100)\n",
    "costs = [cost_function(b, X, y) for b in beta_1_range]\n",
    "\n",
    "# Plot\n",
    "plt.plot(beta_1_range, costs, label='Cost Function (J(β₁))', color='blue')\n",
    "plt.scatter(beta_1_history, cost_history, color='red', label='Gradient Descent Path', s=50)\n",
    "plt.plot(beta_1_history, cost_history, color='red', linestyle='--')\n",
    "plt.xlabel('β₁ (Slope)')\n",
    "plt.ylabel('Cost J(β₁)')\n",
    "plt.title('Gradient Descent on U-Shaped Cost Function')\n",
    "plt.legend()\n",
    "plt.grid(True)\n",
    "plt.show()"
   ]
  },
  {
   "cell_type": "code",
   "execution_count": 8,
   "id": "7117e66d",
   "metadata": {},
   "outputs": [
    {
     "data": {
      "text/plain": [
       "'\\nConvergence Algorithm:\\n- Definition:\\n    The convergence algorithm for linear regression is the process of iteratively \\n    adjusting the model parameters (weights and bias) to minimize the cost function until a stopping criterion is met.\\n    (weight is coefficient of the feature (slope)and bias is the y-intercept)\\n- The convergence algorithm for linear regression is typically implemented using gradient descent.\\n- The convergence is determined by checking if the change in the cost function \\n    or the parameters is below a specified threshold or if a maximum number of iterations is reached.\\n\\nMathematically, this can be represented as in derivative form:\\nθ_j := θ_j - α * ∂J(θ)/∂θ_j\\nwhere:\\n- θ_j is the j-th parameter (weight or bias)\\n- α is the learning rate (step size)\\n- ∂J(θ)/∂θ_j is the partial derivative of the cost function with respect to the j-th parameter\\n- The algorithm iteratively updates the parameters until convergence is achieved.\\n \\n\\nLearning Rate (α):\\n- The learning rate is a crucial hyperparameter in the gradient descent algorithm.\\n- It need to be add or subtracted to the parameters during each iteration, when derivative is positive or negative respectively.\\n- It determines the size of the steps taken towards the minimum of the cost function during each iteration.\\n- If the learning rate is too small, convergence will be very slow.\\n- If the learning rate is too large, the algorithm may overshoot the minimum or even diverge, causing the cost function to increase instead of decrease.\\n- A proper learning rate ensures that the cost function decreases smoothly and the algorithm converges efficiently.\\n- It is common practice to experiment with different learning rates or use techniques like learning rate schedules or adaptive learning rates to achieve optimal convergence.\\n\\n\\nthe algorithm stops when in sync with the convergence criteria :\\n- The change in the cost function is below a specified threshold (e.g., |J(θ_new) - J(θ_old)| < ε)\\n- The change in the parameters is below a specified threshold (e.g., ||θ_new - θ_old|| < ε)\\n- ε is a small positive number (tolerance level) \\n- A maximum number of iterations is reached (e.g., num_iterations < max_iter)\\n\\n- The algorithm also checks if the cost function is decreasing or not.\\nAlso, we have to check if the cost function is decreasing or not, if it is not decreasing then have to stop the algorithm.\\n- If the cost function is not decreasing, indicates that the learning rate is too high or the model is not converging properly.\\n\\n\\nStep-by-Step Process mathematically:\\n1. Initialize the parameters (weights and bias) to random values or zeros.\\n2. For each iteration:\\n    - Compute the predicted values using the current parameters: h(x) = X * θ\\n    - Calculate the cost function: J(θ) = (1/2m) * Σ(h(x_i) - y_i)^2\\n    - Compute the gradients: ∂J(θ)/∂θ_j = (1/m) * Σ(h(x_i) - y_i) * x_i\\n    - Update the parameters: θ_j := θ_j - α * ∂J(θ)/∂θ_j (we have to add or subtract the learning rate to the parameters depending on the sign of the derivative)\\n    - Check for convergence criteria (change in cost function or parameters)\\n\\n\\n'"
      ]
     },
     "execution_count": 8,
     "metadata": {},
     "output_type": "execute_result"
    }
   ],
   "source": [
    "'''\n",
    "Convergence Algorithm:\n",
    "- Definition:\n",
    "    The convergence algorithm for linear regression is the process of iteratively \n",
    "    adjusting the model parameters (weights and bias) to minimize the cost function until a stopping criterion is met.\n",
    "    (weight is coefficient of the feature (slope)and bias is the y-intercept)\n",
    "- The convergence algorithm for linear regression is typically implemented using gradient descent.\n",
    "- The convergence is determined by checking if the change in the cost function \n",
    "    or the parameters is below a specified threshold or if a maximum number of iterations is reached.\n",
    "\n",
    "Mathematically, this can be represented as in derivative form:\n",
    "θ_j := θ_j - α * ∂J(θ)/∂θ_j\n",
    "where:\n",
    "- θ_j is the j-th parameter (weight or bias)\n",
    "- α is the learning rate (step size)\n",
    "- ∂J(θ)/∂θ_j is the partial derivative of the cost function with respect to the j-th parameter\n",
    "- The algorithm iteratively updates the parameters until convergence is achieved.\n",
    " \n",
    "\n",
    "Learning Rate (α):\n",
    "- The learning rate is a crucial hyperparameter in the gradient descent algorithm.\n",
    "- It need to be add or subtracted to the parameters during each iteration, when derivative is positive or negative respectively.\n",
    "- It determines the size of the steps taken towards the minimum of the cost function during each iteration.\n",
    "- If the learning rate is too small, convergence will be very slow.\n",
    "- If the learning rate is too large, the algorithm may overshoot the minimum or even diverge, causing the cost function to increase instead of decrease.\n",
    "- A proper learning rate ensures that the cost function decreases smoothly and the algorithm converges efficiently.\n",
    "- It is common practice to experiment with different learning rates or use techniques like learning rate schedules or adaptive learning rates to achieve optimal convergence.\n",
    "\n",
    "\n",
    "the algorithm stops when in sync with the convergence criteria :\n",
    "- The change in the cost function is below a specified threshold (e.g., |J(θ_new) - J(θ_old)| < ε)\n",
    "- The change in the parameters is below a specified threshold (e.g., ||θ_new - θ_old|| < ε)\n",
    "- ε is a small positive number (tolerance level) \n",
    "- A maximum number of iterations is reached (e.g., num_iterations < max_iter)\n",
    "\n",
    "- The algorithm also checks if the cost function is decreasing or not.\n",
    "Also, we have to check if the cost function is decreasing or not, if it is not decreasing then have to stop the algorithm.\n",
    "- If the cost function is not decreasing, indicates that the learning rate is too high or the model is not converging properly.\n",
    "\n",
    "\n",
    "Step-by-Step Process mathematically:\n",
    "1. Initialize the parameters (weights and bias) to random values or zeros.\n",
    "2. For each iteration:\n",
    "    - Compute the predicted values using the current parameters: h(x) = X * θ\n",
    "    - Calculate the cost function: J(θ) = (1/2m) * Σ(h(x_i) - y_i)^2\n",
    "    - Compute the gradients: ∂J(θ)/∂θ_j = (1/m) * Σ(h(x_i) - y_i) * x_i\n",
    "    - Update the parameters: θ_j := θ_j - α * ∂J(θ)/∂θ_j (we have to add or subtract the learning rate to the parameters depending on the sign of the derivative)\n",
    "    - Check for convergence criteria (change in cost function or parameters)\n",
    "\n",
    "\n",
    "'''"
   ]
  },
  {
   "cell_type": "code",
   "execution_count": 9,
   "id": "4f1fac17",
   "metadata": {},
   "outputs": [
    {
     "data": {
      "text/plain": [
       "'\\nMultiple Linear Regression:\\nDefinition:\\nIt is an extension of simple linear regression that involves multiple input features (x1, x2, ..., xn) to predict a continuous target variable (y).\\nIt models the relationship between the input features and the output as a hyperplane in higher dimensions.\\nEquation:\\nh(x) = θ0 + θ1*x1 + θ2*x2 + ... + θn*xn\\nor h(θ) = θ^T * x\\nWhere:\\n- h(x) is the predicted value (target variable)\\n- θ0 is the y-intercept (bias term)\\n- θ1, θ2, ..., θn are the coefficients (weights) for each feature or slope\\n- x1, x2, ..., xn are the input features\\n- θ^T is the transpose of the parameter vector θ or dot product of θ and x\\nand θ is parameter vector containing the coefficients (weights) and bias term\\nand x in this case is a vector of input features.\\n'"
      ]
     },
     "execution_count": 9,
     "metadata": {},
     "output_type": "execute_result"
    }
   ],
   "source": [
    "'''\n",
    "Multiple Linear Regression:\n",
    "Definition:\n",
    "It is an extension of simple linear regression that involves multiple input features (x1, x2, ..., xn) to predict a continuous target variable (y).\n",
    "It models the relationship between the input features and the output as a hyperplane in higher dimensions.\n",
    "Equation:\n",
    "h(x) = θ0 + θ1*x1 + θ2*x2 + ... + θn*xn\n",
    "or h(θ) = θ^T * x\n",
    "Where:\n",
    "- h(x) is the predicted value (target variable)\n",
    "- θ0 is the y-intercept (bias term)\n",
    "- θ1, θ2, ..., θn are the coefficients (weights) for each feature or slope\n",
    "- x1, x2, ..., xn are the input features\n",
    "- θ^T is the transpose of the parameter vector θ or dot product of θ and x\n",
    "and θ is parameter vector containing the coefficients (weights) and bias term\n",
    "and x in this case is a vector of input features.\n",
    "'''"
   ]
  },
  {
   "cell_type": "code",
   "execution_count": 10,
   "id": "4d739d38",
   "metadata": {},
   "outputs": [
    {
     "data": {
      "text/plain": [
       "\"\\nPerformance Metrics:\\nDefinition:\\nPerformance metrics are used to evaluate the performance of a linear regression model by \\nmeasuring how well the model's predictions match the actual target values.\\nCommon performance metrics for linear regression include:\\n1. Mean Squared Error (MSE):\\n   - Measures the average squared difference between predicted and actual values.\\n   - Formula: MSE = (1/n) * Σ(y_i - h(x_i))^2\\n   - Lower MSE indicates better model performance.\\n\\n2. R-squared (R²):\\n   - Represents the proportion of variance in the target variable that is explained by the input features.\\n    - Formula: R² = 1 - (SS_res / SS_tot)\\n    - Where SS_res is the sum of squared residuals (errors) and SS_tot is the total sum of squares.\\n    - SS_res = Σ(y_i - h(x_i))^2\\n    - SS_tot = Σ(y_i - y_mean)^2, where y_mean is the mean of the actual target values.\\n    - R-squared values range from 0 to 1, with higher values indicating better model fit.\\n\\n3. Adjusted R-squared:\\n    - Adjusts R-squared for the number of input features in the model.\\n    - Useful for comparing models with different numbers of features.\\n    - Formula: Adjusted R² = 1 - [(1 - R²) * (n - 1) / (n - p - 1)]\\n    - Where n is the number of data points and p is the number of input features.\\n\\n4. Root Mean Squared Error (RMSE):\\n    - The square root of the mean squared error.\\n    - Formula: RMSE = sqrt(MSE)\\n    - Provides an interpretable measure of the average prediction error in the same units as the target variable.\\n\""
      ]
     },
     "execution_count": 10,
     "metadata": {},
     "output_type": "execute_result"
    }
   ],
   "source": [
    "'''\n",
    "Performance Metrics:\n",
    "Definition:\n",
    "Performance metrics are used to evaluate the performance of a linear regression model by \n",
    "measuring how well the model's predictions match the actual target values.\n",
    "Common performance metrics for linear regression include:\n",
    "1. Mean Squared Error (MSE):\n",
    "   - Measures the average squared difference between predicted and actual values.\n",
    "   - Formula: MSE = (1/n) * Σ(y_i - h(x_i))^2\n",
    "   - Lower MSE indicates better model performance.\n",
    "\n",
    "2. R-squared (R²):\n",
    "   - Represents the proportion of variance in the target variable that is explained by the input features.\n",
    "    - Formula: R² = 1 - (SS_res / SS_tot)\n",
    "    - Where SS_res is the sum of squared residuals (errors) and SS_tot is the total sum of squares.\n",
    "    - SS_res = Σ(y_i - h(x_i))^2\n",
    "    - SS_tot = Σ(y_i - y_mean)^2, where y_mean is the mean of the actual target values.\n",
    "    - R-squared values range from 0 to 1, with higher values indicating better model fit.\n",
    "\n",
    "3. Adjusted R-squared:\n",
    "    - Adjusts R-squared for the number of input features in the model.\n",
    "    - Useful for comparing models with different numbers of features.\n",
    "    - Formula: Adjusted R² = 1 - [(1 - R²) * (n - 1) / (n - p - 1)]\n",
    "    - Where n is the number of data points and p is the number of input features.\n",
    "\n",
    "4. Root Mean Squared Error (RMSE):\n",
    "    - The square root of the mean squared error.\n",
    "    - Formula: RMSE = sqrt(MSE)\n",
    "    - Provides an interpretable measure of the average prediction error in the same units as the target variable.\n",
    "'''"
   ]
  },
  {
   "cell_type": "code",
   "execution_count": 11,
   "id": "5af10412",
   "metadata": {},
   "outputs": [
    {
     "data": {
      "text/plain": [
       "\"\\nMSE, MSA & RMSE\\n\\nMSE (Mean Squared Error):\\n- Definition: MSE is a performance metric that measures the average squared difference between predicted and actual values.\\n- Formula: MSE = (1/n) * Σ(y_i - h(x_i))^2\\n- Where:\\n- n is the number of training examples\\n- y_i is the actual target value for the i-th example\\n- h(x_i) is the predicted value for the i-th example\\n- Interpretation: Lower MSE indicates better model performance, as it means the predictions are closer to\\nthe actual values. It is sensitive to outliers due to the squaring of errors.\\nMSE is commonly used in regression tasks to evaluate the accuracy of the model's predictions.\\n\\nMSE impact on cost function:\\n- The cost function for linear regression is often defined as the MSE, which is minimized during the training process.\\n- The goal of the gradient descent algorithm is to find the parameters (weights and bias) that minimize the MSE.\\n- The MSE is calculated at each iteration of the gradient descent algorithm to monitor the convergence of the model.\\n- A lower MSE indicates that the model is learning and improving its predictions over iterations.\\n\\nAdvantages of MSE:\\n- Easy to Compute: MSE is straightforward to calculate and implement in practice.\\n- Differentiable: MSE is differentiable, which makes it suitable for optimization algorithms like gradient descent.\\n- Penalizes Large Errors: MSE penalizes larger errors more than smaller ones due to the squaring of the differences, which can be beneficial in certain scenarios.\\n- Provides a Single Value: MSE provides a single value that summarizes the overall performance of the model, making it easy to compare different models or configurations.\\n- Convergence: MSE is often used as the cost function in gradient descent algorithms, allowing for efficient convergence to optimal parameters.\\n- One global and local minimum: MSE has a single global minimum, which makes it easier to optimize compared to other metrics that may have multiple local minima.\\n\\n\\nDisadvantages of MSE:\\n- Sensitivity to Outliers: MSE is sensitive to outliers because it squares the errors, which can disproportionately affect the overall error metric.\\n- Non-Interpretable Units: MSE is in squared units of the target variable, making it less interpretable compared to other metrics like RMSE.\\n- Not Robust: MSE can be influenced by extreme values, leading to misleading conclusions about model performance.\\n- It is important to consider the context of the problem and the distribution of the data when using MSE as a performance metric.\\n\\nMSA (Mean Squared Absolute Error):\\n- Definition: MSA is a performance metric that measures the average squared absolute difference between predicted and actual values.\\n- Formula: MSA = (1/n) * Σ|y_i - h(x_i)|^2\\n- Where:\\n- n is the number of training examples\\n- y_i is the actual target value for the i-th example\\n- h(x_i) is the predicted value for the i-th example\\n- Interpretation: MSA is similar to MSE but uses absolute differences instead of squared differences.\\n- It is less sensitive to outliers compared to MSE, as it does not square the errors.\\n- MSA is less commonly used than MSE but can be useful in certain scenarios where absolute differences are more relevant.\\n\\nAdvantages of MSA:\\n- Robust to Outliers: MSA is less sensitive to outliers compared to MSE, as it does not square the errors.\\n- Interpretable Units: MSA is in the same units as the target variable, making it easier to interpret compared to MSE.\\n\\nDisadvantages of MSA:\\n- Non-Differentiable: MSA is not differentiable at zero, which can make it challenging to optimize using gradient-based methods.\\n- Convergence: MSA may not converge as smoothly as MSE in gradient descent algorithms due to its non-differentiable nature at zero.\\n- Less Common: MSA is less commonly used than MSE, which may limit its applicability\\n\\nRMSE (Root Mean Squared Error):\\n- Definition: RMSE is a performance metric that measures the square root of the average squared difference\\nbetween predicted and actual values.\\n- Formula: RMSE = sqrt(MSE)\\n- Where MSE is the Mean Squared Error calculated as described above.\\n- Interpretation: RMSE provides an interpretable measure of the average prediction error in the same units as the target variable.\\n- It is commonly used in regression tasks to evaluate the accuracy of the model's predictions.\\n- RMSE is often preferred over MSE because it is in the same scale as the target variable, making it easier to interpret.\\n\\nAdvantages of RMSE:\\n- Interpretable Units: RMSE is in the same units as the target variable, making it easier to interpret compared to MSE.\\n- Penalizes Large Errors: RMSE penalizes larger errors more than smaller ones due to the squaring of the differences, similar to MSE.\\n- Differentiable: RMSE is differentiable, which makes it suitable for optimization algorithms like gradient descent.\\n\\ndisadvantages of RMSE:\\n- not robust to outliers: RMSE is sensitive to outliers because it squares the errors, which can disproportionately affect the overall error metric.\\n- Non-Linear: RMSE is a non-linear transformation of MSE, which can complicate the interpretation of the results.\\n\""
      ]
     },
     "execution_count": 11,
     "metadata": {},
     "output_type": "execute_result"
    }
   ],
   "source": [
    "'''\n",
    "MSE, MSA & RMSE\n",
    "\n",
    "MSE (Mean Squared Error):\n",
    "- Definition: MSE is a performance metric that measures the average squared difference between predicted and actual values.\n",
    "- Formula: MSE = (1/n) * Σ(y_i - h(x_i))^2\n",
    "- Where:\n",
    "- n is the number of training examples\n",
    "- y_i is the actual target value for the i-th example\n",
    "- h(x_i) is the predicted value for the i-th example\n",
    "- Interpretation: Lower MSE indicates better model performance, as it means the predictions are closer to\n",
    "the actual values. It is sensitive to outliers due to the squaring of errors.\n",
    "MSE is commonly used in regression tasks to evaluate the accuracy of the model's predictions.\n",
    "\n",
    "MSE impact on cost function:\n",
    "- The cost function for linear regression is often defined as the MSE, which is minimized during the training process.\n",
    "- The goal of the gradient descent algorithm is to find the parameters (weights and bias) that minimize the MSE.\n",
    "- The MSE is calculated at each iteration of the gradient descent algorithm to monitor the convergence of the model.\n",
    "- A lower MSE indicates that the model is learning and improving its predictions over iterations.\n",
    "\n",
    "Advantages of MSE:\n",
    "- Easy to Compute: MSE is straightforward to calculate and implement in practice.\n",
    "- Differentiable: MSE is differentiable, which makes it suitable for optimization algorithms like gradient descent.\n",
    "- Penalizes Large Errors: MSE penalizes larger errors more than smaller ones due to the squaring of the differences, which can be beneficial in certain scenarios.\n",
    "- Provides a Single Value: MSE provides a single value that summarizes the overall performance of the model, making it easy to compare different models or configurations.\n",
    "- Convergence: MSE is often used as the cost function in gradient descent algorithms, allowing for efficient convergence to optimal parameters.\n",
    "- One global and local minimum: MSE has a single global minimum, which makes it easier to optimize compared to other metrics that may have multiple local minima.\n",
    "\n",
    "\n",
    "Disadvantages of MSE:\n",
    "- Sensitivity to Outliers: MSE is sensitive to outliers because it squares the errors, which can disproportionately affect the overall error metric.\n",
    "- Non-Interpretable Units: MSE is in squared units of the target variable, making it less interpretable compared to other metrics like RMSE.\n",
    "- Not Robust: MSE can be influenced by extreme values, leading to misleading conclusions about model performance.\n",
    "- It is important to consider the context of the problem and the distribution of the data when using MSE as a performance metric.\n",
    "\n",
    "MSA (Mean Squared Absolute Error):\n",
    "- Definition: MSA is a performance metric that measures the average squared absolute difference between predicted and actual values.\n",
    "- Formula: MSA = (1/n) * Σ|y_i - h(x_i)|^2\n",
    "- Where:\n",
    "- n is the number of training examples\n",
    "- y_i is the actual target value for the i-th example\n",
    "- h(x_i) is the predicted value for the i-th example\n",
    "- Interpretation: MSA is similar to MSE but uses absolute differences instead of squared differences.\n",
    "- It is less sensitive to outliers compared to MSE, as it does not square the errors.\n",
    "- MSA is less commonly used than MSE but can be useful in certain scenarios where absolute differences are more relevant.\n",
    "\n",
    "Advantages of MSA:\n",
    "- Robust to Outliers: MSA is less sensitive to outliers compared to MSE, as it does not square the errors.\n",
    "- Interpretable Units: MSA is in the same units as the target variable, making it easier to interpret compared to MSE.\n",
    "\n",
    "Disadvantages of MSA:\n",
    "- Non-Differentiable: MSA is not differentiable at zero, which can make it challenging to optimize using gradient-based methods.\n",
    "- Convergence: MSA may not converge as smoothly as MSE in gradient descent algorithms due to its non-differentiable nature at zero.\n",
    "- Less Common: MSA is less commonly used than MSE, which may limit its applicability\n",
    "\n",
    "RMSE (Root Mean Squared Error):\n",
    "- Definition: RMSE is a performance metric that measures the square root of the average squared difference\n",
    "between predicted and actual values.\n",
    "- Formula: RMSE = sqrt(MSE)\n",
    "- Where MSE is the Mean Squared Error calculated as described above.\n",
    "- Interpretation: RMSE provides an interpretable measure of the average prediction error in the same units as the target variable.\n",
    "- It is commonly used in regression tasks to evaluate the accuracy of the model's predictions.\n",
    "- RMSE is often preferred over MSE because it is in the same scale as the target variable, making it easier to interpret.\n",
    "\n",
    "Advantages of RMSE:\n",
    "- Interpretable Units: RMSE is in the same units as the target variable, making it easier to interpret compared to MSE.\n",
    "- Penalizes Large Errors: RMSE penalizes larger errors more than smaller ones due to the squaring of the differences, similar to MSE.\n",
    "- Differentiable: RMSE is differentiable, which makes it suitable for optimization algorithms like gradient descent.\n",
    "\n",
    "disadvantages of RMSE:\n",
    "- not robust to outliers: RMSE is sensitive to outliers because it squares the errors, which can disproportionately affect the overall error metric.\n",
    "- Non-Linear: RMSE is a non-linear transformation of MSE, which can complicate the interpretation of the results.\n",
    "'''"
   ]
  },
  {
   "cell_type": "code",
   "execution_count": 12,
   "id": "c3786799",
   "metadata": {},
   "outputs": [
    {
     "data": {
      "text/plain": [
       "\"\\nTraining Dataset, Testing Dataset, Validation Dataset:\\n- Training Dataset:\\n    - The training dataset is used to train the linear regression model.\\n    - It contains input features (X) and corresponding target values (y).\\n    - The model learns the relationship between the input features and the target variable by adjusting the parameters (weights and bias) to minimize the cost function.\\n- Testing Dataset:\\n    - The testing dataset is used to evaluate the performance of the trained model.\\n    - It contains input features (X_test) and corresponding target values (y_test).\\n    - The model's predictions on the testing dataset are compared to the actual target values to assess its accuracy and generalization ability.    \\n- Validation Dataset:\\n    - The validation dataset is used to tune the hyperparameters of the model and prevent overfitting.\\n    - It contains input features (X_val) and corresponding target values (y_val).\\n- The model's performance on the validation dataset is monitored during training, and adjustments are made to the hyperparameters (e.g., learning rate, regularization) to improve the model's performance.\\n- The validation dataset helps in selecting the best model configuration before final evaluation on the testing dataset.\\n\""
      ]
     },
     "execution_count": 12,
     "metadata": {},
     "output_type": "execute_result"
    }
   ],
   "source": [
    "'''\n",
    "Training Dataset, Testing Dataset, Validation Dataset:\n",
    "- Training Dataset:\n",
    "    - The training dataset is used to train the linear regression model.\n",
    "    - It contains input features (X) and corresponding target values (y).\n",
    "    - The model learns the relationship between the input features and the target variable by adjusting the parameters (weights and bias) to minimize the cost function.\n",
    "- Testing Dataset:\n",
    "    - The testing dataset is used to evaluate the performance of the trained model.\n",
    "    - It contains input features (X_test) and corresponding target values (y_test).\n",
    "    - The model's predictions on the testing dataset are compared to the actual target values to assess its accuracy and generalization ability.    \n",
    "- Validation Dataset:\n",
    "    - The validation dataset is used to tune the hyperparameters of the model and prevent overfitting.\n",
    "    - It contains input features (X_val) and corresponding target values (y_val).\n",
    "- The model's performance on the validation dataset is monitored during training, and adjustments are made to the hyperparameters (e.g., learning rate, regularization) to improve the model's performance.\n",
    "- The validation dataset helps in selecting the best model configuration before final evaluation on the testing dataset.\n",
    "'''"
   ]
  },
  {
   "cell_type": "code",
   "execution_count": 13,
   "id": "6586a531",
   "metadata": {},
   "outputs": [
    {
     "data": {
      "text/plain": [
       "'\\n\\nOverfitting and Underfitting:\\n\\nOverfitting:\\n- Definition: Overfitting occurs when a model learns the training data too well, capturing noise and outliers instead of the underlying pattern.\\n- Symptoms: The model performs well on the training dataset but poorly on the testing dataset, indicating that it has memorized the training data rather than generalizing to new data.\\n- Causes: Overfitting can occur when the model is too complex (e.g., too many features or high-degree polynomial regression) or when there is insufficient training data.\\n- Solutions: To prevent overfitting, techniques such as regularization (L1 or L2 regularization), cross-validation, and early stopping can be employed.\\n\\nUnderfitting:\\n- Definition: Underfitting occurs when a model is too simple to capture the underlying pattern in the data.\\n- Symptoms: The model performs poorly on both the training and testing datasets, indicating that it has not learned the relationship between the input features and the target variable.\\n- Causes: Underfitting can occur when the model is too simplistic (e.g., linear regression with few features) or when the training data is insufficient.\\n- Solutions: To address underfitting, the model can be made more complex by adding more features, increasing the degree of polynomial regression, or using more advanced algorithms.\\n\\nIn terms of Bias-Variance Tradeoff (table form):\\n| Aspect                | Overfitting                          | Underfitting                         |\\n|-----------------------|--------------------------------------|--------------------------------------|\\n| Bias                  | Low                                  | High                                 |\\n| Variance              | High                                 | Low                                  |\\n| Model Complexity      | Too complex                          | Too simple                           |\\n| Training Performance  | Excellent (low error)               | Poor (high error)                    |\\n| Testing Performance   | Poor (high error)                   | Poor (high error)                    |\\n- Solutions             | Regularization, Cross-validation    | Add features, Increase complexity    |\\n\\nFor Generalized model (Bias-Variance Tradeoff) table form:\\n| Aspect                | Generalized Model                    |\\n|-----------------------|--------------------------------------|\\n| Bias                  | Moderate                             |\\n| Variance              | Moderate                             |\\n| Model Complexity      | Balanced                             |\\n| Training Performance  | Good (low error)                     |\\n| Testing Performance   | Good (low error)                     |\\n\\n'"
      ]
     },
     "execution_count": 13,
     "metadata": {},
     "output_type": "execute_result"
    }
   ],
   "source": [
    "'''\n",
    "\n",
    "Overfitting and Underfitting:\n",
    "\n",
    "Overfitting:\n",
    "- Definition: Overfitting occurs when a model learns the training data too well, capturing noise and outliers instead of the underlying pattern.\n",
    "- Symptoms: The model performs well on the training dataset but poorly on the testing dataset, indicating that it has memorized the training data rather than generalizing to new data.\n",
    "- Causes: Overfitting can occur when the model is too complex (e.g., too many features or high-degree polynomial regression) or when there is insufficient training data.\n",
    "- Solutions: To prevent overfitting, techniques such as regularization (L1 or L2 regularization), cross-validation, and early stopping can be employed.\n",
    "\n",
    "Underfitting:\n",
    "- Definition: Underfitting occurs when a model is too simple to capture the underlying pattern in the data.\n",
    "- Symptoms: The model performs poorly on both the training and testing datasets, indicating that it has not learned the relationship between the input features and the target variable.\n",
    "- Causes: Underfitting can occur when the model is too simplistic (e.g., linear regression with few features) or when the training data is insufficient.\n",
    "- Solutions: To address underfitting, the model can be made more complex by adding more features, increasing the degree of polynomial regression, or using more advanced algorithms.\n",
    "\n",
    "In terms of Bias-Variance Tradeoff (table form):\n",
    "| Aspect                | Overfitting                          | Underfitting                         |\n",
    "|-----------------------|--------------------------------------|--------------------------------------|\n",
    "| Bias                  | Low                                  | High                                 |\n",
    "| Variance              | High                                 | Low                                  |\n",
    "| Model Complexity      | Too complex                          | Too simple                           |\n",
    "| Training Performance  | Excellent (low error)               | Poor (high error)                    |\n",
    "| Testing Performance   | Poor (high error)                   | Poor (high error)                    |\n",
    "- Solutions             | Regularization, Cross-validation    | Add features, Increase complexity    |\n",
    "\n",
    "For Generalized model (Bias-Variance Tradeoff) table form:\n",
    "| Aspect                | Generalized Model                    |\n",
    "|-----------------------|--------------------------------------|\n",
    "| Bias                  | Moderate                             |\n",
    "| Variance              | Moderate                             |\n",
    "| Model Complexity      | Balanced                             |\n",
    "| Training Performance  | Good (low error)                     |\n",
    "| Testing Performance   | Good (low error)                     |\n",
    "\n",
    "'''"
   ]
  },
  {
   "cell_type": "code",
   "execution_count": 14,
   "id": "ad35c1ec",
   "metadata": {},
   "outputs": [
    {
     "data": {
      "image/png": "[encoded data removed]",
      "text/plain": [
       "<Figure size 1800x500 with 3 Axes>"
      ]
     },
     "metadata": {},
     "output_type": "display_data"
    },
    {
     "name": "stdout",
     "output_type": "stream",
     "text": [
      "MSE - Underfitting (Linear) - Train: 8.955340788511009\n",
      "MSE - Underfitting (Linear) - Test : 10.48315851398471\n",
      "\n",
      "MSE - Good Fit (Poly Deg 2) - Train: 7.8441103506375125\n",
      "MSE - Good Fit (Poly Deg 2) - Test : 7.782838411951232\n",
      "\n",
      "MSE - Overfitting (Poly Deg 15) - Train: 7.4182817935316905\n",
      "MSE - Overfitting (Poly Deg 15) - Test : 10.351311279545637\n"
     ]
    }
   ],
   "source": [
    "import numpy as np\n",
    "import matplotlib.pyplot as plt\n",
    "from sklearn.linear_model import LinearRegression\n",
    "from sklearn.preprocessing import PolynomialFeatures\n",
    "from sklearn.metrics import mean_squared_error\n",
    "from sklearn.model_selection import train_test_split\n",
    "\n",
    "# Generate synthetic data\n",
    "np.random.seed(0)\n",
    "X = np.linspace(0, 10, 100).reshape(-1, 1)\n",
    "y = 3 * X.flatten() + 5 + np.random.normal(0, 3, size=100)\n",
    "\n",
    "# Split data into 80% train, 20% test\n",
    "X_train, X_test, y_train, y_test = train_test_split(X, y, test_size=0.2, random_state=42)\n",
    "\n",
    "# ========== UNDERFITTING (Linear Regression) ==========\n",
    "linear_model = LinearRegression()\n",
    "linear_model.fit(X_train, y_train)\n",
    "y_train_pred_linear = linear_model.predict(X_train)\n",
    "y_test_pred_linear = linear_model.predict(X_test)\n",
    "\n",
    "# ========== GOOD FIT (Polynomial Degree 2) ==========\n",
    "poly2 = PolynomialFeatures(degree=2)\n",
    "X_train_poly2 = poly2.fit_transform(X_train)\n",
    "X_test_poly2 = poly2.transform(X_test)\n",
    "\n",
    "good_model = LinearRegression()\n",
    "good_model.fit(X_train_poly2, y_train)\n",
    "y_train_pred_good = good_model.predict(X_train_poly2)\n",
    "y_test_pred_good = good_model.predict(X_test_poly2)\n",
    "\n",
    "# ========== OVERFITTING (Polynomial Degree 15) ==========\n",
    "poly15 = PolynomialFeatures(degree=15)\n",
    "X_train_poly15 = poly15.fit_transform(X_train)\n",
    "X_test_poly15 = poly15.transform(X_test)\n",
    "\n",
    "overfit_model = LinearRegression()\n",
    "overfit_model.fit(X_train_poly15, y_train)\n",
    "y_train_pred_overfit = overfit_model.predict(X_train_poly15)\n",
    "y_test_pred_overfit = overfit_model.predict(X_test_poly15)\n",
    "\n",
    "# ========== PLOTS ==========\n",
    "plt.figure(figsize=(18, 5))\n",
    "\n",
    "# Underfitting\n",
    "plt.subplot(1, 3, 1)\n",
    "plt.scatter(X_train, y_train, color='gray', label='Train')\n",
    "plt.scatter(X_test, y_test, color='orange', label='Test')\n",
    "plt.plot(X_train, y_train_pred_linear, color='red', label='Model')\n",
    "plt.title(\"Underfitting (Linear)\")\n",
    "plt.legend()\n",
    "\n",
    "# Good Fit\n",
    "plt.subplot(1, 3, 2)\n",
    "plt.scatter(X_train, y_train, color='gray', label='Train')\n",
    "plt.scatter(X_test, y_test, color='orange', label='Test')\n",
    "plt.plot(np.sort(X_train[:, 0]), \n",
    "         good_model.predict(poly2.transform(np.sort(X_train, axis=0))), \n",
    "         color='green', label='Model')\n",
    "plt.title(\"Good Fit (Polynomial Degree 2)\")\n",
    "plt.legend()\n",
    "\n",
    "# Overfitting\n",
    "plt.subplot(1, 3, 3)\n",
    "plt.scatter(X_train, y_train, color='gray', label='Train')\n",
    "plt.scatter(X_test, y_test, color='orange', label='Test')\n",
    "plt.plot(np.sort(X_train[:, 0]), \n",
    "         overfit_model.predict(poly15.transform(np.sort(X_train, axis=0))), \n",
    "         color='blue', label='Model')\n",
    "plt.title(\"Overfitting (Polynomial Degree 15)\")\n",
    "plt.legend()\n",
    "\n",
    "plt.tight_layout()\n",
    "plt.show()\n",
    "\n",
    "# ========== MSE ==========\n",
    "print(\"MSE - Underfitting (Linear) - Train:\", mean_squared_error(y_train, y_train_pred_linear))\n",
    "print(\"MSE - Underfitting (Linear) - Test :\", mean_squared_error(y_test, y_test_pred_linear))\n",
    "\n",
    "print(\"\\nMSE - Good Fit (Poly Deg 2) - Train:\", mean_squared_error(y_train, y_train_pred_good))\n",
    "print(\"MSE - Good Fit (Poly Deg 2) - Test :\", mean_squared_error(y_test, y_test_pred_good))\n",
    "\n",
    "print(\"\\nMSE - Overfitting (Poly Deg 15) - Train:\", mean_squared_error(y_train, y_train_pred_overfit))\n",
    "print(\"MSE - Overfitting (Poly Deg 15) - Test :\", mean_squared_error(y_test, y_test_pred_overfit))\n"
   ]
  },
  {
   "cell_type": "code",
   "execution_count": 15,
   "id": "0007b292",
   "metadata": {},
   "outputs": [
    {
     "data": {
      "text/plain": [
       "'\\nLinear Regression using Ordinary Least Squares (OLS):\\n\\nOrdinary Least Squares (OLS) is a method used to estimate the parameters of a \\nlinear regression model by minimizing the sum of squared residuals (the differences between observed and predicted values).\\n\\n\\nFormuka of OLS:\\n\\nS(β) = Σ(y_i - (β_0 + β_1*x_i))^2/n\\nWhere:\\n- S(β) is the sum of squared residuals (cost function)\\n- y_i is the actual target value for the i-th example\\n- β_0 is the y-intercept (bias term)\\n- β_1 is the coefficient (weight) for the feature x_i\\n- n is the number of training examples\\n- The goal is to find the values of β_0 and β_1 that minimize S\\n\\nFinal value for β_0 and β_1:\\nβ_0 = y_mean - β_1*x_mean\\nβ_1 = Σ(y_i - y_mean) / Σ(x_i - x_mean)\\n\\nWhere:\\n- y_mean is the mean of the actual target values\\n- x_mean is the mean of the input feature values\\n\\n'"
      ]
     },
     "execution_count": 15,
     "metadata": {},
     "output_type": "execute_result"
    }
   ],
   "source": [
    "'''\n",
    "Linear Regression using Ordinary Least Squares (OLS):\n",
    "\n",
    "Ordinary Least Squares (OLS) is a method used to estimate the parameters of a \n",
    "linear regression model by minimizing the sum of squared residuals (the differences between observed and predicted values).\n",
    "\n",
    "\n",
    "Formuka of OLS:\n",
    "\n",
    "S(β) = Σ(y_i - (β_0 + β_1*x_i))^2/n\n",
    "Where:\n",
    "- S(β) is the sum of squared residuals (cost function)\n",
    "- y_i is the actual target value for the i-th example\n",
    "- β_0 is the y-intercept (bias term)\n",
    "- β_1 is the coefficient (weight) for the feature x_i\n",
    "- n is the number of training examples\n",
    "- The goal is to find the values of β_0 and β_1 that minimize S\n",
    "\n",
    "Final value for β_0 and β_1:\n",
    "β_0 = y_mean - β_1*x_mean\n",
    "β_1 = Σ(y_i - y_mean) / Σ(x_i - x_mean)\n",
    "\n",
    "Where:\n",
    "- y_mean is the mean of the actual target values\n",
    "- x_mean is the mean of the input feature values\n",
    "\n",
    "'''"
   ]
  },
  {
   "cell_type": "code",
   "execution_count": 16,
   "id": "5cbb6156",
   "metadata": {},
   "outputs": [
    {
     "data": {
      "text/plain": [
       "'\\nOLS vs Linear Regression (sklearn):\\nOLS (Ordinary Least Squares) and Linear Regression (as implemented in libraries like scikit-learn) are both methods for fitting a linear model to data, \\nbut they differ in their implementation and usage.\\nOLS:\\n- OLS is a statistical method that estimates the parameters of a linear regression model by minimizing the sum of squared residuals (the differences between observed and predicted values).\\n- It provides a closed-form solution for the coefficients (weights) of the linear model.\\n- OLS can be implemented manually using matrix operations or using libraries like NumPy.\\n- OLS is often used in statistical analysis and econometrics to derive the best-fitting line for a given dataset.\\n- It is suitable for small to medium-sized datasets where the closed-form solution can be computed efficiently.\\n\\nLinear Regression (sklearn):\\n- Linear Regression in scikit-learn is a high-level implementation of linear regression that provides an easy-to-use interface for fitting linear models.\\n- It uses OLS under the hood to estimate the coefficients of the linear model.\\n- It supports various features such as regularization (Ridge and Lasso regression), cross-validation, and hyperparameter tuning.\\n- It is optimized for performance and can handle larger datasets efficiently.\\n'"
      ]
     },
     "execution_count": 16,
     "metadata": {},
     "output_type": "execute_result"
    }
   ],
   "source": [
    "'''\n",
    "OLS vs Linear Regression (sklearn):\n",
    "OLS (Ordinary Least Squares) and Linear Regression (as implemented in libraries like scikit-learn) are both methods for fitting a linear model to data, \n",
    "but they differ in their implementation and usage.\n",
    "OLS:\n",
    "- OLS is a statistical method that estimates the parameters of a linear regression model by minimizing the sum of squared residuals (the differences between observed and predicted values).\n",
    "- It provides a closed-form solution for the coefficients (weights) of the linear model.\n",
    "- OLS can be implemented manually using matrix operations or using libraries like NumPy.\n",
    "- OLS is often used in statistical analysis and econometrics to derive the best-fitting line for a given dataset.\n",
    "- It is suitable for small to medium-sized datasets where the closed-form solution can be computed efficiently.\n",
    "\n",
    "Linear Regression (sklearn):\n",
    "- Linear Regression in scikit-learn is a high-level implementation of linear regression that provides an easy-to-use interface for fitting linear models.\n",
    "- It uses OLS under the hood to estimate the coefficients of the linear model.\n",
    "- It supports various features such as regularization (Ridge and Lasso regression), cross-validation, and hyperparameter tuning.\n",
    "- It is optimized for performance and can handle larger datasets efficiently.\n",
    "'''"
   ]
  },
  {
   "cell_type": "code",
   "execution_count": 17,
   "id": "0aedcd31",
   "metadata": {},
   "outputs": [],
   "source": [
    "# Simple Linear Regression Practical Example Height-Weight\n",
    "import pandas as pd\n",
    "import matplotlib.pyplot as plt\n",
    "import numpy as np\n",
    "%matplotlib inline"
   ]
  },
  {
   "cell_type": "code",
   "execution_count": 18,
   "id": "2678ed33",
   "metadata": {},
   "outputs": [
    {
     "data": {
      "text/html": [
       "<div>\n",
       "<style scoped>\n",
       "    .dataframe tbody tr th:only-of-type {\n",
       "        vertical-align: middle;\n",
       "    }\n",
       "\n",
       "    .dataframe tbody tr th {\n",
       "        vertical-align: top;\n",
       "    }\n",
       "\n",
       "    .dataframe thead th {\n",
       "        text-align: right;\n",
       "    }\n",
       "</style>\n",
       "<table border=\"1\" class=\"dataframe\">\n",
       "  <thead>\n",
       "    <tr style=\"text-align: right;\">\n",
       "      <th></th>\n",
       "      <th>Weight</th>\n",
       "      <th>Height</th>\n",
       "    </tr>\n",
       "  </thead>\n",
       "  <tbody>\n",
       "    <tr>\n",
       "      <th>0</th>\n",
       "      <td>45</td>\n",
       "      <td>120</td>\n",
       "    </tr>\n",
       "    <tr>\n",
       "      <th>1</th>\n",
       "      <td>58</td>\n",
       "      <td>135</td>\n",
       "    </tr>\n",
       "    <tr>\n",
       "      <th>2</th>\n",
       "      <td>48</td>\n",
       "      <td>123</td>\n",
       "    </tr>\n",
       "    <tr>\n",
       "      <th>3</th>\n",
       "      <td>60</td>\n",
       "      <td>145</td>\n",
       "    </tr>\n",
       "    <tr>\n",
       "      <th>4</th>\n",
       "      <td>70</td>\n",
       "      <td>160</td>\n",
       "    </tr>\n",
       "  </tbody>\n",
       "</table>\n",
       "</div>"
      ],
      "text/plain": [
       "   Weight  Height\n",
       "0      45     120\n",
       "1      58     135\n",
       "2      48     123\n",
       "3      60     145\n",
       "4      70     160"
      ]
     },
     "execution_count": 18,
     "metadata": {},
     "output_type": "execute_result"
    }
   ],
   "source": [
    "df = pd.read_csv(r\"C:\\Users\\stuar\\Desktop\\Data Science Learning\\Core ML Topics\\5. ML Algos\\height-weight.csv\")\n",
    "df.head()"
   ]
  },
  {
   "cell_type": "code",
   "execution_count": 19,
   "id": "781164f0",
   "metadata": {},
   "outputs": [
    {
     "data": {
      "text/plain": [
       "Text(0, 0.5, 'Height (inches)')"
      ]
     },
     "execution_count": 19,
     "metadata": {},
     "output_type": "execute_result"
    },
    {
     "data": {
      "image/png": "[encoded data removed]",
      "text/plain": [
       "<Figure size 640x480 with 1 Axes>"
      ]
     },
     "metadata": {},
     "output_type": "display_data"
    }
   ],
   "source": [
    "# Scatter plot of height vs weight\n",
    "plt.scatter(df['Weight'],df['Height'], color='blue', label='Data Points')\n",
    "plt.xlabel('Weight (lbs)')\n",
    "plt.ylabel('Height (inches)')"
   ]
  },
  {
   "cell_type": "code",
   "execution_count": 20,
   "id": "a15a8599",
   "metadata": {},
   "outputs": [
    {
     "data": {
      "text/html": [
       "<div>\n",
       "<style scoped>\n",
       "    .dataframe tbody tr th:only-of-type {\n",
       "        vertical-align: middle;\n",
       "    }\n",
       "\n",
       "    .dataframe tbody tr th {\n",
       "        vertical-align: top;\n",
       "    }\n",
       "\n",
       "    .dataframe thead th {\n",
       "        text-align: right;\n",
       "    }\n",
       "</style>\n",
       "<table border=\"1\" class=\"dataframe\">\n",
       "  <thead>\n",
       "    <tr style=\"text-align: right;\">\n",
       "      <th></th>\n",
       "      <th>Weight</th>\n",
       "      <th>Height</th>\n",
       "    </tr>\n",
       "  </thead>\n",
       "  <tbody>\n",
       "    <tr>\n",
       "      <th>Weight</th>\n",
       "      <td>1.000000</td>\n",
       "      <td>0.931142</td>\n",
       "    </tr>\n",
       "    <tr>\n",
       "      <th>Height</th>\n",
       "      <td>0.931142</td>\n",
       "      <td>1.000000</td>\n",
       "    </tr>\n",
       "  </tbody>\n",
       "</table>\n",
       "</div>"
      ],
      "text/plain": [
       "          Weight    Height\n",
       "Weight  1.000000  0.931142\n",
       "Height  0.931142  1.000000"
      ]
     },
     "execution_count": 20,
     "metadata": {},
     "output_type": "execute_result"
    }
   ],
   "source": [
    "# Correlation\n",
    "df.corr()\n",
    "# conclsion: \n",
    "# There is a positive correlation between weight and height, indicating that as weight increases, \n",
    "# height tends to increase as well."
   ]
  },
  {
   "cell_type": "code",
   "execution_count": 21,
   "id": "5789f5ae",
   "metadata": {},
   "outputs": [
    {
     "data": {
      "text/plain": [
       "<seaborn.axisgrid.PairGrid at 0x2392bbfeb60>"
      ]
     },
     "execution_count": 21,
     "metadata": {},
     "output_type": "execute_result"
    },
    {
     "data": {
      "image/png": "[encoded data removed]",
      "text/plain": [
       "<Figure size 500x500 with 6 Axes>"
      ]
     },
     "metadata": {},
     "output_type": "display_data"
    }
   ],
   "source": [
    "# Seaborn for better visualization\n",
    "import seaborn as sns\n",
    "sns.pairplot(df)"
   ]
  },
  {
   "cell_type": "code",
   "execution_count": 22,
   "id": "d905b1bf",
   "metadata": {},
   "outputs": [
    {
     "data": {
      "text/html": [
       "<div>\n",
       "<style scoped>\n",
       "    .dataframe tbody tr th:only-of-type {\n",
       "        vertical-align: middle;\n",
       "    }\n",
       "\n",
       "    .dataframe tbody tr th {\n",
       "        vertical-align: top;\n",
       "    }\n",
       "\n",
       "    .dataframe thead th {\n",
       "        text-align: right;\n",
       "    }\n",
       "</style>\n",
       "<table border=\"1\" class=\"dataframe\">\n",
       "  <thead>\n",
       "    <tr style=\"text-align: right;\">\n",
       "      <th></th>\n",
       "      <th>Weight</th>\n",
       "    </tr>\n",
       "  </thead>\n",
       "  <tbody>\n",
       "    <tr>\n",
       "      <th>0</th>\n",
       "      <td>45</td>\n",
       "    </tr>\n",
       "    <tr>\n",
       "      <th>1</th>\n",
       "      <td>58</td>\n",
       "    </tr>\n",
       "    <tr>\n",
       "      <th>2</th>\n",
       "      <td>48</td>\n",
       "    </tr>\n",
       "    <tr>\n",
       "      <th>3</th>\n",
       "      <td>60</td>\n",
       "    </tr>\n",
       "    <tr>\n",
       "      <th>4</th>\n",
       "      <td>70</td>\n",
       "    </tr>\n",
       "  </tbody>\n",
       "</table>\n",
       "</div>"
      ],
      "text/plain": [
       "   Weight\n",
       "0      45\n",
       "1      58\n",
       "2      48\n",
       "3      60\n",
       "4      70"
      ]
     },
     "execution_count": 22,
     "metadata": {},
     "output_type": "execute_result"
    }
   ],
   "source": [
    "# Independent and Dependent features\n",
    "X = df[['Weight']]  # Independent feature (Weight) - it should be in 2D array format\n",
    "# If you have multiple features, you can include them like this: X = df[['Weight', 'OtherFeature1', 'OtherFeature2']]\n",
    "# For simple linear regression, we only use one feature (Weight) as an independent variable.\n",
    "X.head()"
   ]
  },
  {
   "cell_type": "code",
   "execution_count": 23,
   "id": "ba8f2510",
   "metadata": {},
   "outputs": [],
   "source": [
    "y = df['Height']  # Dependent feature (Height) - can be in 1D array format or series"
   ]
  },
  {
   "cell_type": "code",
   "execution_count": 24,
   "id": "034921e6",
   "metadata": {},
   "outputs": [],
   "source": [
    "# train and test split\n",
    "from sklearn.model_selection import train_test_split\n",
    "X_train, X_test, y_train, y_test = train_test_split(X,y, test_size=0.25, random_state=42)\n",
    "\n",
    "# random state is used to ensure reproducibility of the results\n",
    "# It ensures that the same random split is used every time the code is run, \n",
    "# making it easier to compare results across different runs."
   ]
  },
  {
   "cell_type": "code",
   "execution_count": 25,
   "id": "48a68bc4",
   "metadata": {},
   "outputs": [
    {
     "data": {
      "text/plain": [
       "((17, 1), (6, 1), (17,), (6,))"
      ]
     },
     "execution_count": 25,
     "metadata": {},
     "output_type": "execute_result"
    }
   ],
   "source": [
    "X_train.shape, X_test.shape, y_train.shape, y_test.shape"
   ]
  },
  {
   "cell_type": "code",
   "execution_count": 26,
   "id": "13b46097",
   "metadata": {},
   "outputs": [],
   "source": [
    "# Standardization\n",
    "# why standardization is important?\n",
    "# Standardization is important in linear regression because it ensures that all features are on a similar scale,\n",
    "# which can improve the convergence of optimization algorithms and the interpretability of coefficients.\n",
    "# It helps to avoid issues where features with larger scales dominate the learning process,\n",
    "# leading to biased or suboptimal model performance.\n",
    "# Standardization is a preprocessing step that transforms the features to have a mean of 0 and a standard deviation of 1.\n",
    "# apply z-score normalization to the data - where mean is 0 and std is 1\n",
    "from sklearn.preprocessing import StandardScaler\n",
    "scaler = StandardScaler()\n"
   ]
  },
  {
   "cell_type": "code",
   "execution_count": 27,
   "id": "b048878d",
   "metadata": {},
   "outputs": [],
   "source": [
    "X_train = scaler.fit_transform(X_train)  # Fit and transform the training data"
   ]
  },
  {
   "cell_type": "code",
   "execution_count": 28,
   "id": "c0c0fc59",
   "metadata": {},
   "outputs": [],
   "source": [
    "X_test = scaler.transform(X_test)  # Transform the test data using the same scaler\n",
    "# This ensures that the test data is scaled in the same way as the training data, preventing data leakage."
   ]
  },
  {
   "cell_type": "code",
   "execution_count": 29,
   "id": "040d1b7f",
   "metadata": {},
   "outputs": [],
   "source": [
    "# Apply linear regression model\n",
    "from sklearn.linear_model import LinearRegression\n",
    "regression = LinearRegression()"
   ]
  },
  {
   "cell_type": "code",
   "execution_count": 30,
   "id": "6500a0a3",
   "metadata": {},
   "outputs": [
    {
     "data": {
      "text/html": [
       "<style>#sk-container-id-1 {\n",
       "  /* Definition of color scheme common for light and dark mode */\n",
       "  --sklearn-color-text: #000;\n",
       "  --sklearn-color-text-muted: #666;\n",
       "  --sklearn-color-line: gray;\n",
       "  /* Definition of color scheme for unfitted estimators */\n",
       "  --sklearn-color-unfitted-level-0: #fff5e6;\n",
       "  --sklearn-color-unfitted-level-1: #f6e4d2;\n",
       "  --sklearn-color-unfitted-level-2: #ffe0b3;\n",
       "  --sklearn-color-unfitted-level-3: chocolate;\n",
       "  /* Definition of color scheme for fitted estimators */\n",
       "  --sklearn-color-fitted-level-0: #f0f8ff;\n",
       "  --sklearn-color-fitted-level-1: #d4ebff;\n",
       "  --sklearn-color-fitted-level-2: #b3dbfd;\n",
       "  --sklearn-color-fitted-level-3: cornflowerblue;\n",
       "\n",
       "  /* Specific color for light theme */\n",
       "  --sklearn-color-text-on-default-background: var(--sg-text-color, var(--theme-code-foreground, var(--jp-content-font-color1, black)));\n",
       "  --sklearn-color-background: var(--sg-background-color, var(--theme-background, var(--jp-layout-color0, white)));\n",
       "  --sklearn-color-border-box: var(--sg-text-color, var(--theme-code-foreground, var(--jp-content-font-color1, black)));\n",
       "  --sklearn-color-icon: #696969;\n",
       "\n",
       "  @media (prefers-color-scheme: dark) {\n",
       "    /* Redefinition of color scheme for dark theme */\n",
       "    --sklearn-color-text-on-default-background: var(--sg-text-color, var(--theme-code-foreground, var(--jp-content-font-color1, white)));\n",
       "    --sklearn-color-background: var(--sg-background-color, var(--theme-background, var(--jp-layout-color0, #111)));\n",
       "    --sklearn-color-border-box: var(--sg-text-color, var(--theme-code-foreground, var(--jp-content-font-color1, white)));\n",
       "    --sklearn-color-icon: #878787;\n",
       "  }\n",
       "}\n",
       "\n",
       "#sk-container-id-1 {\n",
       "  color: var(--sklearn-color-text);\n",
       "}\n",
       "\n",
       "#sk-container-id-1 pre {\n",
       "  padding: 0;\n",
       "}\n",
       "\n",
       "#sk-container-id-1 input.sk-hidden--visually {\n",
       "  border: 0;\n",
       "  clip: rect(1px 1px 1px 1px);\n",
       "  clip: rect(1px, 1px, 1px, 1px);\n",
       "  height: 1px;\n",
       "  margin: -1px;\n",
       "  overflow: hidden;\n",
       "  padding: 0;\n",
       "  position: absolute;\n",
       "  width: 1px;\n",
       "}\n",
       "\n",
       "#sk-container-id-1 div.sk-dashed-wrapped {\n",
       "  border: 1px dashed var(--sklearn-color-line);\n",
       "  margin: 0 0.4em 0.5em 0.4em;\n",
       "  box-sizing: border-box;\n",
       "  padding-bottom: 0.4em;\n",
       "  background-color: var(--sklearn-color-background);\n",
       "}\n",
       "\n",
       "#sk-container-id-1 div.sk-container {\n",
       "  /* jupyter's `normalize.less` sets `[hidden] { display: none; }`\n",
       "     but bootstrap.min.css set `[hidden] { display: none !important; }`\n",
       "     so we also need the `!important` here to be able to override the\n",
       "     default hidden behavior on the sphinx rendered scikit-learn.org.\n",
       "     See: https://github.com/scikit-learn/scikit-learn/issues/21755 */\n",
       "  display: inline-block !important;\n",
       "  position: relative;\n",
       "}\n",
       "\n",
       "#sk-container-id-1 div.sk-text-repr-fallback {\n",
       "  display: none;\n",
       "}\n",
       "\n",
       "div.sk-parallel-item,\n",
       "div.sk-serial,\n",
       "div.sk-item {\n",
       "  /* draw centered vertical line to link estimators */\n",
       "  background-image: linear-gradient(var(--sklearn-color-text-on-default-background), var(--sklearn-color-text-on-default-background));\n",
       "  background-size: 2px 100%;\n",
       "  background-repeat: no-repeat;\n",
       "  background-position: center center;\n",
       "}\n",
       "\n",
       "/* Parallel-specific style estimator block */\n",
       "\n",
       "#sk-container-id-1 div.sk-parallel-item::after {\n",
       "  content: \"\";\n",
       "  width: 100%;\n",
       "  border-bottom: 2px solid var(--sklearn-color-text-on-default-background);\n",
       "  flex-grow: 1;\n",
       "}\n",
       "\n",
       "#sk-container-id-1 div.sk-parallel {\n",
       "  display: flex;\n",
       "  align-items: stretch;\n",
       "  justify-content: center;\n",
       "  background-color: var(--sklearn-color-background);\n",
       "  position: relative;\n",
       "}\n",
       "\n",
       "#sk-container-id-1 div.sk-parallel-item {\n",
       "  display: flex;\n",
       "  flex-direction: column;\n",
       "}\n",
       "\n",
       "#sk-container-id-1 div.sk-parallel-item:first-child::after {\n",
       "  align-self: flex-end;\n",
       "  width: 50%;\n",
       "}\n",
       "\n",
       "#sk-container-id-1 div.sk-parallel-item:last-child::after {\n",
       "  align-self: flex-start;\n",
       "  width: 50%;\n",
       "}\n",
       "\n",
       "#sk-container-id-1 div.sk-parallel-item:only-child::after {\n",
       "  width: 0;\n",
       "}\n",
       "\n",
       "/* Serial-specific style estimator block */\n",
       "\n",
       "#sk-container-id-1 div.sk-serial {\n",
       "  display: flex;\n",
       "  flex-direction: column;\n",
       "  align-items: center;\n",
       "  background-color: var(--sklearn-color-background);\n",
       "  padding-right: 1em;\n",
       "  padding-left: 1em;\n",
       "}\n",
       "\n",
       "\n",
       "/* Toggleable style: style used for estimator/Pipeline/ColumnTransformer box that is\n",
       "clickable and can be expanded/collapsed.\n",
       "- Pipeline and ColumnTransformer use this feature and define the default style\n",
       "- Estimators will overwrite some part of the style using the `sk-estimator` class\n",
       "*/\n",
       "\n",
       "/* Pipeline and ColumnTransformer style (default) */\n",
       "\n",
       "#sk-container-id-1 div.sk-toggleable {\n",
       "  /* Default theme specific background. It is overwritten whether we have a\n",
       "  specific estimator or a Pipeline/ColumnTransformer */\n",
       "  background-color: var(--sklearn-color-background);\n",
       "}\n",
       "\n",
       "/* Toggleable label */\n",
       "#sk-container-id-1 label.sk-toggleable__label {\n",
       "  cursor: pointer;\n",
       "  display: flex;\n",
       "  width: 100%;\n",
       "  margin-bottom: 0;\n",
       "  padding: 0.5em;\n",
       "  box-sizing: border-box;\n",
       "  text-align: center;\n",
       "  align-items: start;\n",
       "  justify-content: space-between;\n",
       "  gap: 0.5em;\n",
       "}\n",
       "\n",
       "#sk-container-id-1 label.sk-toggleable__label .caption {\n",
       "  font-size: 0.6rem;\n",
       "  font-weight: lighter;\n",
       "  color: var(--sklearn-color-text-muted);\n",
       "}\n",
       "\n",
       "#sk-container-id-1 label.sk-toggleable__label-arrow:before {\n",
       "  /* Arrow on the left of the label */\n",
       "  content: \"▸\";\n",
       "  float: left;\n",
       "  margin-right: 0.25em;\n",
       "  color: var(--sklearn-color-icon);\n",
       "}\n",
       "\n",
       "#sk-container-id-1 label.sk-toggleable__label-arrow:hover:before {\n",
       "  color: var(--sklearn-color-text);\n",
       "}\n",
       "\n",
       "/* Toggleable content - dropdown */\n",
       "\n",
       "#sk-container-id-1 div.sk-toggleable__content {\n",
       "  max-height: 0;\n",
       "  max-width: 0;\n",
       "  overflow: hidden;\n",
       "  text-align: left;\n",
       "  /* unfitted */\n",
       "  background-color: var(--sklearn-color-unfitted-level-0);\n",
       "}\n",
       "\n",
       "#sk-container-id-1 div.sk-toggleable__content.fitted {\n",
       "  /* fitted */\n",
       "  background-color: var(--sklearn-color-fitted-level-0);\n",
       "}\n",
       "\n",
       "#sk-container-id-1 div.sk-toggleable__content pre {\n",
       "  margin: 0.2em;\n",
       "  border-radius: 0.25em;\n",
       "  color: var(--sklearn-color-text);\n",
       "  /* unfitted */\n",
       "  background-color: var(--sklearn-color-unfitted-level-0);\n",
       "}\n",
       "\n",
       "#sk-container-id-1 div.sk-toggleable__content.fitted pre {\n",
       "  /* unfitted */\n",
       "  background-color: var(--sklearn-color-fitted-level-0);\n",
       "}\n",
       "\n",
       "#sk-container-id-1 input.sk-toggleable__control:checked~div.sk-toggleable__content {\n",
       "  /* Expand drop-down */\n",
       "  max-height: 200px;\n",
       "  max-width: 100%;\n",
       "  overflow: auto;\n",
       "}\n",
       "\n",
       "#sk-container-id-1 input.sk-toggleable__control:checked~label.sk-toggleable__label-arrow:before {\n",
       "  content: \"▾\";\n",
       "}\n",
       "\n",
       "/* Pipeline/ColumnTransformer-specific style */\n",
       "\n",
       "#sk-container-id-1 div.sk-label input.sk-toggleable__control:checked~label.sk-toggleable__label {\n",
       "  color: var(--sklearn-color-text);\n",
       "  background-color: var(--sklearn-color-unfitted-level-2);\n",
       "}\n",
       "\n",
       "#sk-container-id-1 div.sk-label.fitted input.sk-toggleable__control:checked~label.sk-toggleable__label {\n",
       "  background-color: var(--sklearn-color-fitted-level-2);\n",
       "}\n",
       "\n",
       "/* Estimator-specific style */\n",
       "\n",
       "/* Colorize estimator box */\n",
       "#sk-container-id-1 div.sk-estimator input.sk-toggleable__control:checked~label.sk-toggleable__label {\n",
       "  /* unfitted */\n",
       "  background-color: var(--sklearn-color-unfitted-level-2);\n",
       "}\n",
       "\n",
       "#sk-container-id-1 div.sk-estimator.fitted input.sk-toggleable__control:checked~label.sk-toggleable__label {\n",
       "  /* fitted */\n",
       "  background-color: var(--sklearn-color-fitted-level-2);\n",
       "}\n",
       "\n",
       "#sk-container-id-1 div.sk-label label.sk-toggleable__label,\n",
       "#sk-container-id-1 div.sk-label label {\n",
       "  /* The background is the default theme color */\n",
       "  color: var(--sklearn-color-text-on-default-background);\n",
       "}\n",
       "\n",
       "/* On hover, darken the color of the background */\n",
       "#sk-container-id-1 div.sk-label:hover label.sk-toggleable__label {\n",
       "  color: var(--sklearn-color-text);\n",
       "  background-color: var(--sklearn-color-unfitted-level-2);\n",
       "}\n",
       "\n",
       "/* Label box, darken color on hover, fitted */\n",
       "#sk-container-id-1 div.sk-label.fitted:hover label.sk-toggleable__label.fitted {\n",
       "  color: var(--sklearn-color-text);\n",
       "  background-color: var(--sklearn-color-fitted-level-2);\n",
       "}\n",
       "\n",
       "/* Estimator label */\n",
       "\n",
       "#sk-container-id-1 div.sk-label label {\n",
       "  font-family: monospace;\n",
       "  font-weight: bold;\n",
       "  display: inline-block;\n",
       "  line-height: 1.2em;\n",
       "}\n",
       "\n",
       "#sk-container-id-1 div.sk-label-container {\n",
       "  text-align: center;\n",
       "}\n",
       "\n",
       "/* Estimator-specific */\n",
       "#sk-container-id-1 div.sk-estimator {\n",
       "  font-family: monospace;\n",
       "  border: 1px dotted var(--sklearn-color-border-box);\n",
       "  border-radius: 0.25em;\n",
       "  box-sizing: border-box;\n",
       "  margin-bottom: 0.5em;\n",
       "  /* unfitted */\n",
       "  background-color: var(--sklearn-color-unfitted-level-0);\n",
       "}\n",
       "\n",
       "#sk-container-id-1 div.sk-estimator.fitted {\n",
       "  /* fitted */\n",
       "  background-color: var(--sklearn-color-fitted-level-0);\n",
       "}\n",
       "\n",
       "/* on hover */\n",
       "#sk-container-id-1 div.sk-estimator:hover {\n",
       "  /* unfitted */\n",
       "  background-color: var(--sklearn-color-unfitted-level-2);\n",
       "}\n",
       "\n",
       "#sk-container-id-1 div.sk-estimator.fitted:hover {\n",
       "  /* fitted */\n",
       "  background-color: var(--sklearn-color-fitted-level-2);\n",
       "}\n",
       "\n",
       "/* Specification for estimator info (e.g. \"i\" and \"?\") */\n",
       "\n",
       "/* Common style for \"i\" and \"?\" */\n",
       "\n",
       ".sk-estimator-doc-link,\n",
       "a:link.sk-estimator-doc-link,\n",
       "a:visited.sk-estimator-doc-link {\n",
       "  float: right;\n",
       "  font-size: smaller;\n",
       "  line-height: 1em;\n",
       "  font-family: monospace;\n",
       "  background-color: var(--sklearn-color-background);\n",
       "  border-radius: 1em;\n",
       "  height: 1em;\n",
       "  width: 1em;\n",
       "  text-decoration: none !important;\n",
       "  margin-left: 0.5em;\n",
       "  text-align: center;\n",
       "  /* unfitted */\n",
       "  border: var(--sklearn-color-unfitted-level-1) 1pt solid;\n",
       "  color: var(--sklearn-color-unfitted-level-1);\n",
       "}\n",
       "\n",
       ".sk-estimator-doc-link.fitted,\n",
       "a:link.sk-estimator-doc-link.fitted,\n",
       "a:visited.sk-estimator-doc-link.fitted {\n",
       "  /* fitted */\n",
       "  border: var(--sklearn-color-fitted-level-1) 1pt solid;\n",
       "  color: var(--sklearn-color-fitted-level-1);\n",
       "}\n",
       "\n",
       "/* On hover */\n",
       "div.sk-estimator:hover .sk-estimator-doc-link:hover,\n",
       ".sk-estimator-doc-link:hover,\n",
       "div.sk-label-container:hover .sk-estimator-doc-link:hover,\n",
       ".sk-estimator-doc-link:hover {\n",
       "  /* unfitted */\n",
       "  background-color: var(--sklearn-color-unfitted-level-3);\n",
       "  color: var(--sklearn-color-background);\n",
       "  text-decoration: none;\n",
       "}\n",
       "\n",
       "div.sk-estimator.fitted:hover .sk-estimator-doc-link.fitted:hover,\n",
       ".sk-estimator-doc-link.fitted:hover,\n",
       "div.sk-label-container:hover .sk-estimator-doc-link.fitted:hover,\n",
       ".sk-estimator-doc-link.fitted:hover {\n",
       "  /* fitted */\n",
       "  background-color: var(--sklearn-color-fitted-level-3);\n",
       "  color: var(--sklearn-color-background);\n",
       "  text-decoration: none;\n",
       "}\n",
       "\n",
       "/* Span, style for the box shown on hovering the info icon */\n",
       ".sk-estimator-doc-link span {\n",
       "  display: none;\n",
       "  z-index: 9999;\n",
       "  position: relative;\n",
       "  font-weight: normal;\n",
       "  right: .2ex;\n",
       "  padding: .5ex;\n",
       "  margin: .5ex;\n",
       "  width: min-content;\n",
       "  min-width: 20ex;\n",
       "  max-width: 50ex;\n",
       "  color: var(--sklearn-color-text);\n",
       "  box-shadow: 2pt 2pt 4pt #999;\n",
       "  /* unfitted */\n",
       "  background: var(--sklearn-color-unfitted-level-0);\n",
       "  border: .5pt solid var(--sklearn-color-unfitted-level-3);\n",
       "}\n",
       "\n",
       ".sk-estimator-doc-link.fitted span {\n",
       "  /* fitted */\n",
       "  background: var(--sklearn-color-fitted-level-0);\n",
       "  border: var(--sklearn-color-fitted-level-3);\n",
       "}\n",
       "\n",
       ".sk-estimator-doc-link:hover span {\n",
       "  display: block;\n",
       "}\n",
       "\n",
       "/* \"?\"-specific style due to the `<a>` HTML tag */\n",
       "\n",
       "#sk-container-id-1 a.estimator_doc_link {\n",
       "  float: right;\n",
       "  font-size: 1rem;\n",
       "  line-height: 1em;\n",
       "  font-family: monospace;\n",
       "  background-color: var(--sklearn-color-background);\n",
       "  border-radius: 1rem;\n",
       "  height: 1rem;\n",
       "  width: 1rem;\n",
       "  text-decoration: none;\n",
       "  /* unfitted */\n",
       "  color: var(--sklearn-color-unfitted-level-1);\n",
       "  border: var(--sklearn-color-unfitted-level-1) 1pt solid;\n",
       "}\n",
       "\n",
       "#sk-container-id-1 a.estimator_doc_link.fitted {\n",
       "  /* fitted */\n",
       "  border: var(--sklearn-color-fitted-level-1) 1pt solid;\n",
       "  color: var(--sklearn-color-fitted-level-1);\n",
       "}\n",
       "\n",
       "/* On hover */\n",
       "#sk-container-id-1 a.estimator_doc_link:hover {\n",
       "  /* unfitted */\n",
       "  background-color: var(--sklearn-color-unfitted-level-3);\n",
       "  color: var(--sklearn-color-background);\n",
       "  text-decoration: none;\n",
       "}\n",
       "\n",
       "#sk-container-id-1 a.estimator_doc_link.fitted:hover {\n",
       "  /* fitted */\n",
       "  background-color: var(--sklearn-color-fitted-level-3);\n",
       "}\n",
       "</style><div id=\"sk-container-id-1\" class=\"sk-top-container\"><div class=\"sk-text-repr-fallback\"><pre>LinearRegression()</pre><b>In a Jupyter environment, please rerun this cell to show the HTML representation or trust the notebook. <br />On GitHub, the HTML representation is unable to render, please try loading this page with nbviewer.org.</b></div><div class=\"sk-container\" hidden><div class=\"sk-item\"><div class=\"sk-estimator fitted sk-toggleable\"><input class=\"sk-toggleable__control sk-hidden--visually\" id=\"sk-estimator-id-1\" type=\"checkbox\" checked><label for=\"sk-estimator-id-1\" class=\"sk-toggleable__label fitted sk-toggleable__label-arrow\"><div><div>LinearRegression</div></div><div><a class=\"sk-estimator-doc-link fitted\" rel=\"noreferrer\" target=\"_blank\" href=\"https://scikit-learn.org/1.6/modules/generated/sklearn.linear_model.LinearRegression.html\">?<span>Documentation for LinearRegression</span></a><span class=\"sk-estimator-doc-link fitted\">i<span>Fitted</span></span></div></label><div class=\"sk-toggleable__content fitted\"><pre>LinearRegression()</pre></div> </div></div></div></div>"
      ],
      "text/plain": [
       "LinearRegression()"
      ]
     },
     "execution_count": 30,
     "metadata": {},
     "output_type": "execute_result"
    }
   ],
   "source": [
    "regression.fit(X_train, y_train)  # Fit the model to the training data"
   ]
  },
  {
   "cell_type": "code",
   "execution_count": 31,
   "id": "a115a0d2",
   "metadata": {},
   "outputs": [
    {
     "name": "stdout",
     "output_type": "stream",
     "text": [
      "Coefficients: [17.2982057]\n",
      "Intercept: 156.47058823529412\n"
     ]
    }
   ],
   "source": [
    "print(\"Coefficients:\", regression.coef_)\n",
    "print(\"Intercept:\", regression.intercept_)"
   ]
  },
  {
   "cell_type": "code",
   "execution_count": 32,
   "id": "12deebd8",
   "metadata": {},
   "outputs": [
    {
     "data": {
      "text/plain": [
       "[<matplotlib.lines.Line2D at 0x23942a3da50>]"
      ]
     },
     "execution_count": 32,
     "metadata": {},
     "output_type": "execute_result"
    },
    {
     "data": {
      "image/png": "[encoded data removed]",
      "text/plain": [
       "<Figure size 640x480 with 1 Axes>"
      ]
     },
     "metadata": {},
     "output_type": "display_data"
    }
   ],
   "source": [
    "# plot training data plot best fit line\n",
    "plt.scatter(X_train, y_train, color='green', label='Training Data')\n",
    "plt.plot(X_train, regression.predict(X_train), color='red', label='Best Fit Line')"
   ]
  },
  {
   "cell_type": "markdown",
   "id": "cbc7e6ee",
   "metadata": {},
   "source": [
    "#### prediction of test data\n",
    "1. predicted height output = intercept_ + (slope(coeff_) * weight)\n",
    "2. y_pred_test = 156.47 + (17.29 * X_test)"
   ]
  },
  {
   "cell_type": "code",
   "execution_count": 33,
   "id": "556ed509",
   "metadata": {},
   "outputs": [],
   "source": [
    "# Predicting for test data - will give predicted values for the test data\n",
    "y_pred = regression.predict(X_test)"
   ]
  },
  {
   "cell_type": "code",
   "execution_count": 34,
   "id": "0f6a2f8e",
   "metadata": {},
   "outputs": [
    {
     "name": "stdout",
     "output_type": "stream",
     "text": [
      "Mean Squared Error: 114.84069295228699\n",
      "Mean Absolute Error: 9.66512588679501\n",
      "Root Mean Squared Error: 10.716374991212605\n",
      "R-squared: 0.7360826717981276\n"
     ]
    }
   ],
   "source": [
    "# performance metrics\n",
    "from sklearn.metrics import mean_squared_error, mean_absolute_error, r2_score\n",
    "mse = mean_squared_error(y_test, y_pred)\n",
    "mae = mean_absolute_error(y_test, y_pred)\n",
    "rmse = np.sqrt(mse)  # Root Mean Squared Error\n",
    "r2 = r2_score(y_test, y_pred)\n",
    "print(\"Mean Squared Error:\", mse)\n",
    "print(\"Mean Absolute Error:\", mae)\n",
    "print(\"Root Mean Squared Error:\", rmse)\n",
    "print(\"R-squared:\", r2)"
   ]
  },
  {
   "cell_type": "code",
   "execution_count": 35,
   "id": "7f117173",
   "metadata": {},
   "outputs": [],
   "source": [
    "# using statsmodels for OLS regression\n",
    "# statsmodels is a Python library that provides classes and functions for estimating and testing statistical models.\n",
    "import statsmodels.api as sm\n"
   ]
  },
  {
   "cell_type": "code",
   "execution_count": 36,
   "id": "e34f3513",
   "metadata": {},
   "outputs": [],
   "source": [
    "model = sm.OLS(y_train, X_train).fit()  # Fit the OLS model to the training data"
   ]
  },
  {
   "cell_type": "code",
   "execution_count": 37,
   "id": "381ab42a",
   "metadata": {},
   "outputs": [
    {
     "name": "stdout",
     "output_type": "stream",
     "text": [
      "[  5.79440897   5.79440897 -28.78711691  23.60913442  -7.82861638\n",
      "  34.08838469]\n"
     ]
    }
   ],
   "source": [
    "prediction = model.predict(X_test)  # Predict the test data\n",
    "print(prediction)"
   ]
  },
  {
   "cell_type": "code",
   "execution_count": 38,
   "id": "c74921c0",
   "metadata": {},
   "outputs": [
    {
     "name": "stderr",
     "output_type": "stream",
     "text": [
      "c:\\Users\\stuar\\Desktop\\Data Science Learning\\venv\\lib\\site-packages\\scipy\\stats\\_axis_nan_policy.py:430: UserWarning: `kurtosistest` p-value may be inaccurate with fewer than 20 observations; only n=17 observations were given.\n",
      "  return hypotest_fun_in(*args, **kwds)\n"
     ]
    },
    {
     "data": {
      "text/html": [
       "<table class=\"simpletable\">\n",
       "<caption>OLS Regression Results</caption>\n",
       "<tr>\n",
       "  <th>Dep. Variable:</th>         <td>Height</td>      <th>  R-squared (uncentered):</th>      <td>   0.012</td>\n",
       "</tr>\n",
       "<tr>\n",
       "  <th>Model:</th>                   <td>OLS</td>       <th>  Adj. R-squared (uncentered):</th> <td>  -0.050</td>\n",
       "</tr>\n",
       "<tr>\n",
       "  <th>Method:</th>             <td>Least Squares</td>  <th>  F-statistic:       </th>          <td>  0.1953</td>\n",
       "</tr>\n",
       "<tr>\n",
       "  <th>Date:</th>             <td>Tue, 01 Jul 2025</td> <th>  Prob (F-statistic):</th>           <td> 0.664</td> \n",
       "</tr>\n",
       "<tr>\n",
       "  <th>Time:</th>                 <td>11:31:40</td>     <th>  Log-Likelihood:    </th>          <td> -110.03</td>\n",
       "</tr>\n",
       "<tr>\n",
       "  <th>No. Observations:</th>      <td>    17</td>      <th>  AIC:               </th>          <td>   222.1</td>\n",
       "</tr>\n",
       "<tr>\n",
       "  <th>Df Residuals:</th>          <td>    16</td>      <th>  BIC:               </th>          <td>   222.9</td>\n",
       "</tr>\n",
       "<tr>\n",
       "  <th>Df Model:</th>              <td>     1</td>      <th>                     </th>              <td> </td>   \n",
       "</tr>\n",
       "<tr>\n",
       "  <th>Covariance Type:</th>      <td>nonrobust</td>    <th>                     </th>              <td> </td>   \n",
       "</tr>\n",
       "</table>\n",
       "<table class=\"simpletable\">\n",
       "<tr>\n",
       "   <td></td>     <th>coef</th>     <th>std err</th>      <th>t</th>      <th>P>|t|</th>  <th>[0.025</th>    <th>0.975]</th>  \n",
       "</tr>\n",
       "<tr>\n",
       "  <th>x1</th> <td>   17.2982</td> <td>   39.138</td> <td>    0.442</td> <td> 0.664</td> <td>  -65.671</td> <td>  100.267</td>\n",
       "</tr>\n",
       "</table>\n",
       "<table class=\"simpletable\">\n",
       "<tr>\n",
       "  <th>Omnibus:</th>       <td> 0.135</td> <th>  Durbin-Watson:     </th> <td>   0.002</td>\n",
       "</tr>\n",
       "<tr>\n",
       "  <th>Prob(Omnibus):</th> <td> 0.935</td> <th>  Jarque-Bera (JB):  </th> <td>   0.203</td>\n",
       "</tr>\n",
       "<tr>\n",
       "  <th>Skew:</th>          <td>-0.166</td> <th>  Prob(JB):          </th> <td>   0.904</td>\n",
       "</tr>\n",
       "<tr>\n",
       "  <th>Kurtosis:</th>      <td> 2.581</td> <th>  Cond. No.          </th> <td>    1.00</td>\n",
       "</tr>\n",
       "</table><br/><br/>Notes:<br/>[1] R² is computed without centering (uncentered) since the model does not contain a constant.<br/>[2] Standard Errors assume that the covariance matrix of the errors is correctly specified."
      ],
      "text/latex": [
       "\\begin{center}\n",
       "\\begin{tabular}{lclc}\n",
       "\\toprule\n",
       "\\textbf{Dep. Variable:}    &      Height      & \\textbf{  R-squared (uncentered):}      &     0.012   \\\\\n",
       "\\textbf{Model:}            &       OLS        & \\textbf{  Adj. R-squared (uncentered):} &    -0.050   \\\\\n",
       "\\textbf{Method:}           &  Least Squares   & \\textbf{  F-statistic:       }          &    0.1953   \\\\\n",
       "\\textbf{Date:}             & Tue, 01 Jul 2025 & \\textbf{  Prob (F-statistic):}          &    0.664    \\\\\n",
       "\\textbf{Time:}             &     11:31:40     & \\textbf{  Log-Likelihood:    }          &   -110.03   \\\\\n",
       "\\textbf{No. Observations:} &          17      & \\textbf{  AIC:               }          &     222.1   \\\\\n",
       "\\textbf{Df Residuals:}     &          16      & \\textbf{  BIC:               }          &     222.9   \\\\\n",
       "\\textbf{Df Model:}         &           1      & \\textbf{                     }          &             \\\\\n",
       "\\textbf{Covariance Type:}  &    nonrobust     & \\textbf{                     }          &             \\\\\n",
       "\\bottomrule\n",
       "\\end{tabular}\n",
       "\\begin{tabular}{lcccccc}\n",
       "            & \\textbf{coef} & \\textbf{std err} & \\textbf{t} & \\textbf{P$> |$t$|$} & \\textbf{[0.025} & \\textbf{0.975]}  \\\\\n",
       "\\midrule\n",
       "\\textbf{x1} &      17.2982  &       39.138     &     0.442  &         0.664        &      -65.671    &      100.267     \\\\\n",
       "\\bottomrule\n",
       "\\end{tabular}\n",
       "\\begin{tabular}{lclc}\n",
       "\\textbf{Omnibus:}       &  0.135 & \\textbf{  Durbin-Watson:     } &    0.002  \\\\\n",
       "\\textbf{Prob(Omnibus):} &  0.935 & \\textbf{  Jarque-Bera (JB):  } &    0.203  \\\\\n",
       "\\textbf{Skew:}          & -0.166 & \\textbf{  Prob(JB):          } &    0.904  \\\\\n",
       "\\textbf{Kurtosis:}      &  2.581 & \\textbf{  Cond. No.          } &     1.00  \\\\\n",
       "\\bottomrule\n",
       "\\end{tabular}\n",
       "%\\caption{OLS Regression Results}\n",
       "\\end{center}\n",
       "\n",
       "Notes: \\newline\n",
       " [1] R² is computed without centering (uncentered) since the model does not contain a constant. \\newline\n",
       " [2] Standard Errors assume that the covariance matrix of the errors is correctly specified."
      ],
      "text/plain": [
       "<class 'statsmodels.iolib.summary.Summary'>\n",
       "\"\"\"\n",
       "                                 OLS Regression Results                                \n",
       "=======================================================================================\n",
       "Dep. Variable:                 Height   R-squared (uncentered):                   0.012\n",
       "Model:                            OLS   Adj. R-squared (uncentered):             -0.050\n",
       "Method:                 Least Squares   F-statistic:                             0.1953\n",
       "Date:                Tue, 01 Jul 2025   Prob (F-statistic):                       0.664\n",
       "Time:                        11:31:40   Log-Likelihood:                         -110.03\n",
       "No. Observations:                  17   AIC:                                      222.1\n",
       "Df Residuals:                      16   BIC:                                      222.9\n",
       "Df Model:                           1                                                  \n",
       "Covariance Type:            nonrobust                                                  \n",
       "==============================================================================\n",
       "                 coef    std err          t      P>|t|      [0.025      0.975]\n",
       "------------------------------------------------------------------------------\n",
       "x1            17.2982     39.138      0.442      0.664     -65.671     100.267\n",
       "==============================================================================\n",
       "Omnibus:                        0.135   Durbin-Watson:                   0.002\n",
       "Prob(Omnibus):                  0.935   Jarque-Bera (JB):                0.203\n",
       "Skew:                          -0.166   Prob(JB):                        0.904\n",
       "Kurtosis:                       2.581   Cond. No.                         1.00\n",
       "==============================================================================\n",
       "\n",
       "Notes:\n",
       "[1] R² is computed without centering (uncentered) since the model does not contain a constant.\n",
       "[2] Standard Errors assume that the covariance matrix of the errors is correctly specified.\n",
       "\"\"\""
      ]
     },
     "execution_count": 38,
     "metadata": {},
     "output_type": "execute_result"
    }
   ],
   "source": [
    "model.summary()  # Display the summary of the model results"
   ]
  },
  {
   "cell_type": "code",
   "execution_count": 43,
   "id": "3da73a2d",
   "metadata": {},
   "outputs": [
    {
     "data": {
      "text/plain": [
       "array([155.97744705])"
      ]
     },
     "execution_count": 43,
     "metadata": {},
     "output_type": "execute_result"
    }
   ],
   "source": [
    "regression.predict(scaler.transform(pd.DataFrame([[72]], columns=['Weight'])))"
   ]
  },
  {
   "cell_type": "markdown",
   "id": "033c0742",
   "metadata": {},
   "source": [
    "# Multiple Linear Regression Practical Example\n",
    "\n",
    "## Economic Dataset"
   ]
  },
  {
   "cell_type": "code",
   "execution_count": 51,
   "id": "7d3db3c3",
   "metadata": {},
   "outputs": [],
   "source": [
    "df = pd.read_csv(r\"C:\\Users\\stuar\\Desktop\\Data Science Learning\\Core ML Topics\\5. ML Algos\\economic_index.csv\", index_col=0 )"
   ]
  },
  {
   "cell_type": "code",
   "execution_count": 52,
   "id": "7e260079",
   "metadata": {},
   "outputs": [
    {
     "data": {
      "text/html": [
       "<div>\n",
       "<style scoped>\n",
       "    .dataframe tbody tr th:only-of-type {\n",
       "        vertical-align: middle;\n",
       "    }\n",
       "\n",
       "    .dataframe tbody tr th {\n",
       "        vertical-align: top;\n",
       "    }\n",
       "\n",
       "    .dataframe thead th {\n",
       "        text-align: right;\n",
       "    }\n",
       "</style>\n",
       "<table border=\"1\" class=\"dataframe\">\n",
       "  <thead>\n",
       "    <tr style=\"text-align: right;\">\n",
       "      <th></th>\n",
       "      <th>year</th>\n",
       "      <th>month</th>\n",
       "      <th>interest_rate</th>\n",
       "      <th>unemployment_rate</th>\n",
       "      <th>index_price</th>\n",
       "    </tr>\n",
       "  </thead>\n",
       "  <tbody>\n",
       "    <tr>\n",
       "      <th>0</th>\n",
       "      <td>2017</td>\n",
       "      <td>12</td>\n",
       "      <td>2.75</td>\n",
       "      <td>5.3</td>\n",
       "      <td>1464</td>\n",
       "    </tr>\n",
       "    <tr>\n",
       "      <th>1</th>\n",
       "      <td>2017</td>\n",
       "      <td>11</td>\n",
       "      <td>2.50</td>\n",
       "      <td>5.3</td>\n",
       "      <td>1394</td>\n",
       "    </tr>\n",
       "    <tr>\n",
       "      <th>2</th>\n",
       "      <td>2017</td>\n",
       "      <td>10</td>\n",
       "      <td>2.50</td>\n",
       "      <td>5.3</td>\n",
       "      <td>1357</td>\n",
       "    </tr>\n",
       "    <tr>\n",
       "      <th>3</th>\n",
       "      <td>2017</td>\n",
       "      <td>9</td>\n",
       "      <td>2.50</td>\n",
       "      <td>5.3</td>\n",
       "      <td>1293</td>\n",
       "    </tr>\n",
       "    <tr>\n",
       "      <th>4</th>\n",
       "      <td>2017</td>\n",
       "      <td>8</td>\n",
       "      <td>2.50</td>\n",
       "      <td>5.4</td>\n",
       "      <td>1256</td>\n",
       "    </tr>\n",
       "  </tbody>\n",
       "</table>\n",
       "</div>"
      ],
      "text/plain": [
       "   year  month  interest_rate  unemployment_rate  index_price\n",
       "0  2017     12           2.75                5.3         1464\n",
       "1  2017     11           2.50                5.3         1394\n",
       "2  2017     10           2.50                5.3         1357\n",
       "3  2017      9           2.50                5.3         1293\n",
       "4  2017      8           2.50                5.4         1256"
      ]
     },
     "execution_count": 52,
     "metadata": {},
     "output_type": "execute_result"
    }
   ],
   "source": [
    "df.head()"
   ]
  },
  {
   "cell_type": "code",
   "execution_count": 53,
   "id": "30e5b4db",
   "metadata": {},
   "outputs": [],
   "source": [
    "# drop unnecessary columns\n",
    "df.drop(columns=['year', 'month'], axis = 1, inplace=True)"
   ]
  },
  {
   "cell_type": "code",
   "execution_count": 54,
   "id": "a96b672d",
   "metadata": {},
   "outputs": [
    {
     "data": {
      "text/html": [
       "<div>\n",
       "<style scoped>\n",
       "    .dataframe tbody tr th:only-of-type {\n",
       "        vertical-align: middle;\n",
       "    }\n",
       "\n",
       "    .dataframe tbody tr th {\n",
       "        vertical-align: top;\n",
       "    }\n",
       "\n",
       "    .dataframe thead th {\n",
       "        text-align: right;\n",
       "    }\n",
       "</style>\n",
       "<table border=\"1\" class=\"dataframe\">\n",
       "  <thead>\n",
       "    <tr style=\"text-align: right;\">\n",
       "      <th></th>\n",
       "      <th>interest_rate</th>\n",
       "      <th>unemployment_rate</th>\n",
       "      <th>index_price</th>\n",
       "    </tr>\n",
       "  </thead>\n",
       "  <tbody>\n",
       "    <tr>\n",
       "      <th>0</th>\n",
       "      <td>2.75</td>\n",
       "      <td>5.3</td>\n",
       "      <td>1464</td>\n",
       "    </tr>\n",
       "    <tr>\n",
       "      <th>1</th>\n",
       "      <td>2.50</td>\n",
       "      <td>5.3</td>\n",
       "      <td>1394</td>\n",
       "    </tr>\n",
       "    <tr>\n",
       "      <th>2</th>\n",
       "      <td>2.50</td>\n",
       "      <td>5.3</td>\n",
       "      <td>1357</td>\n",
       "    </tr>\n",
       "    <tr>\n",
       "      <th>3</th>\n",
       "      <td>2.50</td>\n",
       "      <td>5.3</td>\n",
       "      <td>1293</td>\n",
       "    </tr>\n",
       "    <tr>\n",
       "      <th>4</th>\n",
       "      <td>2.50</td>\n",
       "      <td>5.4</td>\n",
       "      <td>1256</td>\n",
       "    </tr>\n",
       "  </tbody>\n",
       "</table>\n",
       "</div>"
      ],
      "text/plain": [
       "   interest_rate  unemployment_rate  index_price\n",
       "0           2.75                5.3         1464\n",
       "1           2.50                5.3         1394\n",
       "2           2.50                5.3         1357\n",
       "3           2.50                5.3         1293\n",
       "4           2.50                5.4         1256"
      ]
     },
     "execution_count": 54,
     "metadata": {},
     "output_type": "execute_result"
    }
   ],
   "source": [
    "df.head()"
   ]
  },
  {
   "cell_type": "code",
   "execution_count": 56,
   "id": "86c979e1",
   "metadata": {},
   "outputs": [
    {
     "data": {
      "text/plain": [
       "interest_rate        0\n",
       "unemployment_rate    0\n",
       "index_price          0\n",
       "dtype: int64"
      ]
     },
     "execution_count": 56,
     "metadata": {},
     "output_type": "execute_result"
    }
   ],
   "source": [
    "df.isnull().sum()"
   ]
  },
  {
   "cell_type": "code",
   "execution_count": 57,
   "id": "c4fdb154",
   "metadata": {},
   "outputs": [
    {
     "data": {
      "text/plain": [
       "<seaborn.axisgrid.PairGrid at 0x239448efee0>"
      ]
     },
     "execution_count": 57,
     "metadata": {},
     "output_type": "execute_result"
    },
    {
     "data": {
      "image/png": "[encoded data removed]",
      "text/plain": [
       "<Figure size 750x750 with 12 Axes>"
      ]
     },
     "metadata": {},
     "output_type": "display_data"
    }
   ],
   "source": [
    "## visualize the data\n",
    "sns.pairplot(df)"
   ]
  },
  {
   "cell_type": "code",
   "execution_count": 58,
   "id": "dd637f18",
   "metadata": {},
   "outputs": [
    {
     "data": {
      "text/html": [
       "<div>\n",
       "<style scoped>\n",
       "    .dataframe tbody tr th:only-of-type {\n",
       "        vertical-align: middle;\n",
       "    }\n",
       "\n",
       "    .dataframe tbody tr th {\n",
       "        vertical-align: top;\n",
       "    }\n",
       "\n",
       "    .dataframe thead th {\n",
       "        text-align: right;\n",
       "    }\n",
       "</style>\n",
       "<table border=\"1\" class=\"dataframe\">\n",
       "  <thead>\n",
       "    <tr style=\"text-align: right;\">\n",
       "      <th></th>\n",
       "      <th>interest_rate</th>\n",
       "      <th>unemployment_rate</th>\n",
       "      <th>index_price</th>\n",
       "    </tr>\n",
       "  </thead>\n",
       "  <tbody>\n",
       "    <tr>\n",
       "      <th>interest_rate</th>\n",
       "      <td>1.000000</td>\n",
       "      <td>-0.925814</td>\n",
       "      <td>0.935793</td>\n",
       "    </tr>\n",
       "    <tr>\n",
       "      <th>unemployment_rate</th>\n",
       "      <td>-0.925814</td>\n",
       "      <td>1.000000</td>\n",
       "      <td>-0.922338</td>\n",
       "    </tr>\n",
       "    <tr>\n",
       "      <th>index_price</th>\n",
       "      <td>0.935793</td>\n",
       "      <td>-0.922338</td>\n",
       "      <td>1.000000</td>\n",
       "    </tr>\n",
       "  </tbody>\n",
       "</table>\n",
       "</div>"
      ],
      "text/plain": [
       "                   interest_rate  unemployment_rate  index_price\n",
       "interest_rate           1.000000          -0.925814     0.935793\n",
       "unemployment_rate      -0.925814           1.000000    -0.922338\n",
       "index_price             0.935793          -0.922338     1.000000"
      ]
     },
     "execution_count": 58,
     "metadata": {},
     "output_type": "execute_result"
    }
   ],
   "source": [
    "df.corr()"
   ]
  },
  {
   "cell_type": "code",
   "execution_count": null,
   "id": "0c8b97b9",
   "metadata": {},
   "outputs": [],
   "source": [
    "# conclusion:\n",
    "# interst rate and unemployment rate have a strong positive correlation with the economic index,\n",
    "# while unemployment rate has a strong negative correlation with the economic index."
   ]
  },
  {
   "cell_type": "code",
   "execution_count": 62,
   "id": "37fc70df",
   "metadata": {},
   "outputs": [
    {
     "data": {
      "text/plain": [
       "Text(0, 0.5, 'Unemployment Rate')"
      ]
     },
     "execution_count": 62,
     "metadata": {},
     "output_type": "execute_result"
    },
    {
     "data": {
      "image/png": "[encoded data removed]",
      "text/plain": [
       "<Figure size 640x480 with 1 Axes>"
      ]
     },
     "metadata": {},
     "output_type": "display_data"
    }
   ],
   "source": [
    "# visualize data points more closely\n",
    "plt.scatter(df['interest_rate'], df['unemployment_rate'], color='green', label='Interest Rate vs Unemployment Rate')\n",
    "plt.xlabel('Interest Rate')\n",
    "plt.ylabel('Unemployment Rate')"
   ]
  },
  {
   "cell_type": "code",
   "execution_count": 63,
   "id": "175f57b5",
   "metadata": {},
   "outputs": [],
   "source": [
    "# independent and dependent features\n",
    "X = df.iloc[:,:-1] # Independent features\n",
    "y = df.iloc[:,-1] # Dependent feature"
   ]
  },
  {
   "cell_type": "code",
   "execution_count": 66,
   "id": "f030b59e",
   "metadata": {},
   "outputs": [
    {
     "data": {
      "text/html": [
       "<div>\n",
       "<style scoped>\n",
       "    .dataframe tbody tr th:only-of-type {\n",
       "        vertical-align: middle;\n",
       "    }\n",
       "\n",
       "    .dataframe tbody tr th {\n",
       "        vertical-align: top;\n",
       "    }\n",
       "\n",
       "    .dataframe thead th {\n",
       "        text-align: right;\n",
       "    }\n",
       "</style>\n",
       "<table border=\"1\" class=\"dataframe\">\n",
       "  <thead>\n",
       "    <tr style=\"text-align: right;\">\n",
       "      <th></th>\n",
       "      <th>interest_rate</th>\n",
       "      <th>unemployment_rate</th>\n",
       "    </tr>\n",
       "  </thead>\n",
       "  <tbody>\n",
       "    <tr>\n",
       "      <th>0</th>\n",
       "      <td>2.75</td>\n",
       "      <td>5.3</td>\n",
       "    </tr>\n",
       "    <tr>\n",
       "      <th>1</th>\n",
       "      <td>2.50</td>\n",
       "      <td>5.3</td>\n",
       "    </tr>\n",
       "    <tr>\n",
       "      <th>2</th>\n",
       "      <td>2.50</td>\n",
       "      <td>5.3</td>\n",
       "    </tr>\n",
       "    <tr>\n",
       "      <th>3</th>\n",
       "      <td>2.50</td>\n",
       "      <td>5.3</td>\n",
       "    </tr>\n",
       "    <tr>\n",
       "      <th>4</th>\n",
       "      <td>2.50</td>\n",
       "      <td>5.4</td>\n",
       "    </tr>\n",
       "  </tbody>\n",
       "</table>\n",
       "</div>"
      ],
      "text/plain": [
       "   interest_rate  unemployment_rate\n",
       "0           2.75                5.3\n",
       "1           2.50                5.3\n",
       "2           2.50                5.3\n",
       "3           2.50                5.3\n",
       "4           2.50                5.4"
      ]
     },
     "execution_count": 66,
     "metadata": {},
     "output_type": "execute_result"
    }
   ],
   "source": [
    "X.head()"
   ]
  },
  {
   "cell_type": "code",
   "execution_count": 68,
   "id": "a4aa573d",
   "metadata": {},
   "outputs": [
    {
     "data": {
      "text/plain": [
       "0    1464\n",
       "1    1394\n",
       "2    1357\n",
       "3    1293\n",
       "4    1256\n",
       "Name: index_price, dtype: int64"
      ]
     },
     "execution_count": 68,
     "metadata": {},
     "output_type": "execute_result"
    }
   ],
   "source": [
    "y.head()"
   ]
  },
  {
   "cell_type": "code",
   "execution_count": 69,
   "id": "dd6da7e1",
   "metadata": {},
   "outputs": [],
   "source": [
    "# train and test split\n",
    "X_train, X_test, y_train, y_test = train_test_split(X, y, test_size=0.25, random_state=42)"
   ]
  },
  {
   "cell_type": "code",
   "execution_count": 78,
   "id": "a3b57582",
   "metadata": {},
   "outputs": [
    {
     "data": {
      "text/plain": [
       "<Axes: xlabel='interest_rate', ylabel='unemployment_rate'>"
      ]
     },
     "execution_count": 78,
     "metadata": {},
     "output_type": "execute_result"
    },
    {
     "data": {
      "image/png": "[encoded data removed]",
      "text/plain": [
       "<Figure size 640x480 with 1 Axes>"
      ]
     },
     "metadata": {},
     "output_type": "display_data"
    }
   ],
   "source": [
    "sns.regplot(x=df['interest_rate'], y = df['unemployment_rate'], data=df, color='blue', label='Training Data')"
   ]
  },
  {
   "cell_type": "code",
   "execution_count": 79,
   "id": "810922e0",
   "metadata": {},
   "outputs": [
    {
     "data": {
      "text/plain": [
       "<Axes: xlabel='interest_rate', ylabel='index_price'>"
      ]
     },
     "execution_count": 79,
     "metadata": {},
     "output_type": "execute_result"
    },
    {
     "data": {
      "image/png": "[encoded data removed]",
      "text/plain": [
       "<Figure size 640x480 with 1 Axes>"
      ]
     },
     "metadata": {},
     "output_type": "display_data"
    }
   ],
   "source": [
    "sns.regplot(x=df['interest_rate'], y = df['index_price'], data=df, color='blue', label='Training Data')"
   ]
  },
  {
   "cell_type": "code",
   "execution_count": 80,
   "id": "19a80736",
   "metadata": {},
   "outputs": [
    {
     "data": {
      "text/plain": [
       "<Axes: xlabel='unemployment_rate', ylabel='index_price'>"
      ]
     },
     "execution_count": 80,
     "metadata": {},
     "output_type": "execute_result"
    },
    {
     "data": {
      "image/png": "[encoded data removed]",
      "text/plain": [
       "<Figure size 640x480 with 1 Axes>"
      ]
     },
     "metadata": {},
     "output_type": "display_data"
    }
   ],
   "source": [
    "sns.regplot(x=df['unemployment_rate'], y = df['index_price'], data=df, color='blue', label='Training Data')"
   ]
  },
  {
   "cell_type": "code",
   "execution_count": 99,
   "id": "591ddba3",
   "metadata": {},
   "outputs": [],
   "source": [
    "scaler = StandardScaler()\n",
    "X_train = scaler.fit_transform(X_train)  # Fit and transform the training data\n",
    "X_test = scaler.transform(X_test)  # Transform the test data using the same scaler"
   ]
  },
  {
   "cell_type": "code",
   "execution_count": 100,
   "id": "08d672a5",
   "metadata": {},
   "outputs": [
    {
     "data": {
      "text/plain": [
       "((18, 2), (6, 2), (18,), (6,))"
      ]
     },
     "execution_count": 100,
     "metadata": {},
     "output_type": "execute_result"
    }
   ],
   "source": [
    "X_train.shape, X_test.shape, y_train.shape, y_test.shape"
   ]
  },
  {
   "cell_type": "code",
   "execution_count": 101,
   "id": "daff623e",
   "metadata": {},
   "outputs": [
    {
     "data": {
      "text/html": [
       "<style>#sk-container-id-4 {\n",
       "  /* Definition of color scheme common for light and dark mode */\n",
       "  --sklearn-color-text: #000;\n",
       "  --sklearn-color-text-muted: #666;\n",
       "  --sklearn-color-line: gray;\n",
       "  /* Definition of color scheme for unfitted estimators */\n",
       "  --sklearn-color-unfitted-level-0: #fff5e6;\n",
       "  --sklearn-color-unfitted-level-1: #f6e4d2;\n",
       "  --sklearn-color-unfitted-level-2: #ffe0b3;\n",
       "  --sklearn-color-unfitted-level-3: chocolate;\n",
       "  /* Definition of color scheme for fitted estimators */\n",
       "  --sklearn-color-fitted-level-0: #f0f8ff;\n",
       "  --sklearn-color-fitted-level-1: #d4ebff;\n",
       "  --sklearn-color-fitted-level-2: #b3dbfd;\n",
       "  --sklearn-color-fitted-level-3: cornflowerblue;\n",
       "\n",
       "  /* Specific color for light theme */\n",
       "  --sklearn-color-text-on-default-background: var(--sg-text-color, var(--theme-code-foreground, var(--jp-content-font-color1, black)));\n",
       "  --sklearn-color-background: var(--sg-background-color, var(--theme-background, var(--jp-layout-color0, white)));\n",
       "  --sklearn-color-border-box: var(--sg-text-color, var(--theme-code-foreground, var(--jp-content-font-color1, black)));\n",
       "  --sklearn-color-icon: #696969;\n",
       "\n",
       "  @media (prefers-color-scheme: dark) {\n",
       "    /* Redefinition of color scheme for dark theme */\n",
       "    --sklearn-color-text-on-default-background: var(--sg-text-color, var(--theme-code-foreground, var(--jp-content-font-color1, white)));\n",
       "    --sklearn-color-background: var(--sg-background-color, var(--theme-background, var(--jp-layout-color0, #111)));\n",
       "    --sklearn-color-border-box: var(--sg-text-color, var(--theme-code-foreground, var(--jp-content-font-color1, white)));\n",
       "    --sklearn-color-icon: #878787;\n",
       "  }\n",
       "}\n",
       "\n",
       "#sk-container-id-4 {\n",
       "  color: var(--sklearn-color-text);\n",
       "}\n",
       "\n",
       "#sk-container-id-4 pre {\n",
       "  padding: 0;\n",
       "}\n",
       "\n",
       "#sk-container-id-4 input.sk-hidden--visually {\n",
       "  border: 0;\n",
       "  clip: rect(1px 1px 1px 1px);\n",
       "  clip: rect(1px, 1px, 1px, 1px);\n",
       "  height: 1px;\n",
       "  margin: -1px;\n",
       "  overflow: hidden;\n",
       "  padding: 0;\n",
       "  position: absolute;\n",
       "  width: 1px;\n",
       "}\n",
       "\n",
       "#sk-container-id-4 div.sk-dashed-wrapped {\n",
       "  border: 1px dashed var(--sklearn-color-line);\n",
       "  margin: 0 0.4em 0.5em 0.4em;\n",
       "  box-sizing: border-box;\n",
       "  padding-bottom: 0.4em;\n",
       "  background-color: var(--sklearn-color-background);\n",
       "}\n",
       "\n",
       "#sk-container-id-4 div.sk-container {\n",
       "  /* jupyter's `normalize.less` sets `[hidden] { display: none; }`\n",
       "     but bootstrap.min.css set `[hidden] { display: none !important; }`\n",
       "     so we also need the `!important` here to be able to override the\n",
       "     default hidden behavior on the sphinx rendered scikit-learn.org.\n",
       "     See: https://github.com/scikit-learn/scikit-learn/issues/21755 */\n",
       "  display: inline-block !important;\n",
       "  position: relative;\n",
       "}\n",
       "\n",
       "#sk-container-id-4 div.sk-text-repr-fallback {\n",
       "  display: none;\n",
       "}\n",
       "\n",
       "div.sk-parallel-item,\n",
       "div.sk-serial,\n",
       "div.sk-item {\n",
       "  /* draw centered vertical line to link estimators */\n",
       "  background-image: linear-gradient(var(--sklearn-color-text-on-default-background), var(--sklearn-color-text-on-default-background));\n",
       "  background-size: 2px 100%;\n",
       "  background-repeat: no-repeat;\n",
       "  background-position: center center;\n",
       "}\n",
       "\n",
       "/* Parallel-specific style estimator block */\n",
       "\n",
       "#sk-container-id-4 div.sk-parallel-item::after {\n",
       "  content: \"\";\n",
       "  width: 100%;\n",
       "  border-bottom: 2px solid var(--sklearn-color-text-on-default-background);\n",
       "  flex-grow: 1;\n",
       "}\n",
       "\n",
       "#sk-container-id-4 div.sk-parallel {\n",
       "  display: flex;\n",
       "  align-items: stretch;\n",
       "  justify-content: center;\n",
       "  background-color: var(--sklearn-color-background);\n",
       "  position: relative;\n",
       "}\n",
       "\n",
       "#sk-container-id-4 div.sk-parallel-item {\n",
       "  display: flex;\n",
       "  flex-direction: column;\n",
       "}\n",
       "\n",
       "#sk-container-id-4 div.sk-parallel-item:first-child::after {\n",
       "  align-self: flex-end;\n",
       "  width: 50%;\n",
       "}\n",
       "\n",
       "#sk-container-id-4 div.sk-parallel-item:last-child::after {\n",
       "  align-self: flex-start;\n",
       "  width: 50%;\n",
       "}\n",
       "\n",
       "#sk-container-id-4 div.sk-parallel-item:only-child::after {\n",
       "  width: 0;\n",
       "}\n",
       "\n",
       "/* Serial-specific style estimator block */\n",
       "\n",
       "#sk-container-id-4 div.sk-serial {\n",
       "  display: flex;\n",
       "  flex-direction: column;\n",
       "  align-items: center;\n",
       "  background-color: var(--sklearn-color-background);\n",
       "  padding-right: 1em;\n",
       "  padding-left: 1em;\n",
       "}\n",
       "\n",
       "\n",
       "/* Toggleable style: style used for estimator/Pipeline/ColumnTransformer box that is\n",
       "clickable and can be expanded/collapsed.\n",
       "- Pipeline and ColumnTransformer use this feature and define the default style\n",
       "- Estimators will overwrite some part of the style using the `sk-estimator` class\n",
       "*/\n",
       "\n",
       "/* Pipeline and ColumnTransformer style (default) */\n",
       "\n",
       "#sk-container-id-4 div.sk-toggleable {\n",
       "  /* Default theme specific background. It is overwritten whether we have a\n",
       "  specific estimator or a Pipeline/ColumnTransformer */\n",
       "  background-color: var(--sklearn-color-background);\n",
       "}\n",
       "\n",
       "/* Toggleable label */\n",
       "#sk-container-id-4 label.sk-toggleable__label {\n",
       "  cursor: pointer;\n",
       "  display: flex;\n",
       "  width: 100%;\n",
       "  margin-bottom: 0;\n",
       "  padding: 0.5em;\n",
       "  box-sizing: border-box;\n",
       "  text-align: center;\n",
       "  align-items: start;\n",
       "  justify-content: space-between;\n",
       "  gap: 0.5em;\n",
       "}\n",
       "\n",
       "#sk-container-id-4 label.sk-toggleable__label .caption {\n",
       "  font-size: 0.6rem;\n",
       "  font-weight: lighter;\n",
       "  color: var(--sklearn-color-text-muted);\n",
       "}\n",
       "\n",
       "#sk-container-id-4 label.sk-toggleable__label-arrow:before {\n",
       "  /* Arrow on the left of the label */\n",
       "  content: \"▸\";\n",
       "  float: left;\n",
       "  margin-right: 0.25em;\n",
       "  color: var(--sklearn-color-icon);\n",
       "}\n",
       "\n",
       "#sk-container-id-4 label.sk-toggleable__label-arrow:hover:before {\n",
       "  color: var(--sklearn-color-text);\n",
       "}\n",
       "\n",
       "/* Toggleable content - dropdown */\n",
       "\n",
       "#sk-container-id-4 div.sk-toggleable__content {\n",
       "  max-height: 0;\n",
       "  max-width: 0;\n",
       "  overflow: hidden;\n",
       "  text-align: left;\n",
       "  /* unfitted */\n",
       "  background-color: var(--sklearn-color-unfitted-level-0);\n",
       "}\n",
       "\n",
       "#sk-container-id-4 div.sk-toggleable__content.fitted {\n",
       "  /* fitted */\n",
       "  background-color: var(--sklearn-color-fitted-level-0);\n",
       "}\n",
       "\n",
       "#sk-container-id-4 div.sk-toggleable__content pre {\n",
       "  margin: 0.2em;\n",
       "  border-radius: 0.25em;\n",
       "  color: var(--sklearn-color-text);\n",
       "  /* unfitted */\n",
       "  background-color: var(--sklearn-color-unfitted-level-0);\n",
       "}\n",
       "\n",
       "#sk-container-id-4 div.sk-toggleable__content.fitted pre {\n",
       "  /* unfitted */\n",
       "  background-color: var(--sklearn-color-fitted-level-0);\n",
       "}\n",
       "\n",
       "#sk-container-id-4 input.sk-toggleable__control:checked~div.sk-toggleable__content {\n",
       "  /* Expand drop-down */\n",
       "  max-height: 200px;\n",
       "  max-width: 100%;\n",
       "  overflow: auto;\n",
       "}\n",
       "\n",
       "#sk-container-id-4 input.sk-toggleable__control:checked~label.sk-toggleable__label-arrow:before {\n",
       "  content: \"▾\";\n",
       "}\n",
       "\n",
       "/* Pipeline/ColumnTransformer-specific style */\n",
       "\n",
       "#sk-container-id-4 div.sk-label input.sk-toggleable__control:checked~label.sk-toggleable__label {\n",
       "  color: var(--sklearn-color-text);\n",
       "  background-color: var(--sklearn-color-unfitted-level-2);\n",
       "}\n",
       "\n",
       "#sk-container-id-4 div.sk-label.fitted input.sk-toggleable__control:checked~label.sk-toggleable__label {\n",
       "  background-color: var(--sklearn-color-fitted-level-2);\n",
       "}\n",
       "\n",
       "/* Estimator-specific style */\n",
       "\n",
       "/* Colorize estimator box */\n",
       "#sk-container-id-4 div.sk-estimator input.sk-toggleable__control:checked~label.sk-toggleable__label {\n",
       "  /* unfitted */\n",
       "  background-color: var(--sklearn-color-unfitted-level-2);\n",
       "}\n",
       "\n",
       "#sk-container-id-4 div.sk-estimator.fitted input.sk-toggleable__control:checked~label.sk-toggleable__label {\n",
       "  /* fitted */\n",
       "  background-color: var(--sklearn-color-fitted-level-2);\n",
       "}\n",
       "\n",
       "#sk-container-id-4 div.sk-label label.sk-toggleable__label,\n",
       "#sk-container-id-4 div.sk-label label {\n",
       "  /* The background is the default theme color */\n",
       "  color: var(--sklearn-color-text-on-default-background);\n",
       "}\n",
       "\n",
       "/* On hover, darken the color of the background */\n",
       "#sk-container-id-4 div.sk-label:hover label.sk-toggleable__label {\n",
       "  color: var(--sklearn-color-text);\n",
       "  background-color: var(--sklearn-color-unfitted-level-2);\n",
       "}\n",
       "\n",
       "/* Label box, darken color on hover, fitted */\n",
       "#sk-container-id-4 div.sk-label.fitted:hover label.sk-toggleable__label.fitted {\n",
       "  color: var(--sklearn-color-text);\n",
       "  background-color: var(--sklearn-color-fitted-level-2);\n",
       "}\n",
       "\n",
       "/* Estimator label */\n",
       "\n",
       "#sk-container-id-4 div.sk-label label {\n",
       "  font-family: monospace;\n",
       "  font-weight: bold;\n",
       "  display: inline-block;\n",
       "  line-height: 1.2em;\n",
       "}\n",
       "\n",
       "#sk-container-id-4 div.sk-label-container {\n",
       "  text-align: center;\n",
       "}\n",
       "\n",
       "/* Estimator-specific */\n",
       "#sk-container-id-4 div.sk-estimator {\n",
       "  font-family: monospace;\n",
       "  border: 1px dotted var(--sklearn-color-border-box);\n",
       "  border-radius: 0.25em;\n",
       "  box-sizing: border-box;\n",
       "  margin-bottom: 0.5em;\n",
       "  /* unfitted */\n",
       "  background-color: var(--sklearn-color-unfitted-level-0);\n",
       "}\n",
       "\n",
       "#sk-container-id-4 div.sk-estimator.fitted {\n",
       "  /* fitted */\n",
       "  background-color: var(--sklearn-color-fitted-level-0);\n",
       "}\n",
       "\n",
       "/* on hover */\n",
       "#sk-container-id-4 div.sk-estimator:hover {\n",
       "  /* unfitted */\n",
       "  background-color: var(--sklearn-color-unfitted-level-2);\n",
       "}\n",
       "\n",
       "#sk-container-id-4 div.sk-estimator.fitted:hover {\n",
       "  /* fitted */\n",
       "  background-color: var(--sklearn-color-fitted-level-2);\n",
       "}\n",
       "\n",
       "/* Specification for estimator info (e.g. \"i\" and \"?\") */\n",
       "\n",
       "/* Common style for \"i\" and \"?\" */\n",
       "\n",
       ".sk-estimator-doc-link,\n",
       "a:link.sk-estimator-doc-link,\n",
       "a:visited.sk-estimator-doc-link {\n",
       "  float: right;\n",
       "  font-size: smaller;\n",
       "  line-height: 1em;\n",
       "  font-family: monospace;\n",
       "  background-color: var(--sklearn-color-background);\n",
       "  border-radius: 1em;\n",
       "  height: 1em;\n",
       "  width: 1em;\n",
       "  text-decoration: none !important;\n",
       "  margin-left: 0.5em;\n",
       "  text-align: center;\n",
       "  /* unfitted */\n",
       "  border: var(--sklearn-color-unfitted-level-1) 1pt solid;\n",
       "  color: var(--sklearn-color-unfitted-level-1);\n",
       "}\n",
       "\n",
       ".sk-estimator-doc-link.fitted,\n",
       "a:link.sk-estimator-doc-link.fitted,\n",
       "a:visited.sk-estimator-doc-link.fitted {\n",
       "  /* fitted */\n",
       "  border: var(--sklearn-color-fitted-level-1) 1pt solid;\n",
       "  color: var(--sklearn-color-fitted-level-1);\n",
       "}\n",
       "\n",
       "/* On hover */\n",
       "div.sk-estimator:hover .sk-estimator-doc-link:hover,\n",
       ".sk-estimator-doc-link:hover,\n",
       "div.sk-label-container:hover .sk-estimator-doc-link:hover,\n",
       ".sk-estimator-doc-link:hover {\n",
       "  /* unfitted */\n",
       "  background-color: var(--sklearn-color-unfitted-level-3);\n",
       "  color: var(--sklearn-color-background);\n",
       "  text-decoration: none;\n",
       "}\n",
       "\n",
       "div.sk-estimator.fitted:hover .sk-estimator-doc-link.fitted:hover,\n",
       ".sk-estimator-doc-link.fitted:hover,\n",
       "div.sk-label-container:hover .sk-estimator-doc-link.fitted:hover,\n",
       ".sk-estimator-doc-link.fitted:hover {\n",
       "  /* fitted */\n",
       "  background-color: var(--sklearn-color-fitted-level-3);\n",
       "  color: var(--sklearn-color-background);\n",
       "  text-decoration: none;\n",
       "}\n",
       "\n",
       "/* Span, style for the box shown on hovering the info icon */\n",
       ".sk-estimator-doc-link span {\n",
       "  display: none;\n",
       "  z-index: 9999;\n",
       "  position: relative;\n",
       "  font-weight: normal;\n",
       "  right: .2ex;\n",
       "  padding: .5ex;\n",
       "  margin: .5ex;\n",
       "  width: min-content;\n",
       "  min-width: 20ex;\n",
       "  max-width: 50ex;\n",
       "  color: var(--sklearn-color-text);\n",
       "  box-shadow: 2pt 2pt 4pt #999;\n",
       "  /* unfitted */\n",
       "  background: var(--sklearn-color-unfitted-level-0);\n",
       "  border: .5pt solid var(--sklearn-color-unfitted-level-3);\n",
       "}\n",
       "\n",
       ".sk-estimator-doc-link.fitted span {\n",
       "  /* fitted */\n",
       "  background: var(--sklearn-color-fitted-level-0);\n",
       "  border: var(--sklearn-color-fitted-level-3);\n",
       "}\n",
       "\n",
       ".sk-estimator-doc-link:hover span {\n",
       "  display: block;\n",
       "}\n",
       "\n",
       "/* \"?\"-specific style due to the `<a>` HTML tag */\n",
       "\n",
       "#sk-container-id-4 a.estimator_doc_link {\n",
       "  float: right;\n",
       "  font-size: 1rem;\n",
       "  line-height: 1em;\n",
       "  font-family: monospace;\n",
       "  background-color: var(--sklearn-color-background);\n",
       "  border-radius: 1rem;\n",
       "  height: 1rem;\n",
       "  width: 1rem;\n",
       "  text-decoration: none;\n",
       "  /* unfitted */\n",
       "  color: var(--sklearn-color-unfitted-level-1);\n",
       "  border: var(--sklearn-color-unfitted-level-1) 1pt solid;\n",
       "}\n",
       "\n",
       "#sk-container-id-4 a.estimator_doc_link.fitted {\n",
       "  /* fitted */\n",
       "  border: var(--sklearn-color-fitted-level-1) 1pt solid;\n",
       "  color: var(--sklearn-color-fitted-level-1);\n",
       "}\n",
       "\n",
       "/* On hover */\n",
       "#sk-container-id-4 a.estimator_doc_link:hover {\n",
       "  /* unfitted */\n",
       "  background-color: var(--sklearn-color-unfitted-level-3);\n",
       "  color: var(--sklearn-color-background);\n",
       "  text-decoration: none;\n",
       "}\n",
       "\n",
       "#sk-container-id-4 a.estimator_doc_link.fitted:hover {\n",
       "  /* fitted */\n",
       "  background-color: var(--sklearn-color-fitted-level-3);\n",
       "}\n",
       "</style><div id=\"sk-container-id-4\" class=\"sk-top-container\"><div class=\"sk-text-repr-fallback\"><pre>LinearRegression()</pre><b>In a Jupyter environment, please rerun this cell to show the HTML representation or trust the notebook. <br />On GitHub, the HTML representation is unable to render, please try loading this page with nbviewer.org.</b></div><div class=\"sk-container\" hidden><div class=\"sk-item\"><div class=\"sk-estimator fitted sk-toggleable\"><input class=\"sk-toggleable__control sk-hidden--visually\" id=\"sk-estimator-id-4\" type=\"checkbox\" checked><label for=\"sk-estimator-id-4\" class=\"sk-toggleable__label fitted sk-toggleable__label-arrow\"><div><div>LinearRegression</div></div><div><a class=\"sk-estimator-doc-link fitted\" rel=\"noreferrer\" target=\"_blank\" href=\"https://scikit-learn.org/1.6/modules/generated/sklearn.linear_model.LinearRegression.html\">?<span>Documentation for LinearRegression</span></a><span class=\"sk-estimator-doc-link fitted\">i<span>Fitted</span></span></div></label><div class=\"sk-toggleable__content fitted\"><pre>LinearRegression()</pre></div> </div></div></div></div>"
      ],
      "text/plain": [
       "LinearRegression()"
      ]
     },
     "execution_count": 101,
     "metadata": {},
     "output_type": "execute_result"
    }
   ],
   "source": [
    "linear_model = LinearRegression()\n",
    "linear_model.fit(X_train, y_train)  # Fit the model to the training data"
   ]
  },
  {
   "cell_type": "code",
   "execution_count": 102,
   "id": "9d4c0fe1",
   "metadata": {},
   "outputs": [
    {
     "name": "stdout",
     "output_type": "stream",
     "text": [
      "Cross-validation scores: [-4921.61331265 -7686.87497294 -5135.9962549 ]\n",
      "-5914.828180162392\n"
     ]
    }
   ],
   "source": [
    "# cross-validation\n",
    "# definition:\n",
    "# Cross-validation is a technique used to assess the performance of a machine learning model \n",
    "# by splitting the dataset into multiple subsets (folds) and training/testing the model on \n",
    "# different combinations of these subsets.\n",
    "# It helps to evaluate the model's generalization ability and reduce \n",
    "# overfitting by providing a more reliable estimate of its performance on unseen data.\n",
    "# It involves dividing the dataset into k subsets (folds), training the model on k- 1 folds, \n",
    "# and testing it on the remaining fold. This process is repeated k times, with each fold serving as the test set once.\n",
    "\n",
    "from sklearn.model_selection import cross_val_score\n",
    "cv_scores = cross_val_score(linear_model, X_train, y_train, cv=3, scoring='neg_mean_squared_error')  # 5-fold cross-validation\n",
    "print(\"Cross-validation scores:\", cv_scores)\n",
    "print(np.mean(cv_scores))  # Average cross-validation score"
   ]
  },
  {
   "cell_type": "code",
   "execution_count": 103,
   "id": "c038770d",
   "metadata": {},
   "outputs": [
    {
     "data": {
      "text/plain": [
       "array([1180.7466813 ,  802.74279699, 1379.83457045,  838.52599602,\n",
       "        973.85313963, 1144.96348227])"
      ]
     },
     "execution_count": 103,
     "metadata": {},
     "output_type": "execute_result"
    }
   ],
   "source": [
    "# predicting for test data\n",
    "y_pred = linear_model.predict(X_test)\n",
    "y_pred"
   ]
  },
  {
   "cell_type": "code",
   "execution_count": 104,
   "id": "2bf79194",
   "metadata": {},
   "outputs": [
    {
     "name": "stdout",
     "output_type": "stream",
     "text": [
      "Mean Squared Error: 8108.567426306604\n",
      "Mean Absolute Error: 73.80444932337097\n",
      "Root Mean Squared Error: 90.04758423359621\n",
      "R-squared: 0.7591371539010257\n"
     ]
    }
   ],
   "source": [
    "mse = mean_squared_error(y_test, y_pred)\n",
    "mae = mean_absolute_error(y_test, y_pred)\n",
    "rmse = np.sqrt(mse)  # Root Mean Squared Error\n",
    "r2 = r2_score(y_test, y_pred)\n",
    "print(\"Mean Squared Error:\", mse)\n",
    "print(\"Mean Absolute Error:\", mae)\n",
    "print(\"Root Mean Squared Error:\", rmse)\n",
    "print(\"R-squared:\", r2)"
   ]
  },
  {
   "cell_type": "code",
   "execution_count": 107,
   "id": "b7e6c729",
   "metadata": {},
   "outputs": [
    {
     "data": {
      "text/plain": [
       "Text(0.5, 1.0, 'Actual vs Predicted Values')"
      ]
     },
     "execution_count": 107,
     "metadata": {},
     "output_type": "execute_result"
    },
    {
     "data": {
      "image/png": "[encoded data removed]",
      "text/plain": [
       "<Figure size 640x480 with 1 Axes>"
      ]
     },
     "metadata": {},
     "output_type": "display_data"
    }
   ],
   "source": [
    "# Assumptions:\n",
    "plt.scatter(y_test, y_pred, color='grey', label='Test Data')\n",
    "plt.xlabel('Actual Values')\n",
    "plt.ylabel('Predicted Values')\n",
    "plt.title('Actual vs Predicted Values')"
   ]
  },
  {
   "cell_type": "code",
   "execution_count": 114,
   "id": "61521329",
   "metadata": {},
   "outputs": [
    {
     "data": {
      "text/plain": [
       "<seaborn.axisgrid.FacetGrid at 0x2394b75b2b0>"
      ]
     },
     "execution_count": 114,
     "metadata": {},
     "output_type": "execute_result"
    },
    {
     "data": {
      "image/png": "[encoded data removed]",
      "text/plain": [
       "<Figure size 500x500 with 1 Axes>"
      ]
     },
     "metadata": {},
     "output_type": "display_data"
    }
   ],
   "source": [
    "residuals = y_test - y_pred\n",
    "sns.displot(residuals, kind='kde', color='purple')\n"
   ]
  },
  {
   "cell_type": "code",
   "execution_count": 116,
   "id": "8aa13885",
   "metadata": {},
   "outputs": [
    {
     "data": {
      "image/png": "[encoded data removed]",
      "text/plain": [
       "<Figure size 640x480 with 1 Axes>"
      ]
     },
     "metadata": {},
     "output_type": "display_data"
    }
   ],
   "source": [
    "# scatter plot of residuals vs predicted values\n",
    "plt.scatter(y_pred, residuals, color='orange', label='Residuals')\n",
    "# result shows that scatter plot are randomly distributed around 0, indicating that the model's assumptions are met.\n",
    "plt.axhline(0, color='red', linestyle='--', label='Zero Line')\n",
    "plt.xlabel('Predicted Values')\n",
    "plt.ylabel('Residuals')\n",
    "plt.title('Residuals vs Predicted Values')  \n",
    "plt.legend()\n",
    "plt.show()"
   ]
  },
  {
   "cell_type": "code",
   "execution_count": 119,
   "id": "b22d379f",
   "metadata": {},
   "outputs": [
    {
     "name": "stderr",
     "output_type": "stream",
     "text": [
      "c:\\Users\\stuar\\Desktop\\Data Science Learning\\venv\\lib\\site-packages\\scipy\\stats\\_axis_nan_policy.py:430: UserWarning: `kurtosistest` p-value may be inaccurate with fewer than 20 observations; only n=18 observations were given.\n",
      "  return hypotest_fun_in(*args, **kwds)\n"
     ]
    },
    {
     "data": {
      "text/html": [
       "<table class=\"simpletable\">\n",
       "<caption>OLS Regression Results</caption>\n",
       "<tr>\n",
       "  <th>Dep. Variable:</th>       <td>index_price</td>   <th>  R-squared (uncentered):</th>      <td>   0.035</td>\n",
       "</tr>\n",
       "<tr>\n",
       "  <th>Model:</th>                   <td>OLS</td>       <th>  Adj. R-squared (uncentered):</th> <td>  -0.086</td>\n",
       "</tr>\n",
       "<tr>\n",
       "  <th>Method:</th>             <td>Least Squares</td>  <th>  F-statistic:       </th>          <td>  0.2880</td>\n",
       "</tr>\n",
       "<tr>\n",
       "  <th>Date:</th>             <td>Tue, 01 Jul 2025</td> <th>  Prob (F-statistic):</th>           <td> 0.754</td> \n",
       "</tr>\n",
       "<tr>\n",
       "  <th>Time:</th>                 <td>12:37:16</td>     <th>  Log-Likelihood:    </th>          <td> -150.85</td>\n",
       "</tr>\n",
       "<tr>\n",
       "  <th>No. Observations:</th>      <td>    18</td>      <th>  AIC:               </th>          <td>   305.7</td>\n",
       "</tr>\n",
       "<tr>\n",
       "  <th>Df Residuals:</th>          <td>    16</td>      <th>  BIC:               </th>          <td>   307.5</td>\n",
       "</tr>\n",
       "<tr>\n",
       "  <th>Df Model:</th>              <td>     2</td>      <th>                     </th>              <td> </td>   \n",
       "</tr>\n",
       "<tr>\n",
       "  <th>Covariance Type:</th>      <td>nonrobust</td>    <th>                     </th>              <td> </td>   \n",
       "</tr>\n",
       "</table>\n",
       "<table class=\"simpletable\">\n",
       "<tr>\n",
       "   <td></td>     <th>coef</th>     <th>std err</th>      <th>t</th>      <th>P>|t|</th>  <th>[0.025</th>    <th>0.975]</th>  \n",
       "</tr>\n",
       "<tr>\n",
       "  <th>x1</th> <td>   88.2728</td> <td>  658.295</td> <td>    0.134</td> <td> 0.895</td> <td>-1307.250</td> <td> 1483.796</td>\n",
       "</tr>\n",
       "<tr>\n",
       "  <th>x2</th> <td> -116.2572</td> <td>  658.295</td> <td>   -0.177</td> <td> 0.862</td> <td>-1511.780</td> <td> 1279.266</td>\n",
       "</tr>\n",
       "</table>\n",
       "<table class=\"simpletable\">\n",
       "<tr>\n",
       "  <th>Omnibus:</th>       <td> 0.598</td> <th>  Durbin-Watson:     </th> <td>   0.007</td>\n",
       "</tr>\n",
       "<tr>\n",
       "  <th>Prob(Omnibus):</th> <td> 0.741</td> <th>  Jarque-Bera (JB):  </th> <td>   0.567</td>\n",
       "</tr>\n",
       "<tr>\n",
       "  <th>Skew:</th>          <td>-0.361</td> <th>  Prob(JB):          </th> <td>   0.753</td>\n",
       "</tr>\n",
       "<tr>\n",
       "  <th>Kurtosis:</th>      <td> 2.517</td> <th>  Cond. No.          </th> <td>    4.78</td>\n",
       "</tr>\n",
       "</table><br/><br/>Notes:<br/>[1] R² is computed without centering (uncentered) since the model does not contain a constant.<br/>[2] Standard Errors assume that the covariance matrix of the errors is correctly specified."
      ],
      "text/latex": [
       "\\begin{center}\n",
       "\\begin{tabular}{lclc}\n",
       "\\toprule\n",
       "\\textbf{Dep. Variable:}    &   index\\_price   & \\textbf{  R-squared (uncentered):}      &     0.035   \\\\\n",
       "\\textbf{Model:}            &       OLS        & \\textbf{  Adj. R-squared (uncentered):} &    -0.086   \\\\\n",
       "\\textbf{Method:}           &  Least Squares   & \\textbf{  F-statistic:       }          &    0.2880   \\\\\n",
       "\\textbf{Date:}             & Tue, 01 Jul 2025 & \\textbf{  Prob (F-statistic):}          &    0.754    \\\\\n",
       "\\textbf{Time:}             &     12:37:16     & \\textbf{  Log-Likelihood:    }          &   -150.85   \\\\\n",
       "\\textbf{No. Observations:} &          18      & \\textbf{  AIC:               }          &     305.7   \\\\\n",
       "\\textbf{Df Residuals:}     &          16      & \\textbf{  BIC:               }          &     307.5   \\\\\n",
       "\\textbf{Df Model:}         &           2      & \\textbf{                     }          &             \\\\\n",
       "\\textbf{Covariance Type:}  &    nonrobust     & \\textbf{                     }          &             \\\\\n",
       "\\bottomrule\n",
       "\\end{tabular}\n",
       "\\begin{tabular}{lcccccc}\n",
       "            & \\textbf{coef} & \\textbf{std err} & \\textbf{t} & \\textbf{P$> |$t$|$} & \\textbf{[0.025} & \\textbf{0.975]}  \\\\\n",
       "\\midrule\n",
       "\\textbf{x1} &      88.2728  &      658.295     &     0.134  &         0.895        &    -1307.250    &     1483.796     \\\\\n",
       "\\textbf{x2} &    -116.2572  &      658.295     &    -0.177  &         0.862        &    -1511.780    &     1279.266     \\\\\n",
       "\\bottomrule\n",
       "\\end{tabular}\n",
       "\\begin{tabular}{lclc}\n",
       "\\textbf{Omnibus:}       &  0.598 & \\textbf{  Durbin-Watson:     } &    0.007  \\\\\n",
       "\\textbf{Prob(Omnibus):} &  0.741 & \\textbf{  Jarque-Bera (JB):  } &    0.567  \\\\\n",
       "\\textbf{Skew:}          & -0.361 & \\textbf{  Prob(JB):          } &    0.753  \\\\\n",
       "\\textbf{Kurtosis:}      &  2.517 & \\textbf{  Cond. No.          } &     4.78  \\\\\n",
       "\\bottomrule\n",
       "\\end{tabular}\n",
       "%\\caption{OLS Regression Results}\n",
       "\\end{center}\n",
       "\n",
       "Notes: \\newline\n",
       " [1] R² is computed without centering (uncentered) since the model does not contain a constant. \\newline\n",
       " [2] Standard Errors assume that the covariance matrix of the errors is correctly specified."
      ],
      "text/plain": [
       "<class 'statsmodels.iolib.summary.Summary'>\n",
       "\"\"\"\n",
       "                                 OLS Regression Results                                \n",
       "=======================================================================================\n",
       "Dep. Variable:            index_price   R-squared (uncentered):                   0.035\n",
       "Model:                            OLS   Adj. R-squared (uncentered):             -0.086\n",
       "Method:                 Least Squares   F-statistic:                             0.2880\n",
       "Date:                Tue, 01 Jul 2025   Prob (F-statistic):                       0.754\n",
       "Time:                        12:37:16   Log-Likelihood:                         -150.85\n",
       "No. Observations:                  18   AIC:                                      305.7\n",
       "Df Residuals:                      16   BIC:                                      307.5\n",
       "Df Model:                           2                                                  \n",
       "Covariance Type:            nonrobust                                                  \n",
       "==============================================================================\n",
       "                 coef    std err          t      P>|t|      [0.025      0.975]\n",
       "------------------------------------------------------------------------------\n",
       "x1            88.2728    658.295      0.134      0.895   -1307.250    1483.796\n",
       "x2          -116.2572    658.295     -0.177      0.862   -1511.780    1279.266\n",
       "==============================================================================\n",
       "Omnibus:                        0.598   Durbin-Watson:                   0.007\n",
       "Prob(Omnibus):                  0.741   Jarque-Bera (JB):                0.567\n",
       "Skew:                          -0.361   Prob(JB):                        0.753\n",
       "Kurtosis:                       2.517   Cond. No.                         4.78\n",
       "==============================================================================\n",
       "\n",
       "Notes:\n",
       "[1] R² is computed without centering (uncentered) since the model does not contain a constant.\n",
       "[2] Standard Errors assume that the covariance matrix of the errors is correctly specified.\n",
       "\"\"\""
      ]
     },
     "execution_count": 119,
     "metadata": {},
     "output_type": "execute_result"
    }
   ],
   "source": [
    "# OLS regression using statsmodels\n",
    "import statsmodels.api as sm\n",
    "model = sm.OLS(y_train, X_train).fit()  # Fit the OLS model to the training data\n",
    "model.summary()  # Display the summary of the model results"
   ]
  },
  {
   "cell_type": "code",
   "execution_count": 120,
   "id": "76edfb6c",
   "metadata": {},
   "outputs": [
    {
     "name": "stdout",
     "output_type": "stream",
     "text": [
      "[  88.27275507 -116.25716066]\n"
     ]
    }
   ],
   "source": [
    "print(linear_model.coef_)"
   ]
  }
 ],
 "metadata": {
  "kernelspec": {
   "display_name": "venv",
   "language": "python",
   "name": "python3"
  },
  "language_info": {
   "codemirror_mode": {
    "name": "ipython",
    "version": 3
   },
   "file_extension": ".py",
   "mimetype": "text/x-python",
   "name": "python",
   "nbconvert_exporter": "python",
   "pygments_lexer": "ipython3",
   "version": "3.10.0"
  }
 },
 "nbformat": 4,
 "nbformat_minor": 5
}
