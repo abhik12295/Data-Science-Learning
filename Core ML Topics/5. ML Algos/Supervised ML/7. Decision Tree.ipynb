{
 "cells": [
  {
   "cell_type": "code",
   "execution_count": null,
   "id": "a30dbac5",
   "metadata": {},
   "outputs": [],
   "source": [
    "'''\n",
    "Decision Tree:\n",
    "Decision trees are a type of supervised learning algorithm used for both classification and regression tasks. They work by splitting the data into subsets based on the value of input features, creating a tree-like structure where each node represents a feature and each branch represents a decision rule. The process continues until a stopping criterion is met, such as reaching a maximum depth or having a minimum number of samples in a leaf node.\n",
    "Decision trees are easy to interpret and visualize, making them a popular choice for many applications. However they can be prone to overfitting, especially when the tree is deep and complex. To mitigate this, techniques such as pruning (removing branches that have little importance) or setting constraints on the tree's depth can be applied. \n",
    "\n",
    "'''"
   ]
  }
 ],
 "metadata": {
  "language_info": {
   "name": "python"
  }
 },
 "nbformat": 4,
 "nbformat_minor": 5
}
