{
 "cells": [
  {
   "cell_type": "code",
   "execution_count": null,
   "id": "11642325",
   "metadata": {},
   "outputs": [],
   "source": [
    "'''\n",
    "Logistic Regression:\n",
    "Definition:\n",
    "- Also called Binary Classification.\n",
    "- Logistic regression is a statistical method for predicting binary classes. \n",
    "- The outcome is usually a binary variable (0 or 1, true or false, yes or no). \n",
    "- It uses the logistic function to model a binary dependent variable based on one or more independent variables.\n",
    "- It is a type of regression analysis used for prediction of outcome of a categorical dependent variable based on\n",
    "one or more predictor variables. \n",
    "- The logistic function is used to model the probability of a certain class or event existing, \n",
    "such as pass/fail, win/lose, alive/dead, or healthy/sick.\n",
    "'''"
   ]
  },
  {
   "cell_type": "code",
   "execution_count": null,
   "id": "d67b9c26",
   "metadata": {},
   "outputs": [],
   "source": [
    "'''\n",
    "Mathematical Representation:\n",
    "- The logistic regression model is represented as:\n",
    "  - P(Y=1|X) = 1 / (1 + e^(-z))\n",
    "  - where z = β0 + β1X1 + β2X2 + ... + βnXn\n",
    "  - P(Y=1|X) is the probability that the dependent variable Y equals 1 given the independent variables X.\n",
    "  - β0 is the intercept, and β1, β2, ..., βn are the coefficients for the independent variables X1, X2, ..., Xn.\n",
    "'''"
   ]
  },
  {
   "cell_type": "code",
   "execution_count": null,
   "id": "febe777a",
   "metadata": {},
   "outputs": [],
   "source": [
    "'''\n",
    "Why its regression yet is used for classification?\n",
    "- Logistic regression is called regression because it uses a linear combination of the input features \n",
    "    to predict the log-odds of the dependent variable.\n",
    "- The output of the logistic function is a probability that can be mapped to a binary outcome (0 or 1).\n",
    "- The term \"regression\" refers to the method of estimating the parameters (coefficients)\n",
    "\n",
    "\n",
    "Why Linear Regression is not used for classification?\n",
    "- Linear regression predicts a continuous output, which is not suitable for binary classification tasks.\n",
    "- It can produce values outside the range of [0, 1], which do not represent probabilities.\n",
    "- Any outliers or extreme values can disproportionately affect the predictions, leading to poor classification performance.\n",
    "- squashing with linear reression is not possible, as it does not bound the output to a specific range like logistic regression does.\n",
    "'''"
   ]
  }
 ],
 "metadata": {
  "language_info": {
   "name": "python"
  }
 },
 "nbformat": 4,
 "nbformat_minor": 5
}
