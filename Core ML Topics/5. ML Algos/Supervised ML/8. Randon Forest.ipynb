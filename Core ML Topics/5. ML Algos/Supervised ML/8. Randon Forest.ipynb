{
 "cells": [
  {
   "cell_type": "code",
   "execution_count": null,
   "id": "fce762de",
   "metadata": {},
   "outputs": [],
   "source": [
    "'''\n",
    "Random Forest Machine Learning Algorithm:\n",
    "\n",
    "- Definition: A Random Forest is an ensemble learning method that constructs multiple decision trees \n",
    "            during training and outputs the mode of their predictions for classification \n",
    "            or the mean prediction for regression.\n",
    "- Key Features:\n",
    "    - Combines the predictions of multiple decision trees to improve accuracy and control overfitting.\n",
    "    - Each tree is trained on a random subset of the data, which helps in reducing variance.\n",
    "    - Can handle both classification and regression tasks.\n",
    "- Advantages:\n",
    "    - Robust to overfitting, especially with large datasets.\n",
    "    - Handles missing values and maintains accuracy for large datasets.\n",
    "    - Provides feature importance scores, which can be useful for feature selection.  \n",
    "- Disadvantages:\n",
    "    - Can be computationally intensive and slower to predict compared to a single decision tree.\n",
    "    - Less interpretable than a single decision tree due to the complexity of multiple trees. \n",
    "- Common Use Cases:\n",
    "    - Classification tasks such as spam detection, fraud detection, and image classification.\n",
    "    - Regression tasks like predicting house prices or stock prices.\n",
    "    - Feature selection and ranking in high-dimensional datasets.\n",
    "\n",
    "\n",
    "'''"
   ]
  },
  {
   "cell_type": "code",
   "execution_count": null,
   "id": "afef3c4a",
   "metadata": {},
   "outputs": [],
   "source": [
    "'''\n",
    "Ensemble Techniques in Machine Learning:\n",
    "- Definition: Ensemble techniques combine multiple models to produce a better predictive performance \n",
    "than any individual model.\n",
    "- Types of Ensemble Methods:\n",
    "    1. Bagging (Bootstrap Aggregating):\n",
    "        - Combines predictions from multiple models trained on different subsets of the training data.\n",
    "        - Reduces variance and helps to avoid overfitting.\n",
    "        - Example: Random Forest, where multiple decision trees are trained on random subsets of the data.\n",
    "\n",
    "    2. Boosting:\n",
    "        - Sequentially trains models, where each new model focuses on correcting errors made by previous models.\n",
    "        - Reduces bias and variance, often leading to better performance than bagging.\n",
    "        - Example: AdaBoost, Gradient Boosting, XGBoost.\n",
    "\n",
    "    3. Stacking:\n",
    "        - Combines multiple models (base learners) and uses another model (meta-learner) to make final predictions based on the outputs of the base learners.\n",
    "        - Can leverage the strengths of different algorithms.\n",
    "        - Example: Using logistic regression as a meta-learner for predictions from decision trees and SVMs.\n",
    "'''"
   ]
  }
 ],
 "metadata": {
  "language_info": {
   "name": "python"
  }
 },
 "nbformat": 4,
 "nbformat_minor": 5
}
