{
 "cells": [
  {
   "cell_type": "code",
   "execution_count": null,
   "id": "f0ddfded",
   "metadata": {},
   "outputs": [],
   "source": [
    "'''\n",
    "Lemmatization:\n",
    "\n",
    "Definition:\n",
    "Lemmatization is the process of converting a word to its base or root form (lemma), \n",
    "considering the context in which it is used. \n",
    "\n",
    "Unlike stemming, which simply removes prefixes or suffixes,\n",
    "lemmatization takes into account the meaning of the word and its grammatical role in a sentence.\n",
    "\n",
    "'''"
   ]
  },
  {
   "cell_type": "code",
   "execution_count": null,
   "id": "2c97f679",
   "metadata": {},
   "outputs": [],
   "source": [
    "'''\n",
    "WordNet Lemmatizer:\n",
    "The WordNet Lemmatizer is a popular lemmatization tool that uses the WordNet lexical database to \n",
    "find the base form of a word.\n",
    "\n",
    "NLTK provides WordNetLemmatizer class which is a thin wrapper around the WordNet API.\n",
    "This class uses morphological analysis to determine the correct lemma for a given word.\n",
    "'''"
   ]
  },
  {
   "cell_type": "code",
   "execution_count": 1,
   "id": "f625277a",
   "metadata": {},
   "outputs": [],
   "source": [
    "from nltk.stem import WordNetLemmatizer"
   ]
  },
  {
   "cell_type": "code",
   "execution_count": 2,
   "id": "710a9237",
   "metadata": {},
   "outputs": [],
   "source": [
    "lemmatizer = WordNetLemmatizer()"
   ]
  },
  {
   "cell_type": "code",
   "execution_count": 14,
   "id": "398adf49",
   "metadata": {},
   "outputs": [
    {
     "data": {
      "text/plain": [
       "('running', 'run')"
      ]
     },
     "execution_count": 14,
     "metadata": {},
     "output_type": "execute_result"
    }
   ],
   "source": [
    "lemmatizer.lemmatize('running'), lemmatizer.lemmatize('running', pos='v')  # 'a' for adjective\n",
    "# Note: The default part of speech is \n",
    "# 'n' (noun). You can specify other parts of speech like \n",
    "# 'v' (verb), \n",
    "# 'a' (adjective), etc."
   ]
  },
  {
   "cell_type": "code",
   "execution_count": 15,
   "id": "fc54bac1",
   "metadata": {},
   "outputs": [],
   "source": [
    "# lemmatizing sample words list\n",
    "words = ['running', 'eating', 'eat','eaten', 'runner', 'run', 'eats', 'eatingly', 'eatenly', \n",
    "         'programming', 'program', 'finally', 'finalized','writes','writing']\n"
   ]
  },
  {
   "cell_type": "code",
   "execution_count": 20,
   "id": "dc2bcf47",
   "metadata": {},
   "outputs": [
    {
     "name": "stdout",
     "output_type": "stream",
     "text": [
      "running-->run\n",
      "eating-->eat\n",
      "eat-->eat\n",
      "eaten-->eat\n",
      "runner-->runner\n",
      "run-->run\n",
      "eats-->eat\n",
      "eatingly-->eatingly\n",
      "eatenly-->eatenly\n",
      "programming-->program\n",
      "program-->program\n",
      "finally-->finally\n",
      "finalized-->finalize\n",
      "writes-->write\n",
      "writing-->write\n"
     ]
    }
   ],
   "source": [
    "for word in words:\n",
    "    print(word + \"-->\" + lemmatizer.lemmatize(word, pos='v'))  # specifying pos as verb"
   ]
  },
  {
   "cell_type": "code",
   "execution_count": null,
   "id": "e183e2a9",
   "metadata": {},
   "outputs": [],
   "source": [
    "'''\n",
    "Real world use case:\n",
    "1. Text Preprocessing\n",
    "2. Sentiment Analysis\n",
    "3. Chatbots\n",
    "4. Information Retrieval\n",
    "5. Text Summarization\n",
    "\n",
    "'''"
   ]
  }
 ],
 "metadata": {
  "kernelspec": {
   "display_name": "venv",
   "language": "python",
   "name": "python3"
  },
  "language_info": {
   "codemirror_mode": {
    "name": "ipython",
    "version": 3
   },
   "file_extension": ".py",
   "mimetype": "text/x-python",
   "name": "python",
   "nbconvert_exporter": "python",
   "pygments_lexer": "ipython3",
   "version": "3.10.0"
  }
 },
 "nbformat": 4,
 "nbformat_minor": 5
}
