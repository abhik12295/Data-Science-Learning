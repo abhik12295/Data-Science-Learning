{
 "cells": [
  {
   "cell_type": "markdown",
   "id": "a0f75681",
   "metadata": {},
   "source": [
    "## Stemming and its types: - Preprocessing"
   ]
  },
  {
   "cell_type": "markdown",
   "id": "90d84aa8",
   "metadata": {},
   "source": [
    "Stemming and Lemmatization are two common techniques used in Natural Language Processing (NLP) to reduce words to their base or root form. This process helps in normalizing the text and improving the performance of various NLP tasks such as text classification, sentiment analysis, and information retrieval.\n",
    "\n",
    "1. Stemming:\n",
    "   Stemming is the process of reducing a word to its base or root form by removing suffixes or prefixes. The resulting stem may not necessarily be a valid word in the language. For example:\n",
    "   - \"running\" -> \"run\"\n",
    "   - \"happiness\" -> \"happi\"\n",
    "\n",
    "   Stemming algorithms, such as the Porter Stemmer or Snowball Stemmer, are commonly used for this purpose.\n",
    "\n",
    "2. Lemmatization:\n",
    "   Lemmatization, on the other hand, reduces a word to its base or dictionary form (lemma) by considering the context and the part of speech. The resulting lemma is always a valid word in the language. For example:\n",
    "   - \"running\" -> \"run\"\n",
    "   - \"better\" -> \"good\"\n",
    "\n",
    "   Lemmatization is generally more accurate than stemming but also more computationally intensive. It often requires the use of a vocabulary and morphological analysis of words.\n",
    "\n",
    "In summary, both stemming and lemmatization aim to reduce words to their base form, but they differ in their approach and the quality of the output. Stemming is faster and simpler, while lemmatization is more accurate and context-aware."
   ]
  },
  {
   "cell_type": "code",
   "execution_count": null,
   "id": "190d3aac",
   "metadata": {},
   "outputs": [],
   "source": [
    "'''\n",
    "Stemming:\n",
    "\n",
    "Stemming is the process of reducing a word to its word stem that affixes to suffixes and prefixes or to the roots of \n",
    "words known as a lemma.\n",
    "\n",
    "Stemming is important in natural language understanding (NLU) and Natural Language Processing (NLP) tasks, \n",
    "as it helps in reducing the dimensionality of the text data and improving the efficiency of various algorithms.\n",
    "'''"
   ]
  },
  {
   "cell_type": "markdown",
   "id": "ffe6555c",
   "metadata": {},
   "source": [
    "## PorterStemmer"
   ]
  },
  {
   "cell_type": "code",
   "execution_count": 1,
   "id": "8f598dbb",
   "metadata": {},
   "outputs": [],
   "source": [
    "from nltk.stem import PorterStemmer\n",
    "stemming = PorterStemmer()"
   ]
  },
  {
   "cell_type": "code",
   "execution_count": 5,
   "id": "6dde761b",
   "metadata": {},
   "outputs": [],
   "source": [
    "# stemming sample words list\n",
    "words = ['running', 'eating', 'eat','eaten', 'runner', 'run', 'eats', 'eatingly', 'eatenly', \n",
    "         'programming', 'program', 'finally', 'finalized','writes','writing']\n"
   ]
  },
  {
   "cell_type": "code",
   "execution_count": 6,
   "id": "524b06a6",
   "metadata": {},
   "outputs": [
    {
     "name": "stdout",
     "output_type": "stream",
     "text": [
      "running-->run\n",
      "eating-->eat\n",
      "eat-->eat\n",
      "eaten-->eaten\n",
      "runner-->runner\n",
      "run-->run\n",
      "eats-->eat\n",
      "eatingly-->eatingli\n",
      "eatenly-->eatenli\n",
      "programming-->program\n",
      "program-->program\n",
      "finally-->final\n",
      "finalized-->final\n",
      "writes-->write\n",
      "writing-->write\n"
     ]
    }
   ],
   "source": [
    "for word in words:\n",
    "    print(word+\"-->\"+stemming.stem(word))"
   ]
  },
  {
   "cell_type": "code",
   "execution_count": null,
   "id": "0f9d8e6d",
   "metadata": {},
   "outputs": [],
   "source": [
    "'''\n",
    "disadvantages of stemming:\n",
    "1. Stemming can sometimes produce non-words or incorrect base forms (e.g., \"running\" -> \"run\", but \"eatenly\" -> \"eatenli\").\n",
    "2. It may not account for the context in which a word is used, leading to loss of meaning.\n",
    "3. Different words with similar meanings may be reduced to the same stem, causing ambiguity.\n",
    "4. Stemming algorithms may not handle irregular forms well (e.g., \"went\" -> \"go\").\n",
    "'''"
   ]
  },
  {
   "cell_type": "markdown",
   "id": "d7cc5b78",
   "metadata": {},
   "source": [
    "## RegexpStemmer Class"
   ]
  },
  {
   "cell_type": "code",
   "execution_count": null,
   "id": "3c27051a",
   "metadata": {},
   "outputs": [],
   "source": [
    "'''\n",
    "NLTK has a RegexpStemmer class that allows for stemming based on regular expressions.\n",
    "It basically takes a single regular expression pattern as input and applies it to the words to be stemmed.\n",
    "\n",
    "'''"
   ]
  },
  {
   "cell_type": "code",
   "execution_count": 7,
   "id": "237710dd",
   "metadata": {},
   "outputs": [],
   "source": [
    "from nltk.stem import RegexpStemmer"
   ]
  },
  {
   "cell_type": "code",
   "execution_count": 18,
   "id": "14e19568",
   "metadata": {},
   "outputs": [],
   "source": [
    "regexp_stemmer = RegexpStemmer('ing$|s$|e$|able$', min=4)"
   ]
  },
  {
   "cell_type": "code",
   "execution_count": 19,
   "id": "cd70f7fa",
   "metadata": {},
   "outputs": [
    {
     "data": {
      "text/plain": [
       "'runn'"
      ]
     },
     "execution_count": 19,
     "metadata": {},
     "output_type": "execute_result"
    }
   ],
   "source": [
    "regexp_stemmer.stem('running')  # Example usage"
   ]
  },
  {
   "cell_type": "code",
   "execution_count": 20,
   "id": "d037e349",
   "metadata": {},
   "outputs": [
    {
     "data": {
      "text/plain": [
       "'ingrunn'"
      ]
     },
     "execution_count": 20,
     "metadata": {},
     "output_type": "execute_result"
    }
   ],
   "source": [
    "regexp_stemmer.stem('ingrunning')  # Example usage"
   ]
  },
  {
   "cell_type": "markdown",
   "id": "1571e46e",
   "metadata": {},
   "source": [
    "## Snowball Stemmer"
   ]
  },
  {
   "cell_type": "code",
   "execution_count": null,
   "id": "198fc9f4",
   "metadata": {},
   "outputs": [],
   "source": [
    "'''\n",
    "Snowball Stemmer:\n",
    "The Snowball Stemmer is a more advanced stemming algorithm that supports multiple languages. \n",
    "It uses a set of heuristics to iteratively remove suffixes from words, \n",
    "making it more effective than simple rule-based stemmers.\n",
    "'''"
   ]
  },
  {
   "cell_type": "code",
   "execution_count": 21,
   "id": "faa9eb7a",
   "metadata": {},
   "outputs": [],
   "source": [
    "from nltk.stem import SnowballStemmer"
   ]
  },
  {
   "cell_type": "code",
   "execution_count": 22,
   "id": "7582e4fc",
   "metadata": {},
   "outputs": [],
   "source": [
    "snowball_stemmer = SnowballStemmer(language='english')"
   ]
  },
  {
   "cell_type": "code",
   "execution_count": 23,
   "id": "e90532e4",
   "metadata": {},
   "outputs": [
    {
     "name": "stdout",
     "output_type": "stream",
     "text": [
      "running-->run\n",
      "eating-->eat\n",
      "eat-->eat\n",
      "eaten-->eaten\n",
      "runner-->runner\n",
      "run-->run\n",
      "eats-->eat\n",
      "eatingly-->eat\n",
      "eatenly-->eaten\n",
      "programming-->program\n",
      "program-->program\n",
      "finally-->final\n",
      "finalized-->final\n",
      "writes-->write\n",
      "writing-->write\n"
     ]
    }
   ],
   "source": [
    "for word in words:\n",
    "    print(word + \"-->\" + snowball_stemmer.stem(word))"
   ]
  },
  {
   "cell_type": "code",
   "execution_count": null,
   "id": "93524709",
   "metadata": {},
   "outputs": [
    {
     "data": {
      "text/plain": [
       "('fairli', 'sportingli')"
      ]
     },
     "execution_count": 24,
     "metadata": {},
     "output_type": "execute_result"
    }
   ],
   "source": [
    "stemming.stem('fairly'), stemming.stem('sportingly')"
   ]
  },
  {
   "cell_type": "code",
   "execution_count": 25,
   "id": "58e5cd48",
   "metadata": {},
   "outputs": [
    {
     "data": {
      "text/plain": [
       "('fair', 'sport')"
      ]
     },
     "execution_count": 25,
     "metadata": {},
     "output_type": "execute_result"
    }
   ],
   "source": [
    "snowball_stemmer.stem('fairly'), snowball_stemmer.stem('sportingly')"
   ]
  },
  {
   "cell_type": "code",
   "execution_count": null,
   "id": "2a5410dd",
   "metadata": {},
   "outputs": [],
   "source": [
    "'''\n",
    "Which is better:\n",
    "1. Snowball Stemmer is generally more effective than Porter Stemmer for many languages, as it uses a more sophisticated set of rules.\n",
    "2. The Snowball Stemmer is a more advanced stemming algorithm that supports multiple languages.\n",
    "\n",
    "\n",
    "Still better option is to use lemmatization, which considers the context and converts words to their base form.\n",
    "'''"
   ]
  }
 ],
 "metadata": {
  "kernelspec": {
   "display_name": "venv",
   "language": "python",
   "name": "python3"
  },
  "language_info": {
   "codemirror_mode": {
    "name": "ipython",
    "version": 3
   },
   "file_extension": ".py",
   "mimetype": "text/x-python",
   "name": "python",
   "nbconvert_exporter": "python",
   "pygments_lexer": "ipython3",
   "version": "3.10.0"
  }
 },
 "nbformat": 4,
 "nbformat_minor": 5
}
