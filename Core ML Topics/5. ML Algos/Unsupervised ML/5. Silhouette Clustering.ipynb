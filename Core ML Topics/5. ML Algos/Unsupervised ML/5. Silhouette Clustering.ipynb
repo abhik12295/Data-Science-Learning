{
 "cells": [
  {
   "cell_type": "code",
   "execution_count": null,
   "id": "a31c5aeb",
   "metadata": {},
   "outputs": [],
   "source": [
    "'''\n",
    "Silhouette Clustering Algorithm:\n",
    "\n",
    "Definition:\n",
    "The Silhouette Coefficient is a measure of how similar an object is to its own cluster compared to other clusters. \n",
    "It ranges from -1 to 1, where a high value indicates that the object is well matched to its \n",
    "own cluster and poorly matched to neighboring clusters.\n",
    "\n",
    "The Silhouette Coefficient for a single sample is defined as:\n",
    "\n",
    "s(i) = (b(i) - a(i)) / max(a(i), b(i))\n",
    "\n",
    "where:\n",
    "- a(i) is the average distance between the sample and all other points in the same cluster.\n",
    "- b(i) is the average distance between the sample and all points in the nearest cluster.\n",
    "\n",
    "The overall Silhouette Coefficient is the average of the Silhouette Coefficients for all samples.\n",
    "\n",
    "'''"
   ]
  },
  {
   "cell_type": "code",
   "execution_count": null,
   "id": "03f70f38",
   "metadata": {},
   "outputs": [],
   "source": [
    "'''\n",
    "Silhouette (Clustering):\n",
    "First Step: \n",
    "Compute the Silhouette Coefficient for each sample.\n",
    "For data point i:\n",
    "1. Compute a(i): the average distance between i and all other points in the same cluster.\n",
    "a(i) = (1 / |C(i)|) * Σ d(i, j) for all j ∈ C(i)\n",
    "\n",
    "where C(i) is the set of points in the same cluster as i.\n",
    "d(i, j) is the distance between points i and j.\n",
    "\n",
    "2. Compute b(i): the average distance between i and all points in the nearest cluster.\n",
    "b(i) = (1 / |C'(i)|) * Σ d(i, j) for all j ∈ C'(i)\n",
    "\n",
    "where C'(i) is the set of points in the nearest cluster to i.\n",
    "\n",
    "3. Compute s(i) = (b(i) - a(i)) / max(a(i), b(i)).\n",
    "\n",
    "\n",
    "'''"
   ]
  },
  {
   "cell_type": "code",
   "execution_count": 2,
   "id": "7561a3e0",
   "metadata": {},
   "outputs": [],
   "source": [
    "# Implementation\n",
    "import pandas as pd\n",
    "df = pd.read_csv('healthcare.csv')"
   ]
  },
  {
   "cell_type": "code",
   "execution_count": 3,
   "id": "0d9d8a78",
   "metadata": {},
   "outputs": [
    {
     "data": {
      "text/html": [
       "<div>\n",
       "<style scoped>\n",
       "    .dataframe tbody tr th:only-of-type {\n",
       "        vertical-align: middle;\n",
       "    }\n",
       "\n",
       "    .dataframe tbody tr th {\n",
       "        vertical-align: top;\n",
       "    }\n",
       "\n",
       "    .dataframe thead th {\n",
       "        text-align: right;\n",
       "    }\n",
       "</style>\n",
       "<table border=\"1\" class=\"dataframe\">\n",
       "  <thead>\n",
       "    <tr style=\"text-align: right;\">\n",
       "      <th></th>\n",
       "      <th>0</th>\n",
       "      <th>1</th>\n",
       "    </tr>\n",
       "  </thead>\n",
       "  <tbody>\n",
       "    <tr>\n",
       "      <th>0</th>\n",
       "      <td>1.616671</td>\n",
       "      <td>1.944522</td>\n",
       "    </tr>\n",
       "    <tr>\n",
       "      <th>1</th>\n",
       "      <td>1.256461</td>\n",
       "      <td>1.609444</td>\n",
       "    </tr>\n",
       "    <tr>\n",
       "      <th>2</th>\n",
       "      <td>-2.343919</td>\n",
       "      <td>4.392961</td>\n",
       "    </tr>\n",
       "    <tr>\n",
       "      <th>3</th>\n",
       "      <td>1.195393</td>\n",
       "      <td>2.794485</td>\n",
       "    </tr>\n",
       "    <tr>\n",
       "      <th>4</th>\n",
       "      <td>-3.329586</td>\n",
       "      <td>5.303160</td>\n",
       "    </tr>\n",
       "  </tbody>\n",
       "</table>\n",
       "</div>"
      ],
      "text/plain": [
       "          0         1\n",
       "0  1.616671  1.944522\n",
       "1  1.256461  1.609444\n",
       "2 -2.343919  4.392961\n",
       "3  1.195393  2.794485\n",
       "4 -3.329586  5.303160"
      ]
     },
     "execution_count": 3,
     "metadata": {},
     "output_type": "execute_result"
    }
   ],
   "source": [
    "df.head()"
   ]
  },
  {
   "cell_type": "code",
   "execution_count": 4,
   "id": "36abe5d2",
   "metadata": {},
   "outputs": [],
   "source": [
    "import matplotlib.pyplot as plt"
   ]
  },
  {
   "cell_type": "code",
   "execution_count": 5,
   "id": "24aa9550",
   "metadata": {},
   "outputs": [
    {
     "data": {
      "text/plain": [
       "<matplotlib.collections.PathCollection at 0x1e1255d57e0>"
      ]
     },
     "execution_count": 5,
     "metadata": {},
     "output_type": "execute_result"
    },
    {
     "data": {
      "image/png": "[encoded data removed]",
      "text/plain": [
       "<Figure size 640x480 with 1 Axes>"
      ]
     },
     "metadata": {},
     "output_type": "display_data"
    }
   ],
   "source": [
    "plt.scatter(df.iloc[:, 0], df.iloc[:, 1])"
   ]
  },
  {
   "cell_type": "code",
   "execution_count": 6,
   "id": "87ac4f5a",
   "metadata": {},
   "outputs": [],
   "source": [
    "from sklearn.ensemble import IsolationForest"
   ]
  },
  {
   "cell_type": "code",
   "execution_count": 22,
   "id": "73a09903",
   "metadata": {},
   "outputs": [],
   "source": [
    "clf = IsolationForest(contamination=0.2)\n",
    "clf.fit(df)\n",
    "predictions = clf.predict(df)"
   ]
  },
  {
   "cell_type": "code",
   "execution_count": 23,
   "id": "ed50b49b",
   "metadata": {},
   "outputs": [
    {
     "data": {
      "text/plain": [
       "array([ 1,  1,  1,  1, -1,  1,  1,  1,  1,  1,  1,  1,  1,  1,  1,  1,  1,\n",
       "        1,  1,  1, -1,  1,  1,  1, -1,  1,  1,  1,  1,  1,  1,  1,  1,  1,\n",
       "        1,  1,  1,  1,  1,  1,  1,  1,  1,  1,  1, -1,  1,  1, -1, -1,  1,\n",
       "        1,  1, -1,  1, -1,  1,  1,  1,  1, -1, -1, -1, -1,  1,  1,  1, -1,\n",
       "        1,  1,  1,  1, -1,  1, -1,  1,  1,  1, -1,  1,  1,  1,  1, -1,  1,\n",
       "       -1,  1, -1,  1, -1,  1,  1, -1,  1,  1,  1,  1, -1,  1,  1,  1,  1,\n",
       "        1,  1, -1,  1,  1,  1, -1,  1,  1,  1,  1,  1, -1,  1,  1,  1,  1,\n",
       "       -1,  1,  1,  1,  1,  1,  1, -1,  1,  1,  1, -1,  1, -1, -1,  1,  1,\n",
       "        1,  1,  1,  1,  1, -1,  1,  1,  1,  1,  1,  1,  1,  1,  1, -1,  1,\n",
       "        1,  1,  1,  1,  1,  1,  1, -1,  1,  1,  1,  1,  1, -1, -1,  1,  1,\n",
       "        1,  1,  1,  1,  1,  1,  1, -1,  1, -1,  1, -1, -1,  1,  1,  1,  1,\n",
       "       -1,  1,  1,  1,  1,  1,  1,  1,  1,  1,  1,  1, -1,  1,  1,  1,  1,\n",
       "       -1,  1,  1,  1,  1,  1,  1,  1, -1,  1,  1,  1,  1, -1,  1,  1, -1,\n",
       "       -1,  1,  1,  1,  1,  1, -1,  1,  1,  1,  1,  1,  1,  1,  1,  1,  1,\n",
       "        1,  1,  1,  1, -1,  1,  1,  1,  1, -1, -1,  1])"
      ]
     },
     "execution_count": 23,
     "metadata": {},
     "output_type": "execute_result"
    }
   ],
   "source": [
    "predictions"
   ]
  },
  {
   "cell_type": "code",
   "execution_count": 24,
   "id": "e0cba3ab",
   "metadata": {},
   "outputs": [
    {
     "data": {
      "text/plain": [
       "(array([  4,  20,  24,  45,  48,  49,  53,  55,  60,  61,  62,  63,  67,\n",
       "         72,  74,  78,  83,  85,  87,  89,  92,  97, 104, 108, 114, 119,\n",
       "        126, 130, 132, 133, 141, 151, 160, 166, 167, 177, 179, 181, 182,\n",
       "        187, 199, 204, 212, 217, 220, 221, 227, 242, 247, 248]),)"
      ]
     },
     "execution_count": 24,
     "metadata": {},
     "output_type": "execute_result"
    }
   ],
   "source": [
    "import numpy as np\n",
    "abn_ind = np.where(predictions<0)\n",
    "abn_ind\n"
   ]
  },
  {
   "cell_type": "code",
   "execution_count": 25,
   "id": "f94e7f9b",
   "metadata": {},
   "outputs": [],
   "source": [
    "x = df.values"
   ]
  },
  {
   "cell_type": "code",
   "execution_count": null,
   "id": "f08b0dc6",
   "metadata": {},
   "outputs": [],
   "source": []
  },
  {
   "cell_type": "code",
   "execution_count": 26,
   "id": "c4e5ca31",
   "metadata": {},
   "outputs": [
    {
     "data": {
      "text/plain": [
       "<matplotlib.collections.PathCollection at 0x1e13849a2c0>"
      ]
     },
     "execution_count": 26,
     "metadata": {},
     "output_type": "execute_result"
    },
    {
     "data": {
      "image/png": "[encoded data removed]",
      "text/plain": [
       "<Figure size 640x480 with 1 Axes>"
      ]
     },
     "metadata": {},
     "output_type": "display_data"
    }
   ],
   "source": [
    "abn_ind = np.where(predictions<0)\n",
    "plt.scatter(df.iloc[:, 0], df.iloc[:, 1])\n",
    "plt.scatter(x[abn_ind, 0], x[abn_ind, 1], edgecolor='r')"
   ]
  }
 ],
 "metadata": {
  "kernelspec": {
   "display_name": "venv",
   "language": "python",
   "name": "python3"
  },
  "language_info": {
   "codemirror_mode": {
    "name": "ipython",
    "version": 3
   },
   "file_extension": ".py",
   "mimetype": "text/x-python",
   "name": "python",
   "nbconvert_exporter": "python",
   "pygments_lexer": "ipython3",
   "version": "3.10.0"
  }
 },
 "nbformat": 4,
 "nbformat_minor": 5
}
