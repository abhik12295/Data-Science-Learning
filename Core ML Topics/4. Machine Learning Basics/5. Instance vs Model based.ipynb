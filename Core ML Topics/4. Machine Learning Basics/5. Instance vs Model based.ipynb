{
 "cells": [
  {
   "cell_type": "code",
   "execution_count": null,
   "id": "05c4289c",
   "metadata": {},
   "outputs": [],
   "source": [
    "'''\n",
    "Instance based Learning vs Model based Learning:\n",
    "1. Instance based learning (IBL) and model based learning (MBL) are two different approaches to machine learning.\n",
    "\n",
    "2. Instance based learning focuses on memorizing and using specific instances from the training data to make predictions, \n",
    "while model based learning involves creating a general model that captures the underlying patterns in the data.\n",
    "\n",
    "3.In IBL, the algorithm retains the training instances and uses them directly for prediction, \n",
    "often through similarity measures.\n",
    "In contrast, MBL builds a model that generalizes from the training data, \n",
    "allowing it to make predictions on unseen data without relying on specific instances.\n",
    "\n",
    "4.Instance based learning is often used in scenarios where the training data is small and specific, \n",
    "while model based learning is preferred for larger datasets where generalization is key.\n",
    "\n",
    "5. Model based learning stores the model parameters in pickled files (serialized objects),\n",
    "while instance based learning stores the training instances in memory or on disk.\n",
    "\n",
    "'''"
   ]
  }
 ],
 "metadata": {
  "language_info": {
   "name": "python"
  }
 },
 "nbformat": 4,
 "nbformat_minor": 5
}
