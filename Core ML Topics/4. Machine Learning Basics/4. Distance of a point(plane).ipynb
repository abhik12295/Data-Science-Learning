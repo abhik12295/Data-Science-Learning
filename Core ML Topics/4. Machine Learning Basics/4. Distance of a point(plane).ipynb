{
 "cells": [
  {
   "cell_type": "code",
   "execution_count": null,
   "id": "afce174c",
   "metadata": {},
   "outputs": [],
   "source": [
    "'''\n",
    "Distance of a point from a plane in 3D space:\n",
    "\n",
    "    The distance of a point (x0, y0, z0) from a plane defined by the equation\n",
    "    Ax + By + Cz + D = 0 is given by the formula:\n",
    "    distance = |Ax0 + By0 + Cz0 + D| / sqrt(A^2 + B^2 + C^2)\n",
    "    \n",
    "    where (A, B, C) are the coefficients of the plane equation and D is the constant term.\n",
    "\n",
    "    This formula is derived from the geometric interpretation of the plane and the point in 3D space.\n",
    "    The numerator represents the signed distance from the point to the plane, and the denominator normalizes it by the length of the normal vector to the plane.\n",
    "    The normal vector to the plane is given by the coefficients (A, B, C) of the plane equation.\n",
    "    The absolute value is taken to ensure the distance is non-negative.\n",
    "    The distance is always non-negative, as it represents a physical distance in space.\n",
    "\n",
    "'''"
   ]
  }
 ],
 "metadata": {
  "language_info": {
   "name": "python"
  }
 },
 "nbformat": 4,
 "nbformat_minor": 5
}
