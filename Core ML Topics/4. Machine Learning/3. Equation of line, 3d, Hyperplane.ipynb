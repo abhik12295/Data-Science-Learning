{
 "cells": [
  {
   "cell_type": "code",
   "execution_count": null,
   "id": "04c6dd33",
   "metadata": {},
   "outputs": [],
   "source": [
    "'''\n",
    "Equation of line, 3D Plane and Hyperplane:\n",
    "1. Equation of a line in 3D space\n",
    "    y = mx + b\n",
    "    where m is the slope and b is the y-intercept.\n",
    "2. Equation of a plane in 3D space\n",
    "    Ax + By + Cz + D = 0\n",
    "    where A, B, C are the coefficients of x, y, z respectively and D is a constant.\n",
    "\n",
    "\n",
    "3. Equation of a hyperplane in n-dimensional space\n",
    "    a1*x1 + a2*x2 + ... + an*xn + b = 0 (a1, a2, ..., an are the coefficients for each dimension and b is a constant.)\n",
    "    or equivalently,\n",
    "    w1*x1 + w2*x2 + ... + wn*xn + b = 0 (w1, w2, ..., wn are the weights for each dimension and b is a bias term.)\n",
    "    \n",
    "    and in transposed form:\n",
    "    w^T * x + b = 0\n",
    "    where w is a vector of weights and x is a vector of inputs.\n",
    "\n",
    "4. Dot product of two vectors:    \n",
    "    w.x = w^T * x = |w|*|x|*cos(theta)\n",
    "    where |w| and |x| are the magnitudes of the vectors w and x respectively, and theta is the angle between them.\n",
    "Note:\n",
    " w is going to be always perpendicular to the hyperplane.\n",
    "This module provides functions to calculate the equations of lines, planes, and hyperplanes in various dimensions.\n",
    "'''"
   ]
  }
 ],
 "metadata": {
  "language_info": {
   "name": "python"
  }
 },
 "nbformat": 4,
 "nbformat_minor": 5
}
