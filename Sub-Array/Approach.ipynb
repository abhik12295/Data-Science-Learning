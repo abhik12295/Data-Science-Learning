{
 "cells": [
  {
   "cell_type": "code",
   "execution_count": null,
   "id": "944ab1d3",
   "metadata": {},
   "outputs": [],
   "source": [
    "'''\n",
    "Sub - Array:\n",
    "    -> continous (contiguous) portion of array\n",
    "    -> eg: num =[1,2,3,4]\n",
    "        -> possible subarray = [1],[2,3],[2,3,4],[4], etc\n",
    "    -> order must be maintained, elements cannot be skipped\n",
    "\n",
    "Different from subseqeunce = subsequence not needed to be continuous, but order should\n",
    "                                be maintained = [1,3],[2,4] (can't be [3,4,2],[4,2])\n",
    "'''\n"
   ]
  },
  {
   "cell_type": "code",
   "execution_count": null,
   "id": "42d9b62b",
   "metadata": {},
   "outputs": [],
   "source": [
    "'''\n",
    "When to use which Algorithm:\n",
    "\n",
    "Problem Type                              | Technique               | Use When...\n",
    "\n",
    "Max/Min sum of a subarray of size k       | Sliding Window          | Fixed-size window sliding across array.\n",
    "Max/Min subarray sum (any size)           | Kadane's Algorithm      | You're looking for any length of subarray with a max/min sum.\n",
    "Subarray sum equals K                     | Prefix Sum + Hash       | Sum of any subarray needs to equal a given value k.\n",
    "Longest subarray with unique elements     | Sliding Window + Set    | You need to avoid duplicates while tracking a window.\n",
    "Subarray with at most K distinct elements | Sliding Window + HashMap| You care about how many distinct elements are in the current window.\n",
    "Max product subarray                      | DP / Greedy             | Like Kadane's, but for product — must track both min and max.\n",
    "Subarrays with sum divisible by K         | Prefix Sum + Modulo     | You're dealing with divisibility or remainder-related constraints.\n",
    "\n",
    "'''"
   ]
  },
  {
   "cell_type": "code",
   "execution_count": 59,
   "id": "679338fd",
   "metadata": {},
   "outputs": [
    {
     "data": {
      "text/plain": [
       "27"
      ]
     },
     "execution_count": 59,
     "metadata": {},
     "output_type": "execute_result"
    }
   ],
   "source": [
    "'''\n",
    "Sliding Window Basic\n",
    "'''\n",
    "nums = [9,9,9,1,2,3]\n",
    "k = 3\n",
    "def maxSumSubarray(nums,k):\n",
    "    windows_sum = sum(nums[:k])\n",
    "    max_sum = windows_sum\n",
    "    for i in range(len(nums)-k):\n",
    "        windows_sum= windows_sum-nums[i]+nums[i+k]\n",
    "        max_sum = max(windows_sum,max_sum)\n",
    "    return max_sum\n",
    "maxSumSubarray(nums,k)"
   ]
  },
  {
   "cell_type": "code",
   "execution_count": null,
   "id": "2c64517f",
   "metadata": {},
   "outputs": [
    {
     "name": "stdout",
     "output_type": "stream",
     "text": [
      "[9, 1, 2]\n",
      "[1, 2, 3]\n"
     ]
    },
    {
     "data": {
      "text/plain": [
       "12"
      ]
     },
     "execution_count": 44,
     "metadata": {},
     "output_type": "execute_result"
    }
   ],
   "source": [
    "# Sliding Window\n",
    "'''\n",
    "Problem 1:\n",
    "Maximum Sum of Distinct Subarrays With Length K\n",
    "\n",
    "Eg:\n",
    "Input: nums = [1,5,4,2,9,9,9], k = 3\n",
    "Output: 15\n",
    "Explanation: The subarrays of nums with length 3 are:\n",
    "- [1,5,4] which meets the requirements and has a sum of 10.\n",
    "- [5,4,2] which meets the requirements and has a sum of 11.\n",
    "- [4,2,9] which meets the requirements and has a sum of 15.\n",
    "- [2,9,9] which does not meet the requirements because the element 9 is repeated.\n",
    "- [9,9,9] which does not meet the requirements because the element 9 is repeated.\n",
    "We return 15 because it is the maximum subarray sum of all the subarrays that meet the conditions\n",
    "'''\n",
    "\n",
    "#nums = [1,1,1,7,8,9]\n",
    "nums = [9,9,9,1,2,3]\n",
    "k = 3\n",
    "def maxSumSubarrayDistinct(nums,k):\n",
    "    sum_ = 0\n",
    "    prev_ = 0\n",
    "    for i in range(len(nums)-k+1):\n",
    "        val = nums[i:k+i]\n",
    "        if len(set(val))!=len(val):\n",
    "            i+=1\n",
    "            continue\n",
    "        prev_= sum(val)\n",
    "        sum_ = max(prev_, sum_)\n",
    "    return sum_\n",
    "maxSumSubarrayDistinct(nums,k)"
   ]
  },
  {
   "cell_type": "code",
   "execution_count": null,
   "id": "bfb3f21e",
   "metadata": {},
   "outputs": [
    {
     "data": {
      "text/plain": [
       "27"
      ]
     },
     "execution_count": 58,
     "metadata": {},
     "output_type": "execute_result"
    }
   ],
   "source": [
    "# optimized version of distinct subsequence\n"
   ]
  },
  {
   "cell_type": "code",
   "execution_count": null,
   "id": "19dee1eb",
   "metadata": {},
   "outputs": [],
   "source": []
  },
  {
   "cell_type": "code",
   "execution_count": 45,
   "id": "cf17364c",
   "metadata": {},
   "outputs": [
    {
     "name": "stdout",
     "output_type": "stream",
     "text": [
      "[1, 5, 4]\n"
     ]
    }
   ],
   "source": [
    "nums = [1,5,4,2,9,9,9]\n",
    "print(nums[:3])"
   ]
  }
 ],
 "metadata": {
  "kernelspec": {
   "display_name": "venv",
   "language": "python",
   "name": "python3"
  },
  "language_info": {
   "codemirror_mode": {
    "name": "ipython",
    "version": 3
   },
   "file_extension": ".py",
   "mimetype": "text/x-python",
   "name": "python",
   "nbconvert_exporter": "python",
   "pygments_lexer": "ipython3",
   "version": "3.10.0"
  }
 },
 "nbformat": 4,
 "nbformat_minor": 5
}
