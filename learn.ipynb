{
 "cells": [
  {
   "cell_type": "markdown",
   "metadata": {},
   "source": [
    "# How to set the virtual environment in Python:\n",
    "    python -m venv env\n",
    "\n",
    "---mac/Linux\n",
    " python3 -m venv venv\n",
    " source venv/bin/activate\n",
    "\n",
    "--- Windows\n",
    "    python3 -m venv venv\n",
    "    venv\\Scripts\\activate\n",
    "--- Install packages\n",
    "    pip install <package_name>\n",
    "--- To ensure the installed dependencies are tracked properly, generate requirements.txt file\n",
    "    pip freeze > requirements.txt\n",
    "\n",
    "# Configure Git to ignore this requirement files:\n",
    "    echo \"venv/\" >> .gitignore\n",
    "    or open .gitignore file and add venv/\n",
    "\n",
    "    And then push to repo in git:\n",
    "    git add .\n",
    "    git commit -m \"Set up virtual environment and added requirements.txt\"\n",
    "    git push origin main  # or your branch name\n",
    "\n",
    "\n",
    "# Recreate the virtual environment to another machine\n",
    "    when cloning the repo on another machine, setup the virtual env and install dependencies:\n",
    "    \n",
    "        git clone <repo_url>\n",
    "        cd <repo_name>\n",
    "        python -m venv venv  # Create venv\n",
    "        source venv/bin/activate  # Activate venv (use venv\\Scripts\\activate on Windows)\n",
    "        pip install -r requirements.txt  # Install dependencies\n",
    "\n"
   ]
  },
  {
   "cell_type": "code",
   "execution_count": null,
   "metadata": {
    "vscode": {
     "languageId": "plaintext"
    }
   },
   "outputs": [],
   "source": []
  }
 ],
 "metadata": {
  "language_info": {
   "name": "python"
  }
 },
 "nbformat": 4,
 "nbformat_minor": 2
}
