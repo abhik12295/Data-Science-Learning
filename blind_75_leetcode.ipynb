{
 "cells": [
  {
   "cell_type": "code",
   "execution_count": null,
   "metadata": {},
   "outputs": [],
   "source": [
    "#2 sum\n",
    "'''\n",
    "Given an array of integers nums and an integer target, return indices of the two numbers such that they add up to target.\n",
    "You may assume that each input would have exactly one solution, and you may not use the same element twice.\n",
    "You can return the answer in any order.\n",
    "Example 1:\n",
    "Input: nums = [2,7,11,15], target = 9\n",
    "Output: [0,1]\n",
    "Explanation: Because nums[0] + nums[1] == 9, we return [0, 1].\n",
    "\n",
    "Example 2:\n",
    "Input: nums = [3,2,4], target = 6\n",
    "Output: [1,2]\n",
    "s\n",
    "Example 3:\n",
    "\n",
    "Input: nums = [3,3], target = 6\n",
    "Output: [0,1]\n",
    "\n",
    "'''\n",
    "\n",
    "nums = [3,2,4]\n",
    "target = 6\n",
    "\n",
    "def twoSum(nums, target: int):\n",
    "    hash_ = {}\n",
    "    for i in range(len(nums)):\n",
    "        diff = target - nums[i] # 9-2 = 7\n",
    "        if diff in hash_: #7\n",
    "            return [hash_[diff],i] #0,1\n",
    "        hash_[nums[i]] = i\n",
    "    return\n",
    "\n",
    "twoSum(nums, target)\n",
    "\n"
   ]
  },
  {
   "cell_type": "code",
   "execution_count": null,
   "metadata": {},
   "outputs": [],
   "source": [
    "# #Given an array nums containing n distinct numbers in the range [0, n], \n",
    "# return the only number in the range that is missing from the array.\n",
    "# Example 1:\n",
    "# Input: nums = [3,0,1]\n",
    "# Output: 2\n",
    "# Explanation:\n",
    "# n = 3 since there are 3 numbers, so all numbers are in the range [0,3]. \n",
    "# 2 is the missing number in the range since it does not appear in nums.\n",
    "\n",
    "# Example 2:\n",
    "# Input: nums = [0,1]\n",
    "# Output: 2\n",
    "# Explanation:\n",
    "# n = 2 since there are 2 numbers, so all numbers are in the range [0,2]. \n",
    "# 2 is the missing number in the range since it does not appear in nums.\n",
    "\n",
    "# Example 3:\n",
    "# Input: nums = [9,6,4,2,3,5,7,0,1]\n",
    "# Output: 8\n",
    "# Explanation:\n",
    "# n = 9 since there are 9 numbers, so all numbers are in the range [0,9]. \n",
    "# 8 is the missing number in the range since it does not appear in nums.\n",
    "\n",
    "nums= [0,1]\n",
    "def missing_number(nums):\n",
    "    n = len(nums)\n",
    "    for i in range(n+1):\n",
    "        if i not in nums:\n",
    "            return i    \n",
    "\n",
    "missing_number(nums)\n",
    "\n",
    "def missing_number(nums):\n",
    "    n = len(nums)\n",
    "    i= 0\n",
    "    while i<=n:\n",
    "        if i not in nums:\n",
    "            print(i)\n",
    "        i+=1"
   ]
  },
  {
   "cell_type": "code",
   "execution_count": null,
   "metadata": {},
   "outputs": [],
   "source": [
    "# Given a string s containing just the characters '(', ')', '{', '}', '[' and ']', \n",
    "# determine if the input string is valid.\n",
    "\n",
    "# An input string is valid if:\n",
    "#     Open brackets must be closed by the same type of brackets.\n",
    "#     Open brackets must be closed in the correct order.\n",
    "#     Every close bracket has a corresponding open bracket of the same type.\n",
    "# Example 1:\n",
    "# Input: s = \"()\"\n",
    "# Output: true\n",
    "\n",
    "# Example 2:\n",
    "# Input: s = \"()[]{}\"\n",
    "# Output: true\n",
    "\n",
    "# Example 3:\n",
    "# Input: s = \"(]\"\n",
    "# Output: false\n",
    "\n",
    "\n",
    "'''\n",
    "()[]{}\n",
    "()\n",
    "'''\n",
    "s = \"([])\"\n",
    "def isValid(s):\n",
    "    map_ = {\n",
    "        '(':')',\n",
    "        '[':']',\n",
    "        '{':'}'\n",
    "    }\n",
    "    stack = []\n",
    "    for char in s:\n",
    "        if char in map_.keys():\n",
    "            stack.append(char)\n",
    "            print(stack)\n",
    "        else:\n",
    "            if len(stack)==0:\n",
    "                    return False\n",
    "            get_char = stack.pop()\n",
    "            print(get_char)\n",
    "            if char != map_[get_char]:\n",
    "                return False\n",
    "    return len(stack)==0\n",
    "\n",
    "isValid(s)\n"
   ]
  },
  {
   "cell_type": "code",
   "execution_count": 46,
   "metadata": {},
   "outputs": [
    {
     "name": "stdout",
     "output_type": "stream",
     "text": [
      "True\n",
      "a\n",
      "amanaplanacanalpanama amanaplanacanalpanama\n",
      "True\n"
     ]
    },
    {
     "data": {
      "text/plain": [
       "'amanaplanacanalpanama'"
      ]
     },
     "execution_count": 46,
     "metadata": {},
     "output_type": "execute_result"
    }
   ],
   "source": [
    "# # Valid Palindrome\n",
    "# A phrase is a palindrome if, after converting all uppercase letters into lowercase letters and \n",
    "# removing all non-alphanumeric characters, it reads the same forward and backward. \n",
    "# Alphanumeric characters include letters and numbers.\n",
    "\n",
    "# Given a string s, return true if it is a palindrome, or false otherwise.\n",
    "\n",
    "# Example 1:\n",
    "# Input: s = \"A man, a plan, a canal: Panama\"\n",
    "# Output: true\n",
    "# Explanation: \"amanaplanacanalpanama\" is a palindrome.\n",
    "\n",
    "# Example 2:\n",
    "# Input: s = \"race a car\"\n",
    "# Output: false\n",
    "# Explanation: \"raceacar\" is not a palindrome.\n",
    "\n",
    "#Input: s = \" \"\n",
    "#Output: true\n",
    "\n",
    "s = 'A man, a plan, a canal: Panama'\n",
    "# def isPalindrome(s):\n",
    "#     s = s.split()\n",
    "d = ''\n",
    "for c in s:\n",
    "    if c.isalpha():\n",
    "        d+=c.lower()\n",
    "print(d==d[::-1])\n",
    "\n",
    "for char in s :\n",
    "    if char.isalnum():\n",
    "        s2=''.join(char)\n",
    "print(s2)\n",
    "\n",
    "s3,s4 = \"\",\"\"\n",
    "for c in s:\n",
    "    if c.isalpha():\n",
    "        s4+=c\n",
    "        s3 = c+s3\n",
    "print(s4.lower(), s3.lower())\n",
    "print(s4.lower()==s3.lower())\n",
    "\n",
    "\n",
    "res = ''.join(filter(str.isalnum,s)).lower()\n",
    "res\n"
   ]
  },
  {
   "cell_type": "code",
   "execution_count": null,
   "metadata": {},
   "outputs": [],
   "source": [
    "#Linked List cycle:\n",
    "class Node:\n",
    "    def __init__(self, val):\n",
    "        self.val = None\n",
    "        self.next = None\n",
    "\n",
    "class findCycle:\n",
    "    def findCycle(self, head=None):\n",
    "        slow = head\n",
    "        fast = head\n",
    "        while fast and fast.next:\n",
    "            slow = slow.next\n",
    "            fast = fast.next.next\n",
    "            if slow==fast:\n",
    "                return True\n",
    "        return False\n",
    "\n"
   ]
  },
  {
   "cell_type": "code",
   "execution_count": null,
   "metadata": {},
   "outputs": [],
   "source": [
    "#reverse the linked list\n",
    "class Node:\n",
    "    def __init__(self,val):\n",
    "        self.val = val\n",
    "        self.next = None\n",
    "class Solution:\n",
    "    def reverseLL(self,head = None):\n",
    "        curr = head\n",
    "        prev = None\n",
    "        while curr:\n",
    "            next = curr.next\n",
    "            curr.next = prev\n",
    "            prev = curr\n",
    "            curr = next\n",
    "        return prev\n",
    "    \n",
    "'''\n",
    "head/100 -> 1/200 -> 2/300 -> 3/None\n",
    " Step 1:          step 2\n",
    "head = 100         curr = 100/1\n",
    "curr = 100         next = 200\n",
    "prev = none        curr.next = None\n",
    "                    prev = 100\n",
    "                    curr = 200/2\n",
    "  \n",
    "\n",
    "\n",
    "'''    \n"
   ]
  },
  {
   "cell_type": "code",
   "execution_count": 8,
   "metadata": {},
   "outputs": [
    {
     "name": "stdout",
     "output_type": "stream",
     "text": [
      "[0, 1, 2, 0, 0, 0]\n",
      "[0, 1, 2, 3, 0, 0]\n",
      "[0, 1, 2, 3, 5, 0]\n"
     ]
    },
    {
     "data": {
      "text/plain": [
       "8"
      ]
     },
     "execution_count": 8,
     "metadata": {},
     "output_type": "execute_result"
    }
   ],
   "source": [
    "# Climb stairs\n",
    "'''\n",
    "You are climbing a staircase. It takes n steps to reach the top.\n",
    "Each time you can either climb 1 or 2 steps. In how many distinct ways can you climb to the top?\n",
    "Input: n = 3\n",
    "\n",
    "Output: 3\n",
    "Explanation: There are three ways to climb to the top.\n",
    "1. 1 step + 1 step + 1 step\n",
    "2. 1 step + 2 steps\n",
    "3. 2 steps + 1 step\n",
    "\n",
    "# Tabular approach\n",
    "'''\n",
    "\n",
    "n = 3\n",
    "def climbStairs(n):\n",
    "    #edge case\n",
    "    if n<=2:\n",
    "        return n\n",
    "    dp = [0]*(n+1)\n",
    "    #base case\n",
    "    dp[1]=1\n",
    "    dp[2]=2\n",
    "    #loop to iterate (step either 1 or 2 ) and get the last value\n",
    "    for i in range(3, n+1):\n",
    "        print(dp)\n",
    "        dp[i] = dp[i-1]+dp[i-2]\n",
    "        \n",
    "    return dp[n]\n",
    "\n",
    "climbStairs(5)"
   ]
  },
  {
   "cell_type": "code",
   "execution_count": null,
   "metadata": {},
   "outputs": [],
   "source": [
    "#using tabular\n",
    "nums = [2,1,1,2]\n",
    "def rob_tab(nums):\n",
    "    if len(nums)<0:\n",
    "        return 0\n",
    "    dp = [0]*(len(nums))\n",
    "    dp[0] = nums[0]\n",
    "    dp[1] = max(nums[0], nums[1])\n",
    "    for i in range(2,len(nums)):\n",
    "        dp[i] = max(nums[i]+dp[i-2], dp[i-1])\n",
    "        print(dp)\n",
    "    return dp[-1]\n",
    "\n",
    "\n",
    "\n",
    "rob_tab(nums)"
   ]
  },
  {
   "cell_type": "code",
   "execution_count": null,
   "metadata": {},
   "outputs": [],
   "source": [
    "#array solution to house robber\n",
    "nums = [2,1,1,2]\n",
    "def rob_arr(nums):\n",
    "    if not nums:\n",
    "        return 0\n",
    "    if len(nums)==1:\n",
    "        return nums[0]\n",
    "    \n",
    "    prev2 = 0\n",
    "    prev1 = 0\n",
    "    for num in nums:\n",
    "        curr = max(prev2+num, prev1)\n",
    "        prev2 = prev1\n",
    "        prev1 = curr\n",
    "    return prev1\n",
    "\n",
    "rob_arr(nums)\n",
    "\n",
    "\n"
   ]
  },
  {
   "cell_type": "code",
   "execution_count": 14,
   "metadata": {},
   "outputs": [
    {
     "name": "stdout",
     "output_type": "stream",
     "text": [
      "5\n"
     ]
    },
    {
     "data": {
      "text/plain": [
       "5"
      ]
     },
     "execution_count": 14,
     "metadata": {},
     "output_type": "execute_result"
    }
   ],
   "source": [
    "# sell and buy stock \n",
    "prices = [7,1,5,4,6,3]\n",
    "def sellStockBruteForce(prices):\n",
    "    max_stock = 0\n",
    "    for i in range(len(prices)):\n",
    "        for j in range(i+1, len(prices)):\n",
    "            min_price = min(prices[i], prices[j])\n",
    "            max_stock = max(max_stock, prices[j]-min_price)\n",
    "    return max_stock\n",
    "print(sellStockBruteForce(prices))\n",
    "\n",
    "def sellStock(prices):\n",
    "    min_price = float('inf')\n",
    "    max_price = 0\n",
    "    for price in prices:\n",
    "        min_price = min(min_price, price)\n",
    "        max_price = max(max_price, price-min_price)\n",
    "    return max_price\n",
    "\n",
    "sellStock(prices)\n"
   ]
  },
  {
   "cell_type": "code",
   "execution_count": null,
   "metadata": {},
   "outputs": [
    {
     "data": {
      "text/plain": [
       "964176192"
      ]
     },
     "execution_count": 15,
     "metadata": {},
     "output_type": "execute_result"
    }
   ],
   "source": [
    "'''\n",
    "Reverse bits \n",
    "\n",
    "Reverse the bits of a 32-bit unsigned integer\n",
    "'''\n",
    "#logic = go bit by bit from right to left and rebuild from left to right\n",
    "# and operator = will get us the last bit from n -> 0 & 1 = 0 , 1 & 1 = 1\n",
    "# or operator = will add the required bit to resultant -> 0|1 = 1, or 0|0= 0\n",
    "# >> right = shift with add -> to get the next element from n\n",
    "#  << left  = shift with or -> to make the resultant space for our result \n",
    "n = 0b00000010100101000001111010011100\n",
    "#Output:    964176192 (00111001011110000010100101000000)\n",
    "\n",
    "def reverse_bit(n):\n",
    "    res = 0\n",
    "    for _ in range(32):\n",
    "        res = res << 1\n",
    "        bit = n&1\n",
    "        res = res << 1| bit\n",
    "        n=n>>1\n",
    "    return res\n",
    "\n",
    "def reverse_bit(n):\n",
    "    res = 0\n",
    "    for _ in range(32):\n",
    "        res = res << 1| n&1\n",
    "        n>>=1\n",
    "    return res\n",
    "reverse_bit(n)\n",
    "\n"
   ]
  },
  {
   "cell_type": "code",
   "execution_count": null,
   "metadata": {},
   "outputs": [
    {
     "data": {
      "text/plain": [
       "3"
      ]
     },
     "execution_count": 27,
     "metadata": {},
     "output_type": "execute_result"
    }
   ],
   "source": [
    "'''\n",
    "Number of 1 bits\n",
    "'''\n",
    "n= 11\n",
    "#outpt = 3 bits on -> 1011 = 11\n",
    "def no_of_bits(n):\n",
    "    cnt = 0\n",
    "    while n:\n",
    "        #get the last bit\n",
    "        bit=n&1\n",
    "        # left shift to remove the last bit\n",
    "        n=n>>1\n",
    "        #increase the cnt if bit is 1\n",
    "        if bit==1:\n",
    "            cnt+=1\n",
    "    return cnt\n",
    "no_of_bits(n)"
   ]
  },
  {
   "cell_type": "code",
   "execution_count": null,
   "metadata": {},
   "outputs": [
    {
     "data": {
      "text/plain": [
       "[0, 1, 1, 2, 1, 2]"
      ]
     },
     "execution_count": 49,
     "metadata": {},
     "output_type": "execute_result"
    }
   ],
   "source": [
    "'''\n",
    "Counting Bits\n",
    "\n",
    "Given an integer n, return an array ans of length n + 1 such that for each i (0 <= i <= n),\n",
    "ans[i] is the number of 1's in the binary representation of i.\n",
    "\n",
    "n = 2  # [0,1,1] -> Explanation: [0],[1],[1,0]\n",
    "n = 5   # [0,1,1,2,1,2]\n",
    "Explanation: 0 --> 0, 1 --> 1, 2 --> 10, 3 --> 11, 4 --> 100, 5 --> 101\n",
    "'''\n",
    "n = 5\n",
    "def countingBits(n):\n",
    "    lst = []\n",
    "    for i in range(n+1):\n",
    "        cnt = 0\n",
    "        # if i ==0:\n",
    "        #     lst.append(i)\n",
    "        while i:\n",
    "            bit = i&1\n",
    "            if bit==1:\n",
    "                cnt+=1\n",
    "            i>>=1\n",
    "        lst.append(cnt)\n",
    "    return lst\n",
    "countingBits(n)  \n"
   ]
  },
  {
   "cell_type": "code",
   "execution_count": 61,
   "metadata": {},
   "outputs": [
    {
     "data": {
      "text/plain": [
       "[0, 1, 1, 2, 1, 2]"
      ]
     },
     "execution_count": 61,
     "metadata": {},
     "output_type": "execute_result"
    }
   ],
   "source": [
    " # dp problem solution for counting bits\n",
    "n = 5\n",
    "def dp_counting_bits(n):\n",
    "    dp = [0]\n",
    "    for i in range(1, n+1):\n",
    "        dp.append(dp[i//2]+i%2)\n",
    "    return dp\n",
    "dp_counting_bits(n)"
   ]
  },
  {
   "cell_type": "code",
   "execution_count": 71,
   "metadata": {},
   "outputs": [
    {
     "data": {
      "text/plain": [
       "[0, 1, 1]"
      ]
     },
     "execution_count": 71,
     "metadata": {},
     "output_type": "execute_result"
    }
   ],
   "source": [
    "'''Another solution'''\n",
    " # dp problem solution for counting bits\n",
    "n = 2\n",
    "def dp_counting_bits_o(n):\n",
    "    dp = [0]*(n+1)\n",
    "    for i in range(1,len(dp)):\n",
    "        dp[i] = dp[i>>1] + (i&1)\n",
    "    return dp\n",
    "dp_counting_bits_o(n)"
   ]
  }
 ],
 "metadata": {
  "kernelspec": {
   "display_name": "venv",
   "language": "python",
   "name": "python3"
  },
  "language_info": {
   "codemirror_mode": {
    "name": "ipython",
    "version": 3
   },
   "file_extension": ".py",
   "mimetype": "text/x-python",
   "name": "python",
   "nbconvert_exporter": "python",
   "pygments_lexer": "ipython3",
   "version": "3.10.0"
  }
 },
 "nbformat": 4,
 "nbformat_minor": 2
}
