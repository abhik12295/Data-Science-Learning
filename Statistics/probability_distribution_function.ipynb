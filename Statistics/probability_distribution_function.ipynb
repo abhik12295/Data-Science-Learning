{
 "cells": [
  {
   "cell_type": "code",
   "execution_count": null,
   "id": "cd22cd97",
   "metadata": {},
   "outputs": [],
   "source": [
    "'''\n",
    "Probability distribution function:\n",
    "- definition: function that describes the probability of obtaining the possible values of a random variable.\n",
    "- properties:\n",
    "  - The sum of the probabilities for all possible values must equal 1.\n",
    "  - It can be represented graphically using a probability mass function (PMF) for discrete variables or a probability density function (PDF) for continuous variables.\n",
    "\n",
    "'''"
   ]
  },
  {
   "cell_type": "code",
   "execution_count": null,
   "id": "53cff427",
   "metadata": {},
   "outputs": [],
   "source": [
    "'''\n",
    "PMF:\n",
    "- definition: function that gives the probability of a discrete random variable taking a specific value.\n",
    "- full name: Probability Mass Function.\n",
    "- properties:\n",
    "  - For a discrete random variable X, the PMF is denoted as P(X = x).\n",
    "  - The PMF must satisfy the condition that the sum of probabilities for all possible values equals 1.\n",
    "  - It can be represented graphically as a series of vertical bars at each possible value of the random variable.\n",
    "'''"
   ]
  }
 ],
 "metadata": {
  "language_info": {
   "name": "python"
  }
 },
 "nbformat": 4,
 "nbformat_minor": 5
}
