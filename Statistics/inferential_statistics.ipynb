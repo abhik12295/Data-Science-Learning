{
 "cells": [
  {
   "cell_type": "code",
   "execution_count": null,
   "id": "ec7e4310",
   "metadata": {},
   "outputs": [],
   "source": [
    "'''\n",
    "Inferential statistics:\n",
    "It gives us to make conclusions about a population based on a sample of data.\n",
    "This module provides functions to perform inferential statistics, including hypothesis testing and confidence intervals.\n",
    "It includes functions for t-tests, z-tests, chi-squared tests, and confidence intervals for means and proportions.\n",
    "It is designed to be used in conjunction with the `statistics` module for descriptive statistics.\n",
    "'''"
   ]
  },
  {
   "cell_type": "code",
   "execution_count": null,
   "id": "e00d4983",
   "metadata": {},
   "outputs": [],
   "source": [
    "'''\n",
    "Hypothesis Testing:\n",
    "Definition:\n",
    "    Hypothesis testing is a statistical method used to make inferences about a population based on a sample. \n",
    "    It involves formulating a null hypothesis (H0) and an alternative hypothesis (H1), \n",
    "    then using sample data to determine whether to reject or fail to reject the null hypothesis.\n",
    "Hypothesis Testing Mechanism:\n",
    "    1. Formulate the null hypothesis (H0) and alternative hypothesis (H1).\n",
    "    (Here null hypothesis is a statement of no effect or no difference, \n",
    "    while the alternative hypothesis is what you want to prove.)\n",
    "    2. Choose a significance level (alpha), typically 0.05.\n",
    "    3. Collect sample data and calculate the test statistic.\n",
    "    4. Determine the critical value or p-value based on the test statistic.\n",
    "    5. Compare the test statistic to the critical value or p-value to make a decision.\n",
    "    6. Draw conclusions about the population based on the results.\n",
    "\n",
    "Example:\n",
    "    Suppose we want to test whether a new drug is effective in reducing blood pressure.\n",
    "    - Null Hypothesis (H0): The drug has no effect on blood pressure.\n",
    "    - Alternative Hypothesis (H1): The drug reduces blood pressure.\n",
    "    - We collect sample data, calculate the test statistic, and compare it to the critical value or p-value.\n",
    "    - If the test statistic exceeds the critical value or the p-value is less than alpha, we reject H0 and conclude that the drug is effective.\n",
    "'''"
   ]
  },
  {
   "cell_type": "code",
   "execution_count": null,
   "id": "7c9108f2",
   "metadata": {},
   "outputs": [],
   "source": [
    "'''\n",
    "p-value:\n",
    "Definition:\n",
    "    The p-value is the probability of observing a test statistic at least as extreme as the one calculated from the sample data, \n",
    "    assuming that the null hypothesis is true. It quantifies the evidence against the null hypothesis.\n",
    "Mechanism:\n",
    "    1. Calculate the test statistic from the sample data.\n",
    "    2. Determine the distribution of the test statistic under the null hypothesis.\n",
    "    3. Calculate the p-value as the probability of observing a test statistic as extreme or more extreme than the one calculated.\n",
    "    4. Compare the p-value to the significance level (alpha) to make a decision about the null hypothesis.\n",
    "Formula:\n",
    "    p-value = P(T >= t | H0) for a right-tailed test\n",
    "    p-value = P(T <= t | H0) for a left-tailed test\n",
    "    p-value = 2 * min(P(T >= t | H0), P(T <= t | H0)) for a two-tailed test\n",
    "Example:\n",
    "    Suppose we have a school with students who take a math test.\n",
    "    - Null Hypothesis (H0): The average score of students is 75.\n",
    "    - We collect sample data and calculate the test statistic.\n",
    "    - If we find a p-value of 0.03, it means there is a 3% chance of observing a test statistic as extreme as ours if the null hypothesis is true.\n",
    "    - If our significance level (alpha) is 0.05, we reject the null hypothesis because 0.03 < 0.05, indicating that the average score is significantly different from 75.\n",
    "\n",
    "'''"
   ]
  },
  {
   "cell_type": "code",
   "execution_count": 2,
   "id": "e5ab0ba4",
   "metadata": {},
   "outputs": [
    {
     "name": "stdout",
     "output_type": "stream",
     "text": [
      "Sample Mean: 75.3\n",
      "Sample Standard Deviation: 1.636391694484477\n",
      "T-Statistic: 0.5797409637607422\n",
      "P-Value: 0.5763121535388385\n",
      "Conclusion: Fail to reject the null hypothesis: The average score is not significantly different from 75.\n"
     ]
    }
   ],
   "source": [
    "# implement the above example in code p-test\n",
    "import numpy as np\n",
    "from scipy import stats\n",
    "def test_math_scores(scores, null_hypothesis_mean=75, alpha=0.05):\n",
    "    \"\"\"\n",
    "    Perform a one-sample t-test to determine if the average score of students is significantly different from the null hypothesis mean.\n",
    "    \n",
    "    Parameters:\n",
    "    scores (list or np.array): Sample data of student scores.\n",
    "    null_hypothesis_mean (float): The mean score under the null hypothesis.\n",
    "    alpha (float): Significance level for the test.\n",
    "    \n",
    "    Returns:\n",
    "    dict: Results of the hypothesis test including test statistic, p-value, and conclusion.\n",
    "    \"\"\"\n",
    "    # Calculate the sample mean and standard deviation\n",
    "    sample_mean = np.mean(scores)\n",
    "    sample_std = np.std(scores, ddof=1)  # Sample standard deviation\n",
    "    n = len(scores)  # Sample size\n",
    "    \n",
    "    # Perform the t-test\n",
    "    t_statistic, p_value = stats.ttest_1samp(scores, null_hypothesis_mean)\n",
    "    \n",
    "    # Determine if we reject or fail to reject the null hypothesis\n",
    "    if p_value < alpha:\n",
    "        conclusion = \"Reject the null hypothesis: The average score is significantly different from 75.\"\n",
    "    else:\n",
    "        conclusion = \"Fail to reject the null hypothesis: The average score is not significantly different from 75.\"\n",
    "    \n",
    "    return {\n",
    "        'sample_mean': sample_mean,\n",
    "        'sample_std': sample_std,\n",
    "        't_statistic': t_statistic,\n",
    "        'p_value': p_value,\n",
    "        'conclusion': conclusion\n",
    "    }\n",
    "# Example usage\n",
    "scores = [78, 75, 74, 75, 75, 76, 75, 78, 73, 74]\n",
    "result = test_math_scores(scores)\n",
    "print(\"Sample Mean:\", result['sample_mean'])\n",
    "print(\"Sample Standard Deviation:\", result['sample_std'])\n",
    "print(\"T-Statistic:\", result['t_statistic'])\n",
    "print(\"P-Value:\", result['p_value'])\n",
    "print(\"Conclusion:\", result['conclusion'])\n"
   ]
  }
 ],
 "metadata": {
  "kernelspec": {
   "display_name": "venv",
   "language": "python",
   "name": "python3"
  },
  "language_info": {
   "codemirror_mode": {
    "name": "ipython",
    "version": 3
   },
   "file_extension": ".py",
   "mimetype": "text/x-python",
   "name": "python",
   "nbconvert_exporter": "python",
   "pygments_lexer": "ipython3",
   "version": "3.10.0"
  }
 },
 "nbformat": 4,
 "nbformat_minor": 5
}
