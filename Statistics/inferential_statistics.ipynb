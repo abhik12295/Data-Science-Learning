{
 "cells": [
  {
   "cell_type": "code",
   "execution_count": null,
   "id": "ec7e4310",
   "metadata": {},
   "outputs": [],
   "source": [
    "'''\n",
    "Inferential statistics:\n",
    "It gives us to make conclusions about a population based on a sample of data.\n",
    "This module provides functions to perform inferential statistics, including hypothesis testing and confidence intervals.\n",
    "It includes functions for t-tests, z-tests, chi-squared tests, and confidence intervals for means and proportions.\n",
    "It is designed to be used in conjunction with the `statistics` module for descriptive statistics.\n",
    "'''"
   ]
  },
  {
   "cell_type": "code",
   "execution_count": null,
   "id": "e00d4983",
   "metadata": {},
   "outputs": [],
   "source": [
    "'''\n",
    "Hypothesis Testing:\n",
    "Definition:\n",
    "    Hypothesis testing is a statistical method used to make inferences about a population based on a sample. \n",
    "    It involves formulating a null hypothesis (H0) and an alternative hypothesis (H1), \n",
    "    then using sample data to determine whether to reject or fail to reject the null hypothesis.\n",
    "Hypothesis Testing Mechanism:\n",
    "    1. Formulate the null hypothesis (H0) and alternative hypothesis (H1).\n",
    "    (Here null hypothesis is a statement of no effect or no difference, \n",
    "    while the alternative hypothesis is what you want to prove.)\n",
    "    2. Choose a significance level (alpha), typically 0.05.\n",
    "    3. Collect sample data and calculate the test statistic.\n",
    "    4. Determine the critical value or p-value based on the test statistic.\n",
    "    5. Compare the test statistic to the critical value or p-value to make a decision.\n",
    "    6. Draw conclusions about the population based on the results.\n",
    "\n",
    "Example:\n",
    "    Suppose we want to test whether a new drug is effective in reducing blood pressure.\n",
    "    - Null Hypothesis (H0): The drug has no effect on blood pressure.\n",
    "    - Alternative Hypothesis (H1): The drug reduces blood pressure.\n",
    "    - We collect sample data, calculate the test statistic, and compare it to the critical value or p-value.\n",
    "    - If the test statistic exceeds the critical value or the p-value is less than alpha, we reject H0 and conclude that the drug is effective.\n",
    "'''"
   ]
  }
 ],
 "metadata": {
  "language_info": {
   "name": "python"
  }
 },
 "nbformat": 4,
 "nbformat_minor": 5
}
