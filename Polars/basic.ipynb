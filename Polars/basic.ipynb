{
 "cells": [
  {
   "cell_type": "code",
   "execution_count": 3,
   "id": "3b497283",
   "metadata": {},
   "outputs": [],
   "source": [
    "import polars as pl\n"
   ]
  },
  {
   "cell_type": "code",
   "execution_count": 4,
   "id": "b313bf95",
   "metadata": {},
   "outputs": [
    {
     "name": "stdout",
     "output_type": "stream",
     "text": [
      "shape: (5, 5)\n",
      "┌─────┬─────┬─────┬─────┬────────┐\n",
      "│ a   ┆ b   ┆ c   ┆ d   ┆ e      │\n",
      "│ --- ┆ --- ┆ --- ┆ --- ┆ ---    │\n",
      "│ i64 ┆ i64 ┆ i64 ┆ i64 ┆ i64    │\n",
      "╞═════╪═════╪═════╪═════╪════════╡\n",
      "│ 1   ┆ 10  ┆ 100 ┆ 111 ┆ 1000   │\n",
      "│ 2   ┆ 20  ┆ 200 ┆ 222 ┆ 8000   │\n",
      "│ 3   ┆ 30  ┆ 300 ┆ 333 ┆ 27000  │\n",
      "│ 4   ┆ 40  ┆ 400 ┆ 444 ┆ 64000  │\n",
      "│ 5   ┆ 50  ┆ 500 ┆ 555 ┆ 125000 │\n",
      "└─────┴─────┴─────┴─────┴────────┘\n"
     ]
    }
   ],
   "source": [
    "df = pl.DataFrame(\n",
    "    {\n",
    "        \"a\": [1, 2, 3, 4, 5],\n",
    "        \"b\": [10, 20, 30, 40, 50],\n",
    "        \"c\": [100, 200, 300, 400, 500],\n",
    "    }\n",
    ")\n",
    "# Create a new column 'd' that is the sum of columns 'a', 'b', and 'c'\n",
    "df = df.with_columns(\n",
    "    (pl.col(\"a\") + pl.col(\"b\") + pl.col(\"c\")).alias(\"d\")\n",
    ")\n",
    "# Create a new column 'e' that is the product of columns 'a', 'b', and 'c'\n",
    "df = df.with_columns(\n",
    "    (pl.col(\"a\") * pl.col(\"b\") * pl.col(\"c\")).alias(\"e\")\n",
    ")\n",
    "#display the DataFrame\n",
    "print(df)"
   ]
  }
 ],
 "metadata": {
  "kernelspec": {
   "display_name": "venv",
   "language": "python",
   "name": "python3"
  },
  "language_info": {
   "codemirror_mode": {
    "name": "ipython",
    "version": 3
   },
   "file_extension": ".py",
   "mimetype": "text/x-python",
   "name": "python",
   "nbconvert_exporter": "python",
   "pygments_lexer": "ipython3",
   "version": "3.10.0"
  }
 },
 "nbformat": 4,
 "nbformat_minor": 5
}
