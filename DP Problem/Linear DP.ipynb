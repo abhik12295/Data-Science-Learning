{
 "cells": [
  {
   "cell_type": "code",
   "execution_count": 16,
   "metadata": {},
   "outputs": [
    {
     "data": {
      "text/plain": [
       "[0, 1, 1, 2, 3, 5, 8, 13, 21, 34]"
      ]
     },
     "execution_count": 16,
     "metadata": {},
     "output_type": "execute_result"
    }
   ],
   "source": [
    "# Fibonacci Sequence\n",
    "# Compute the nth Fib number\n",
    "# 1,1,2,3,5,8\n",
    "'''\n",
    "f(0)=0\n",
    "f(1)=1\n",
    "f(n) = f(n-1)+f(n-2)\n",
    "'''\n",
    "\n",
    "# Recursion method = O(2**n)\n",
    "def fib(n):\n",
    "    #base case\n",
    "    if n<0:\n",
    "        return\n",
    "    if n==0 or n==1:\n",
    "        return n\n",
    "    #recursion\n",
    "    return fib(n-1)+fib(n-2)\n",
    "\n",
    "lst = []\n",
    "for i in range(10):\n",
    "    lst.append(fib(i))\n",
    "lst"
   ]
  },
  {
   "cell_type": "code",
   "execution_count": 15,
   "metadata": {},
   "outputs": [
    {
     "data": {
      "text/plain": [
       "[0, 1, 1, 2, 3, 5, 8, 13, 21, 34]"
      ]
     },
     "execution_count": 15,
     "metadata": {},
     "output_type": "execute_result"
    }
   ],
   "source": [
    "# Using memoization top-down approach:\n",
    "# stores result in cache or memo\n",
    "# O(n) - linear solution\n",
    "\n",
    "def fib_memo(n):\n",
    "    # Base case\n",
    "    if n <=1:\n",
    "        return n\n",
    "    memo = {}\n",
    "    if n in memo:\n",
    "        return memo[n]\n",
    "    \n",
    "    memo[n] = fib_memo(n-1)+ fib_memo(n-2)\n",
    "    return memo[n]\n",
    "lst = []\n",
    "for i in range(10):\n",
    "    lst.append(fib_memo(i))\n",
    "lst\n",
    "    "
   ]
  },
  {
   "cell_type": "code",
   "execution_count": 28,
   "metadata": {},
   "outputs": [
    {
     "name": "stdout",
     "output_type": "stream",
     "text": [
      "[0, 1, 1, 0, 0, 0, 0, 0, 0, 0, 0]\n",
      "[0, 1, 1, 2, 0, 0, 0, 0, 0, 0, 0]\n",
      "[0, 1, 1, 2, 3, 0, 0, 0, 0, 0, 0]\n",
      "[0, 1, 1, 2, 3, 5, 0, 0, 0, 0, 0]\n",
      "[0, 1, 1, 2, 3, 5, 8, 0, 0, 0, 0]\n",
      "[0, 1, 1, 2, 3, 5, 8, 13, 0, 0, 0]\n",
      "[0, 1, 1, 2, 3, 5, 8, 13, 21, 0, 0]\n",
      "[0, 1, 1, 2, 3, 5, 8, 13, 21, 34, 0]\n",
      "[0, 1, 1, 2, 3, 5, 8, 13, 21, 34, 55]\n"
     ]
    },
    {
     "data": {
      "text/plain": [
       "55"
      ]
     },
     "execution_count": 28,
     "metadata": {},
     "output_type": "execute_result"
    }
   ],
   "source": [
    "# using tabulation method\n",
    "# bottom - up approach\n",
    "'''\n",
    "calculate the Fibonacci number at position n, you store the first two numbers of the sequence, 0 and 1, in cache. \n",
    "Then, calculate the next numbers consecutively until you can return cache[n].\n",
    "'''\n",
    "def fib_tab(n):\n",
    "    #base case \n",
    "    if n<=1:\n",
    "        return n\n",
    "    dp = [0]*(n+1)\n",
    "    dp[1] = 1\n",
    "    for i in range(2, n+1):\n",
    "        dp[i] = dp[i-1]+dp[i-2]\n",
    "        print(dp)\n",
    "    return dp[n]\n",
    "fib_tab(10)"
   ]
  },
  {
   "cell_type": "code",
   "execution_count": 32,
   "metadata": {},
   "outputs": [
    {
     "data": {
      "text/plain": [
       "55"
      ]
     },
     "execution_count": 32,
     "metadata": {},
     "output_type": "execute_result"
    }
   ],
   "source": [
    "# space optimized\n",
    "def fib_spa(n):\n",
    "    if n<=1:\n",
    "        return n\n",
    "    a=0\n",
    "    b=1\n",
    "    for _ in range(n-1):\n",
    "        a,b= b,a+b\n",
    "    return b\n",
    "fib_spa(10)"
   ]
  },
  {
   "cell_type": "code",
   "execution_count": 34,
   "metadata": {},
   "outputs": [
    {
     "data": {
      "text/plain": [
       "8"
      ]
     },
     "execution_count": 34,
     "metadata": {},
     "output_type": "execute_result"
    }
   ],
   "source": [
    "# PROBLEM 2 \n",
    "#CLIMBING STAIRS\n",
    "#Each time you can either climb 1 or 2 steps, how many ways we can reach to top \n",
    "# Explanation: There are three ways to climb to the top.\n",
    "# 1. 1 step + 1 step + 1 step\n",
    "# 2. 1 step + 2 steps\n",
    "# 3. 2 steps + 1 step\n",
    "def climb_Stairs(n):\n",
    "    #base case\n",
    "    if n<=2:\n",
    "        return n\n",
    "    return climb_Stairs(n-1)+ climb_Stairs(n-2)\n",
    "climb_Stairs(5)"
   ]
  },
  {
   "cell_type": "code",
   "execution_count": 42,
   "metadata": {},
   "outputs": [
    {
     "data": {
      "text/plain": [
       "8"
      ]
     },
     "execution_count": 42,
     "metadata": {},
     "output_type": "execute_result"
    }
   ],
   "source": [
    "# Climbing Stairs Memoization - Recursion memo\n",
    "def climb_Stairs_memo(n, memo= {}):\n",
    "    #base case:\n",
    "    if n<=2:\n",
    "        return n\n",
    "    if n not in memo:\n",
    "        memo[n] = climb_Stairs_memo(n-1, memo) + climb_Stairs_memo(n-2, memo)\n",
    "    return memo[n]\n",
    "\n",
    "climb_Stairs_memo(5)"
   ]
  },
  {
   "cell_type": "code",
   "execution_count": 55,
   "metadata": {},
   "outputs": [
    {
     "name": "stdout",
     "output_type": "stream",
     "text": [
      "[0, 1, 2, 0, 0, 0]\n",
      "[0, 1, 2, 3, 0, 0]\n",
      "[0, 1, 2, 3, 5, 0]\n",
      "[0, 1, 2, 3, 5, 8]\n"
     ]
    },
    {
     "data": {
      "text/plain": [
       "8"
      ]
     },
     "execution_count": 55,
     "metadata": {},
     "output_type": "execute_result"
    }
   ],
   "source": [
    "# Climbing Stairs - Tabular \n",
    "def climb_Stairs_tab(n):\n",
    "    #base condtion\n",
    "    if n<=2 and n>0:\n",
    "        return n\n",
    "    dp = [0]*(n+1)\n",
    "    dp[1]=1\n",
    "    dp[2]=2\n",
    "    print(dp)\n",
    "    for i in range(3,n+1):\n",
    "        dp[i] = dp[i-1]+dp[i-2]\n",
    "        print(dp)\n",
    "    return dp[n]\n",
    "\n",
    "climb_Stairs_tab(5)"
   ]
  },
  {
   "cell_type": "code",
   "execution_count": 76,
   "metadata": {},
   "outputs": [
    {
     "data": {
      "text/plain": [
       "13"
      ]
     },
     "execution_count": 76,
     "metadata": {},
     "output_type": "execute_result"
    }
   ],
   "source": [
    "# #House robbers:\n",
    "# Given an integer array nums representing the amount of money of each house, \n",
    "# return the maximum amount of money you can rob tonight without alerting the police.\n",
    "'''\n",
    "Example 1:\n",
    "\n",
    "Input: nums = [1,2,3,1]\n",
    "Output: 4\n",
    "Explanation: Rob house 1 (money = 1) and then rob house 3 (money = 3).\n",
    "Total amount you can rob = 1 + 3 = 4.\n",
    "\n",
    "Example 2:\n",
    "\n",
    "Input: nums = [2,7,9,3,1]\n",
    "Output: 12\n",
    "Explanation: Rob house 1 (money = 2), rob house 3 (money = 9) and rob house 5 (money = 1).\n",
    "Total amount you can rob = 2 + 9 + 1 = 12.\n",
    "'''\n",
    "nums = [2,8,3,5]\n",
    "\n",
    "def robber_rec(nums):\n",
    "    #base case\n",
    "    return robber_rec_sol(nums, index = None)\n",
    "\n",
    "def robber_rec_sol(nums, index):\n",
    "    if index is None:\n",
    "        index = len(nums)-1\n",
    "    if index < 0:\n",
    "        return 0\n",
    "    return max(nums[index]+robber_rec_sol(nums, index-2), robber_rec_sol(nums, index-1))\n",
    "   \n",
    "    \n",
    "robber_rec(nums)\n",
    "\n",
    "\n"
   ]
  },
  {
   "cell_type": "code",
   "execution_count": 89,
   "metadata": {},
   "outputs": [
    {
     "data": {
      "text/plain": [
       "12"
      ]
     },
     "execution_count": 89,
     "metadata": {},
     "output_type": "execute_result"
    }
   ],
   "source": [
    "nums = [2,7,9,3,1]\n",
    "\n",
    "def rob(nums):\n",
    "    #dp using memoization\n",
    "    memo = {}\n",
    "    index = None\n",
    "    return rob_memo(nums,memo,index)\n",
    "\n",
    "def rob_memo(nums,memo,index):\n",
    "    #base condition\n",
    "    if index is None:\n",
    "        index = len(nums)-1\n",
    "    if index<0:\n",
    "        return 0\n",
    "    if index in memo:\n",
    "        return memo[index]\n",
    "    memo[index] = max(\n",
    "        nums[index]+rob_memo(nums,memo,index-2),rob_memo(nums,memo,index-1)\n",
    "    ) \n",
    "    return memo[index]\n",
    "\n",
    "rob(nums)"
   ]
  },
  {
   "cell_type": "code",
   "execution_count": 113,
   "metadata": {},
   "outputs": [
    {
     "name": "stdout",
     "output_type": "stream",
     "text": [
      "[2, 2, 3, 0]\n",
      "[2, 2, 3, 4]\n"
     ]
    },
    {
     "data": {
      "text/plain": [
       "4"
      ]
     },
     "execution_count": 113,
     "metadata": {},
     "output_type": "execute_result"
    }
   ],
   "source": [
    "#using tabular\n",
    "nums = [2,1,1,2]\n",
    "def rob_tab(nums):\n",
    "    if len(nums)<0:\n",
    "        return 0\n",
    "    dp = [0]*(len(nums))\n",
    "    dp[0] = nums[0]\n",
    "    dp[1] = max(nums[0], nums[1])\n",
    "    for i in range(2,len(nums)):\n",
    "        dp[i] = max(nums[i]+dp[i-2], dp[i-1])\n",
    "        print(dp)\n",
    "    return dp[-1]\n",
    "\n",
    "\n",
    "\n",
    "rob_tab(nums)\n",
    "\n"
   ]
  },
  {
   "cell_type": "code",
   "execution_count": 121,
   "metadata": {},
   "outputs": [
    {
     "data": {
      "text/plain": [
       "4"
      ]
     },
     "execution_count": 121,
     "metadata": {},
     "output_type": "execute_result"
    }
   ],
   "source": [
    "#array solution\n",
    "nums = [2,1,1,2]\n",
    "def rob_arr(nums):\n",
    "    if not nums:\n",
    "        return 0\n",
    "    if len(nums)==1:\n",
    "        return nums[0]\n",
    "    \n",
    "    prev2 = 0\n",
    "    prev1 = 0\n",
    "    for num in nums:\n",
    "        curr = max(prev2+num, prev1)\n",
    "        prev2 = prev1\n",
    "        prev1 = curr\n",
    "    return prev1\n",
    "\n",
    "rob_arr(nums)\n",
    "\n",
    "\n"
   ]
  }
 ],
 "metadata": {
  "kernelspec": {
   "display_name": "venv",
   "language": "python",
   "name": "python3"
  },
  "language_info": {
   "codemirror_mode": {
    "name": "ipython",
    "version": 3
   },
   "file_extension": ".py",
   "mimetype": "text/x-python",
   "name": "python",
   "nbconvert_exporter": "python",
   "pygments_lexer": "ipython3",
   "version": "3.10.0"
  }
 },
 "nbformat": 4,
 "nbformat_minor": 2
}
