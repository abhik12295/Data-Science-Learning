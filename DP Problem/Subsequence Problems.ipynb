{
 "cells": [
  {
   "cell_type": "code",
   "execution_count": 44,
   "id": "4d28e2b2",
   "metadata": {},
   "outputs": [
    {
     "name": "stdout",
     "output_type": "stream",
     "text": [
      "0 0\n",
      "match: a a\n",
      "1 1\n",
      "not match c h\n",
      "1 2\n",
      "not match c b\n",
      "1 3\n",
      "not match c g\n",
      "1 4\n",
      "not match c d\n",
      "1 5\n",
      "match: c c\n"
     ]
    },
    {
     "data": {
      "text/plain": [
       "False"
      ]
     },
     "execution_count": 44,
     "metadata": {},
     "output_type": "execute_result"
    }
   ],
   "source": [
    "'''\n",
    "Is Subsequence\n",
    "A subsequence of a string is a new string that is formed from the original string \n",
    "by deleting some (can be none) of the characters without disturbing the relative positions \n",
    "of the remaining characters. \n",
    "(i.e., \"ace\" is a subsequence of \"abcde\" while \"aec\" is not).\n",
    "'''\n",
    "s='acb'\n",
    "t='ahbgdc'\n",
    "def isSubSequence(s,t):\n",
    "    \n",
    "    i=0\n",
    "    j=0\n",
    "    while i<=len(s)-1 and j<=len(t)-1:\n",
    "        print(i,j)\n",
    "        if s[i]==t[j]:\n",
    "            print('match:',s[i],t[j])\n",
    "            i+=1\n",
    "            j+=1\n",
    "            \n",
    "        elif s[i]!=t[j]:\n",
    "            print('not match',s[i],t[j])\n",
    "            j+=1\n",
    "           \n",
    "    return i==len(s)\n",
    "\n",
    "isSubSequence(s,t)\n",
    "\n"
   ]
  }
 ],
 "metadata": {
  "kernelspec": {
   "display_name": "venv",
   "language": "python",
   "name": "python3"
  },
  "language_info": {
   "codemirror_mode": {
    "name": "ipython",
    "version": 3
   },
   "file_extension": ".py",
   "mimetype": "text/x-python",
   "name": "python",
   "nbconvert_exporter": "python",
   "pygments_lexer": "ipython3",
   "version": "3.10.0"
  }
 },
 "nbformat": 4,
 "nbformat_minor": 5
}
