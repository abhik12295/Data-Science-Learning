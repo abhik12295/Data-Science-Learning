{
 "cells": [
  {
   "cell_type": "code",
   "execution_count": 2,
   "metadata": {},
   "outputs": [],
   "source": [
    "import os"
   ]
  },
  {
   "cell_type": "code",
   "execution_count": 3,
   "metadata": {},
   "outputs": [
    {
     "name": "stdout",
     "output_type": "stream",
     "text": [
      "Directory:'package' created\n"
     ]
    }
   ],
   "source": [
    "new_dir = \"package\"\n",
    "os.mkdir(new_dir)\n",
    "print(f\"Directory:'{new_dir}' created\")"
   ]
  },
  {
   "cell_type": "code",
   "execution_count": 4,
   "metadata": {},
   "outputs": [
    {
     "data": {
      "text/plain": [
       "['example.txt',\n",
       " 'file_operation.ipynb',\n",
       " 'package',\n",
       " 'working_with_file_paths.ipynb']"
      ]
     },
     "execution_count": 4,
     "metadata": {},
     "output_type": "execute_result"
    }
   ],
   "source": [
    "#listing all the fiiles and director\n",
    "list = os.listdir('.')\n",
    "list"
   ]
  },
  {
   "cell_type": "code",
   "execution_count": 7,
   "metadata": {},
   "outputs": [
    {
     "data": {
      "text/plain": [
       "'folder\\\\file.txt'"
      ]
     },
     "execution_count": 7,
     "metadata": {},
     "output_type": "execute_result"
    }
   ],
   "source": [
    "# join the paths\n",
    "dir_name = 'folder'\n",
    "file_name = \"file.txt\"\n",
    "full_path = os.path.join(dir_name, file_name)\n",
    "full_path"
   ]
  },
  {
   "cell_type": "code",
   "execution_count": null,
   "metadata": {},
   "outputs": [
    {
     "data": {
      "text/plain": [
       "'c:\\\\Users\\\\stuar\\\\Desktop\\\\Data Science Learning\\\\File Handling\\\\folder\\\\file.txt'"
      ]
     },
     "execution_count": 8,
     "metadata": {},
     "output_type": "execute_result"
    }
   ],
   "source": [
    "#entire path\n",
    "# join the paths\n",
    "dir_name = 'folder'\n",
    "file_name = \"file.txt\"\n",
    "full_path = os.path.join(os.getcwd(),dir_name, file_name)\n",
    "full_path"
   ]
  },
  {
   "cell_type": "code",
   "execution_count": 10,
   "metadata": {},
   "outputs": [
    {
     "name": "stdout",
     "output_type": "stream",
     "text": [
      "path exists\n"
     ]
    }
   ],
   "source": [
    "# checking file exists\n",
    "path = 'example.txt'\n",
    "if not os.path.exists(path):\n",
    "    print(\"path does not exist\")\n",
    "else:\n",
    "    print(\"path exists\")"
   ]
  },
  {
   "cell_type": "code",
   "execution_count": 11,
   "metadata": {},
   "outputs": [
    {
     "name": "stdout",
     "output_type": "stream",
     "text": [
      "path is file\n"
     ]
    }
   ],
   "source": [
    "# check if path is a file or directory\n",
    "import os\n",
    "path = 'example.txt'\n",
    "if os.path.isfile(path):\n",
    "    print(\"path is file\")\n",
    "elif os.path.isdir(path):\n",
    "    print(\"path is dir\")\n",
    "else:\n",
    "    print(\"path is neither of it\")"
   ]
  },
  {
   "cell_type": "code",
   "execution_count": 12,
   "metadata": {},
   "outputs": [
    {
     "name": "stdout",
     "output_type": "stream",
     "text": [
      "c:\\Users\\stuar\\Desktop\\Data Science Learning\\File Handling\\example.txt\n"
     ]
    }
   ],
   "source": [
    "#gettign absolute path\n",
    "\n",
    "relative_path = 'example.txt'\n",
    "absolute_path = os.path.abspath(relative_path)\n",
    "print(absolute_path) "
   ]
  }
 ],
 "metadata": {
  "kernelspec": {
   "display_name": "venv",
   "language": "python",
   "name": "python3"
  },
  "language_info": {
   "codemirror_mode": {
    "name": "ipython",
    "version": 3
   },
   "file_extension": ".py",
   "mimetype": "text/x-python",
   "name": "python",
   "nbconvert_exporter": "python",
   "pygments_lexer": "ipython3",
   "version": "3.10.0"
  }
 },
 "nbformat": 4,
 "nbformat_minor": 2
}
