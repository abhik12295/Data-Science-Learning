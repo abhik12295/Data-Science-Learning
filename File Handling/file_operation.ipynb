{
 "cells": [
  {
   "cell_type": "code",
   "execution_count": null,
   "metadata": {},
   "outputs": [],
   "source": [
    "'''\n",
    "File ops with text files and binary files\n",
    "'''"
   ]
  },
  {
   "cell_type": "code",
   "execution_count": 4,
   "metadata": {},
   "outputs": [
    {
     "name": "stdout",
     "output_type": "stream",
     "text": [
      "Hi Cool Guy\n",
      "\n"
     ]
    }
   ],
   "source": [
    "# read whole file\n",
    "with open('example.txt', 'r') as file:\n",
    "    content = file.read()\n",
    "    print(content)\n"
   ]
  },
  {
   "cell_type": "code",
   "execution_count": 28,
   "metadata": {},
   "outputs": [
    {
     "name": "stdout",
     "output_type": "stream",
     "text": [
      "OverWriting the new line!\n"
     ]
    }
   ],
   "source": [
    "# Read file line by by\n",
    "with open('example.txt', 'r') as file:\n",
    "    for line in file:\n",
    "        print(line)\n",
    "        "
   ]
  },
  {
   "cell_type": "code",
   "execution_count": 24,
   "metadata": {},
   "outputs": [
    {
     "name": "stdout",
     "output_type": "stream",
     "text": [
      "H\n",
      "i\n",
      " \n",
      "C\n",
      "o\n",
      "o\n",
      "l\n",
      " \n",
      "G\n",
      "u\n",
      "y\n",
      "\n",
      "\n"
     ]
    }
   ],
   "source": [
    "# Read char by char\n",
    "with open('example.txt','r') as file:\n",
    "    for char in file.read():\n",
    "        print(char)"
   ]
  },
  {
   "cell_type": "code",
   "execution_count": 27,
   "metadata": {},
   "outputs": [],
   "source": [
    "# Writing a file (Overwriting)\n",
    "with open(('example.txt'), 'w') as file:\n",
    "    file.write(\"OverWriting the new line!\")"
   ]
  },
  {
   "cell_type": "code",
   "execution_count": 35,
   "metadata": {},
   "outputs": [],
   "source": [
    "# Writing w/o overwriting (Appending)\n",
    "with open('example.txt', mode='a') as file:\n",
    "    file.write(\"Appending the new line\")\n"
   ]
  },
  {
   "cell_type": "code",
   "execution_count": 37,
   "metadata": {},
   "outputs": [
    {
     "name": "stdout",
     "output_type": "stream",
     "text": [
      "\n",
      " OverWriting the new line!Appending the new lineAppending the new lineAppending the new lineAppending the new lineAppending the new lineAppending the new lineAppending the new line\n"
     ]
    }
   ],
   "source": [
    "with open('example.txt', 'r') as file:\n",
    "    for line in file:\n",
    "        print('\\n',line)"
   ]
  },
  {
   "cell_type": "code",
   "execution_count": 40,
   "metadata": {},
   "outputs": [
    {
     "data": {
      "text/plain": [
       "(('line_count', 26), ('word_counts', 22), ('char_counts', 26))"
      ]
     },
     "execution_count": 40,
     "metadata": {},
     "output_type": "execute_result"
    }
   ],
   "source": [
    "'''\n",
    "Read a text file - > count the no of lnes, words, charachter\n",
    "'''\n",
    "def count(file_path):\n",
    "    with open(file_path, 'r') as file:\n",
    "        #lines\n",
    "        lines = file.readline()\n",
    "        #line counts\n",
    "        line_count = len(lines)\n",
    "        #word counts\n",
    "        word_counts = sum(len(line.split()) for line in lines)\n",
    "        #char counts\n",
    "        char_counts = sum(len(char) for char in lines)\n",
    "    return ('line_count',line_count), ('word_counts',word_counts), ('char_counts',char_counts)\n",
    "\n",
    "file_path = 'example.txt'\n",
    "count(file_path)"
   ]
  },
  {
   "cell_type": "code",
   "execution_count": null,
   "metadata": {},
   "outputs": [
    {
     "name": "stdout",
     "output_type": "stream",
     "text": [
      "Check it out\n",
      "Check next line\n",
      "\n"
     ]
    }
   ],
   "source": [
    "# Writing and reading the file\n",
    "# open a file for both read and write, and truncates the file to 0 length if it already exists,\n",
    "# or create the new one if it doesn't exist\n",
    "# file pointer is placed at the beginning\n",
    "\n",
    "with open('example.txt', 'w+') as file:\n",
    "    file.write(\"Check it out\\n\")\n",
    "    file.write(\"Check next line\\n\")\n",
    "    #move file pointer back to the beginning\n",
    "    file.seek(0)\n",
    "    #read the conten\n",
    "    content = file.read()\n",
    "    print(content)\n",
    "    "
   ]
  }
 ],
 "metadata": {
  "kernelspec": {
   "display_name": "venv",
   "language": "python",
   "name": "python3"
  },
  "language_info": {
   "codemirror_mode": {
    "name": "ipython",
    "version": 3
   },
   "file_extension": ".py",
   "mimetype": "text/x-python",
   "name": "python",
   "nbconvert_exporter": "python",
   "pygments_lexer": "ipython3",
   "version": "3.10.0"
  }
 },
 "nbformat": 4,
 "nbformat_minor": 2
}
