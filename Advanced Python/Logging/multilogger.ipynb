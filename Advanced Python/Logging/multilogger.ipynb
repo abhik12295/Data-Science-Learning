{
 "cells": [
  {
   "cell_type": "code",
   "execution_count": null,
   "id": "4e5fa651",
   "metadata": {},
   "outputs": [],
   "source": [
    "'''\n",
    "Logging with Multiple Loggers\n",
    "-> Create multiple loggers for different parts of your application\n",
    "'''"
   ]
  },
  {
   "cell_type": "code",
   "execution_count": 3,
   "id": "4b378410",
   "metadata": {},
   "outputs": [],
   "source": [
    "import logging\n",
    "\n",
    "# create a logger for module1\n",
    "logger1 = logging.getLogger(\"module1\")\n",
    "logger1.setLevel(logging.DEBUG)\n",
    "# create a logger for module2\n",
    "logger2 = logging.getLogger(\"module2\")\n",
    "logger2.setLevel(logging.WARNING)\n",
    "\n",
    "# Configure logging settings\n",
    "logging.basicConfig(\n",
    "        level = logging.DEBUG,\n",
    "        format='%(asctime)s-%(name)s-%(levelname)s-%(message)s',\n",
    "        datefmt = '%Y-%m-%d %H:%M:%S'\n",
    ")\n"
   ]
  },
  {
   "cell_type": "code",
   "execution_count": 4,
   "id": "e7b38ee1",
   "metadata": {},
   "outputs": [
    {
     "name": "stderr",
     "output_type": "stream",
     "text": [
      "2025-04-18 20:07:48-module1-DEBUG-This is debug message for moduule1\n",
      "2025-04-18 20:07:48-module2-WARNING-This is a warning message for module2\n",
      "2025-04-18 20:07:48-module2-ERROR-This is an error message\n"
     ]
    }
   ],
   "source": [
    "#log message with different loggers\n",
    "logger1.debug(\"This is debug message for moduule1\")\n",
    "logger2.warning(\"This is a warning message for module2\")\n",
    "logger2.error(\"This is an error message\")"
   ]
  }
 ],
 "metadata": {
  "kernelspec": {
   "display_name": "venv",
   "language": "python",
   "name": "python3"
  },
  "language_info": {
   "codemirror_mode": {
    "name": "ipython",
    "version": 3
   },
   "file_extension": ".py",
   "mimetype": "text/x-python",
   "name": "python",
   "nbconvert_exporter": "python",
   "pygments_lexer": "ipython3",
   "version": "3.10.0"
  }
 },
 "nbformat": 4,
 "nbformat_minor": 5
}
