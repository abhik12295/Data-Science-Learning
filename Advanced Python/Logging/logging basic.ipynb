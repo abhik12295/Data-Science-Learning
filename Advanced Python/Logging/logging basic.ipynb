{
 "cells": [
  {
   "cell_type": "code",
   "execution_count": null,
   "id": "681abb9b",
   "metadata": {},
   "outputs": [],
   "source": [
    "'''\n",
    "Python Logging\n",
    "-> track events,errors,and operational information\n",
    "'''"
   ]
  },
  {
   "cell_type": "code",
   "execution_count": null,
   "id": "a932c880",
   "metadata": {},
   "outputs": [],
   "source": [
    "import logging\n",
    "\n",
    "# Configure basic logging setting\n",
    "logging.basicConfig(level=logging.DEBUG)\n",
    "\n",
    "#log message\n",
    "logging.debug('This is a debug message')\n",
    "logging.info(\"This is a info message\")\n",
    "logging.warning(\"This is warning message\")\n",
    "logging.error(\"This is a error message\")\n",
    "logging.critical(\"This is critical message\")"
   ]
  },
  {
   "cell_type": "code",
   "execution_count": null,
   "id": "afe1af9b",
   "metadata": {},
   "outputs": [],
   "source": [
    "'''\n",
    "Defaults level:\n",
    "    Debug: detailed info, diagnose problems\n",
    "    Info: confirmation that things are working as expected\n",
    "    Warning: indication that something unexpected happened or indicative of issue in future(eg: disk space low)\n",
    "    error: serious problem, software not able to persist\n",
    "    critical: very serious error, program itself maybe unable to continue running\n",
    "'''"
   ]
  },
  {
   "cell_type": "code",
   "execution_count": null,
   "id": "0239de8d",
   "metadata": {},
   "outputs": [],
   "source": [
    "# configuring logging\n",
    "logging.basicConfig(\n",
    "    filename='app.log',\n",
    "    filemode='w',\n",
    "    level=logging.DEBUG,\n",
    "    format='%(asctime)s-%(name)s-%(levelname)s-%(message)s',\n",
    "    datefmt='%Y-%m-%d %H:%M:%S',\n",
    "    force=True\n",
    "\n",
    ")\n",
    "logging.debug('This is a debug message')\n",
    "logging.info(\"This is a info message\")\n",
    "logging.warning(\"This is warning message\")\n",
    "logging.error(\"This is a error message\")\n",
    "logging.critical(\"This is critical message\")"
   ]
  },
  {
   "cell_type": "code",
   "execution_count": 3,
   "id": "97c34465",
   "metadata": {},
   "outputs": [
    {
     "data": {
      "text/plain": [
       "10"
      ]
     },
     "execution_count": 3,
     "metadata": {},
     "output_type": "execute_result"
    }
   ],
   "source": [
    "s = 10\n",
    "s"
   ]
  }
 ],
 "metadata": {
  "kernelspec": {
   "display_name": "venv",
   "language": "python",
   "name": "python3"
  },
  "language_info": {
   "codemirror_mode": {
    "name": "ipython",
    "version": 3
   },
   "file_extension": ".py",
   "mimetype": "text/x-python",
   "name": "python",
   "nbconvert_exporter": "python",
   "pygments_lexer": "ipython3",
   "version": "3.10.0"
  }
 },
 "nbformat": 4,
 "nbformat_minor": 5
}
