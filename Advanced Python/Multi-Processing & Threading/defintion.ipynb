{
 "cells": [
  {
   "cell_type": "code",
   "execution_count": null,
   "id": "563b1041",
   "metadata": {},
   "outputs": [],
   "source": [
    "'''\n",
    "Program:\n",
    "    -> program is sequence of instruction stored in a file\n",
    "Process\n",
    "    -> instance of program in execution\n",
    "    -> each process has its own memory process, file descriptors, and more\n",
    "    -> processes are independent and do not share memory (so one process can't corrupt other)\n",
    "\n",
    "    ----------------------------------\n",
    "    Code Segment | Data Segment | Heap\n",
    "    -----------------------------------\n",
    "    Stack           |       Registers\n",
    "    -----------------------------------\n",
    "                { (Thread)\n",
    "    -----------------------------------\n",
    "->Think of a program like a recipe and the process as the act of cooking.\n",
    "\n",
    "Threads\n",
    "    -> smallest unit of process (has its own stack and registers)\n",
    "    -> share the same memory spaces within a process (code segment, data segment, heap)\n",
    "    -> multiple threads in a process can run concurrently\n",
    "-> One process can have multiple threads doing different tasks in parallel\n",
    "\n",
    "Multiple Threads:\n",
    "Eg: MS Paint -> Proecss -> \n",
    "    ----------------------------------\n",
    "    Code Segment | Data Segment | Heap\n",
    "    -----------------------------------\n",
    "    Stack|Registers |Stack|Registers\n",
    "    -----------------------------------\n",
    "            { T1     |        { T2\n",
    "    -----------------------------------\n",
    "'''"
   ]
  }
 ],
 "metadata": {
  "language_info": {
   "name": "python"
  }
 },
 "nbformat": 4,
 "nbformat_minor": 5
}
