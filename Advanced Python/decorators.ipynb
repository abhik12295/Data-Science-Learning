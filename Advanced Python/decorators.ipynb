{
 "cells": [
  {
   "cell_type": "code",
   "execution_count": null,
   "id": "d83ec7bd",
   "metadata": {},
   "outputs": [],
   "source": [
    "'''\n",
    "Decorators:\n",
    "\n",
    "-> powerful and flexible feature in Python that allows to modify the behavior of a function or class method\n",
    "-> used to add functionality to functions or methods without modifying their actual code.\n",
    "\n",
    "'''"
   ]
  },
  {
   "cell_type": "code",
   "execution_count": null,
   "id": "c6cc520e",
   "metadata": {},
   "outputs": [],
   "source": [
    "'''\n",
    "function copy\n",
    "closures\n",
    "decorators\n",
    "'''"
   ]
  },
  {
   "cell_type": "code",
   "execution_count": null,
   "id": "38617e51",
   "metadata": {},
   "outputs": [
    {
     "data": {
      "text/plain": [
       "'Welcome to the advance python course'"
      ]
     },
     "execution_count": 1,
     "metadata": {},
     "output_type": "execute_result"
    }
   ],
   "source": [
    "# function copy\n",
    "# creating a function means creating a new ref (or sometimes a new func obect) to an existing function\n",
    "def welcome():\n",
    "    return \"Welcome to the advance python course\"\n",
    "\n",
    "welcome()"
   ]
  },
  {
   "cell_type": "code",
   "execution_count": null,
   "id": "30322cfe",
   "metadata": {},
   "outputs": [
    {
     "data": {
      "text/plain": [
       "'Welcome to the advance python course'"
      ]
     },
     "execution_count": 3,
     "metadata": {},
     "output_type": "execute_result"
    }
   ],
   "source": [
    "#ref wel -> becomes function\n",
    "wel = welcome\n",
    "wel()"
   ]
  },
  {
   "cell_type": "code",
   "execution_count": 4,
   "id": "f98d998a",
   "metadata": {},
   "outputs": [
    {
     "data": {
      "text/plain": [
       "'Welcome to the advance python course'"
      ]
     },
     "execution_count": 4,
     "metadata": {},
     "output_type": "execute_result"
    }
   ],
   "source": [
    "del welcome\n",
    "wel()"
   ]
  },
  {
   "cell_type": "code",
   "execution_count": null,
   "id": "1ac66095",
   "metadata": {},
   "outputs": [
    {
     "name": "stdout",
     "output_type": "stream",
     "text": [
      "8\n"
     ]
    }
   ],
   "source": [
    "'''\n",
    "closure:\n",
    "it is a function object that remembers values from its enclosing lexical scope even if the program moves\n",
    "out of that scope\n",
    "'''\n",
    "\n",
    "def outer(x):\n",
    "    def inner(y):\n",
    "        return x+y\n",
    "    return inner\n",
    "\n",
    "add5 = outer(5)\n",
    "print(add5(3))  \n",
    "# here inner() closes over the variable x from outer()"
   ]
  },
  {
   "cell_type": "code",
   "execution_count": 8,
   "id": "c423f248",
   "metadata": {},
   "outputs": [],
   "source": [
    "# Decorators\n",
    "'''\n",
    "function that takes another function as input and adds extra functionality\n",
    "to it without modifying its source code\n",
    "\n",
    "Use Case: Logging, Access Control, Caching, Timing function execution\n",
    "'''\n",
    "def my_decorator(func):\n",
    "    print(\"call wrapper\")\n",
    "    def wrapper():\n",
    "        print(\"Before functionc call\")\n",
    "        func()\n",
    "        print(\"After function call\")\n",
    "    return wrapper"
   ]
  },
  {
   "cell_type": "code",
   "execution_count": null,
   "id": "ceb1c4cd",
   "metadata": {},
   "outputs": [
    {
     "name": "stdout",
     "output_type": "stream",
     "text": [
      "call wrapper\n",
      "Before functionc call\n",
      "Hello!\n",
      "After function call\n"
     ]
    }
   ],
   "source": [
    "#func = sa_hello\n",
    "@my_decorator\n",
    "def say_hello():\n",
    "    print(\"Hello!\")\n",
    "\n",
    "say_hello()"
   ]
  },
  {
   "cell_type": "code",
   "execution_count": null,
   "id": "758fdf08",
   "metadata": {},
   "outputs": [],
   "source": [
    "def my_decorator(func):\n",
    "    def wrapper():\n",
    "        print(\"before\")\n",
    "        func()\n",
    "        print(\"after\")\n",
    "    return wrapper"
   ]
  },
  {
   "cell_type": "code",
   "execution_count": 12,
   "id": "aa38176c",
   "metadata": {},
   "outputs": [
    {
     "name": "stdout",
     "output_type": "stream",
     "text": [
      "before\n",
      "hello!\n",
      "after\n"
     ]
    }
   ],
   "source": [
    "@my_decorator\n",
    "def say_hello():\n",
    "    print(\"hello!\")\n",
    "say_hello()"
   ]
  },
  {
   "cell_type": "code",
   "execution_count": 14,
   "id": "bc7ae983",
   "metadata": {},
   "outputs": [],
   "source": [
    "# decorator with arguments\n",
    "def repeat(n):\n",
    "    def decorator(func):\n",
    "        def wrapper(*args, **kwargs):\n",
    "            for _ in range(n):\n",
    "                func(*args, **kwargs)\n",
    "        return wrapper\n",
    "    return decorator\n",
    "\n",
    "@repeat(3)\n",
    "def say_hello():\n",
    "    print(\"Hello\")"
   ]
  },
  {
   "cell_type": "code",
   "execution_count": 15,
   "id": "24ace386",
   "metadata": {},
   "outputs": [
    {
     "name": "stdout",
     "output_type": "stream",
     "text": [
      "Hello\n",
      "Hello\n",
      "Hello\n"
     ]
    }
   ],
   "source": [
    "say_hello()"
   ]
  },
  {
   "cell_type": "code",
   "execution_count": null,
   "id": "b89370b3",
   "metadata": {},
   "outputs": [
    {
     "name": "stdout",
     "output_type": "stream",
     "text": [
      "Dashboard acessed by admin\n",
      "Access denied for role: guest\n"
     ]
    }
   ],
   "source": [
    "# decorator that accepts multiple arguments\n",
    "def require_role(*role):\n",
    "    def decorator(func):\n",
    "        def wrapper(user_role, *args, **kwargs):\n",
    "            if user_role in role:\n",
    "                return func(user_role,*args,**kwargs)\n",
    "            else:\n",
    "                print(f\"Access denied for role: {user_role}\")\n",
    "        return wrapper\n",
    "    return decorator\n",
    "\n",
    "@require_role(\"admin\",\"manager\")\n",
    "def access_dashboard(role):\n",
    "    print(f\"Dashboard acessed by {role}\")\n",
    "\n",
    "\n",
    "access_dashboard(\"admin\")\n",
    "access_dashboard(\"guest\")\n"
   ]
  }
 ],
 "metadata": {
  "kernelspec": {
   "display_name": "venv",
   "language": "python",
   "name": "python3"
  },
  "language_info": {
   "codemirror_mode": {
    "name": "ipython",
    "version": 3
   },
   "file_extension": ".py",
   "mimetype": "text/x-python",
   "name": "python",
   "nbconvert_exporter": "python",
   "pygments_lexer": "ipython3",
   "version": "3.10.0"
  }
 },
 "nbformat": 4,
 "nbformat_minor": 5
}
