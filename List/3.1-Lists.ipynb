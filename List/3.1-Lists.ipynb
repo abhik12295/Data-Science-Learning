{
 "cells": [
  {
   "cell_type": "code",
   "execution_count": 5,
   "metadata": {},
   "outputs": [
    {
     "name": "stdout",
     "output_type": "stream",
     "text": [
      "3\n",
      "['kumar', 1, 2]\n"
     ]
    }
   ],
   "source": [
    "#remove()\n",
    "lst = ['abhi', 'kumar', 1, 2 ,3]\n",
    "lst.remove('abhi')\n",
    "print(lst.pop())\n",
    "print(lst)"
   ]
  },
  {
   "cell_type": "code",
   "execution_count": 10,
   "metadata": {},
   "outputs": [
    {
     "name": "stdout",
     "output_type": "stream",
     "text": [
      "element 1: index 0\n",
      "element 2: index 1\n",
      "element 3: index 2\n",
      "element 4: index 3\n",
      "element 5: index 4\n",
      "element 6: index 5\n",
      "element 7: index 6\n",
      "element 8: index 7\n"
     ]
    }
   ],
   "source": [
    "#iterate along with index - enumerate\n",
    "lst = [1,2,3,4,5,6,7,8]\n",
    "for i,e in enumerate(lst):\n",
    "    print(f'element {e}: index {i}')"
   ]
  },
  {
   "cell_type": "code",
   "execution_count": 14,
   "metadata": {},
   "outputs": [
    {
     "name": "stdout",
     "output_type": "stream",
     "text": [
      "[0, 1, 4, 9, 16, 25, 36, 49, 64, 81]\n",
      "[0, 2, 4, 6, 8]\n"
     ]
    }
   ],
   "source": [
    "#list comprehension:\n",
    "#syntax = [expression for item in iteration if condition]\n",
    "result = [x**2 for x in range(10)]\n",
    "print(result)\n",
    "even_no = [i for i in range(10) if i%2==0]\n",
    "print(even_no)\n"
   ]
  },
  {
   "cell_type": "code",
   "execution_count": 15,
   "metadata": {},
   "outputs": [
    {
     "data": {
      "text/plain": [
       "[[1, 'a'],\n",
       " [1, 'b'],\n",
       " [1, 'c'],\n",
       " [1, 'd'],\n",
       " [2, 'a'],\n",
       " [2, 'b'],\n",
       " [2, 'c'],\n",
       " [2, 'd'],\n",
       " [3, 'a'],\n",
       " [3, 'b'],\n",
       " [3, 'c'],\n",
       " [3, 'd']]"
      ]
     },
     "execution_count": 15,
     "metadata": {},
     "output_type": "execute_result"
    }
   ],
   "source": [
    "# Nested list comprehension\n",
    "l1 = [1,2,3]\n",
    "l2 = ['a','b','c','d']\n",
    "pair = [[i,j] for i in l1 for j in l2]\n",
    "pair"
   ]
  },
  {
   "cell_type": "code",
   "execution_count": null,
   "metadata": {},
   "outputs": [],
   "source": []
  }
 ],
 "metadata": {
  "kernelspec": {
   "display_name": "venv",
   "language": "python",
   "name": "python3"
  },
  "language_info": {
   "codemirror_mode": {
    "name": "ipython",
    "version": 3
   },
   "file_extension": ".py",
   "mimetype": "text/x-python",
   "name": "python",
   "nbconvert_exporter": "python",
   "pygments_lexer": "ipython3",
   "version": "3.10.0"
  }
 },
 "nbformat": 4,
 "nbformat_minor": 2
}
