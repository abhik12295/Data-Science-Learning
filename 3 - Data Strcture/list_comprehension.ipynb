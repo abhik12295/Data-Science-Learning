{
 "cells": [
  {
   "cell_type": "code",
   "execution_count": null,
   "metadata": {},
   "outputs": [
    {
     "name": "stdout",
     "output_type": "stream",
     "text": [
      "[[0, 1, 2], [0, 1, 2], [0, 1, 2]]\n"
     ]
    }
   ],
   "source": [
    "\n",
    "#Without list comprehension \n",
    "#Nested list or matrix\n",
    "\n",
    "matrix = []\n",
    "for i in range(3):\n",
    "    #rows - create empty sublist \n",
    "    matrix.append([])\n",
    "    #column elements - fill those sublist\n",
    "    for j in range(3):\n",
    "        matrix[i].append(j)\n",
    "print(matrix)\n",
    "\n"
   ]
  },
  {
   "cell_type": "code",
   "execution_count": 4,
   "metadata": {},
   "outputs": [
    {
     "name": "stdout",
     "output_type": "stream",
     "text": [
      "[[0, 1, 2], [0, 1, 2], [0, 1, 2]]\n"
     ]
    }
   ],
   "source": [
    "#With list comprehension \n",
    "#Nested list or matrix\n",
    "matrix = [[j for j in range(3)] for i in range(3)]\n",
    "print(matrix)"
   ]
  },
  {
   "cell_type": "code",
   "execution_count": 6,
   "metadata": {},
   "outputs": [
    {
     "name": "stdout",
     "output_type": "stream",
     "text": [
      "[1, 1, 1]\n"
     ]
    }
   ],
   "source": [
    "#Traverse 2D matrix\n",
    "#without list comprehension\n",
    "odd_numbers = []\n",
    "for row in matrix:\n",
    "    for e in row:\n",
    "        if e%2!=0:\n",
    "            odd_numbers.append(e)\n",
    "print(odd_numbers)"
   ]
  },
  {
   "cell_type": "code",
   "execution_count": 12,
   "metadata": {},
   "outputs": [
    {
     "name": "stdout",
     "output_type": "stream",
     "text": [
      "[1, 1, 1]\n"
     ]
    }
   ],
   "source": [
    "#Traverse 2D matrix\n",
    "#with list comprehension\n",
    "odd_number = [e for row in matrix for e in row if e%2!=0]\n",
    "print(odd_number)"
   ]
  },
  {
   "cell_type": "code",
   "execution_count": 9,
   "metadata": {},
   "outputs": [
    {
     "data": {
      "text/plain": [
       "[0, 1, 2, 0, 1, 2, 0, 1, 2]"
      ]
     },
     "execution_count": 9,
     "metadata": {},
     "output_type": "execute_result"
    }
   ],
   "source": [
    "#Flattening nested list\n",
    "#without list comprehension\n",
    "flatten_matrix = []\n",
    "for sublist in matrix:\n",
    "    for e in sublist:\n",
    "        flatten_matrix.append(e)\n",
    "flatten_matrix"
   ]
  },
  {
   "cell_type": "code",
   "execution_count": 11,
   "metadata": {},
   "outputs": [
    {
     "data": {
      "text/plain": [
       "[0, 1, 2, 0, 1, 2, 0, 1, 2]"
      ]
     },
     "execution_count": 11,
     "metadata": {},
     "output_type": "execute_result"
    }
   ],
   "source": [
    "#Flattening nested list\n",
    "#with list comprehension\n",
    "flatten_matrix = [e for sublist in matrix for e in sublist ]\n",
    "flatten_matrix"
   ]
  },
  {
   "cell_type": "code",
   "execution_count": 25,
   "metadata": {},
   "outputs": [
    {
     "data": {
      "text/plain": [
       "[1, 2]"
      ]
     },
     "execution_count": 25,
     "metadata": {},
     "output_type": "execute_result"
    }
   ],
   "source": [
    "#2 sum\n",
    "'''\n",
    "Given an array of integers nums and an integer target, return indices of the two numbers such that they add up to target.\n",
    "You may assume that each input would have exactly one solution, and you may not use the same element twice.\n",
    "You can return the answer in any order.\n",
    "Example 1:\n",
    "Input: nums = [2,7,11,15], target = 9\n",
    "Output: [0,1]\n",
    "Explanation: Because nums[0] + nums[1] == 9, we return [0, 1].\n",
    "\n",
    "Example 2:\n",
    "Input: nums = [3,2,4], target = 6\n",
    "Output: [1,2]\n",
    "s\n",
    "Example 3:\n",
    "\n",
    "Input: nums = [3,3], target = 6\n",
    "Output: [0,1]\n",
    "\n",
    "'''\n",
    "\n",
    "nums = [3,2,4]\n",
    "target = 6\n",
    "\n",
    "def twoSum(nums, target: int):\n",
    "    hash_ = {}\n",
    "    for i in range(len(nums)):\n",
    "        diff = target - nums[i] # 9-2 = 7\n",
    "        if diff in hash_: #7\n",
    "            return [hash_[diff],i] #0,1\n",
    "        hash_[nums[i]] = i\n",
    "    return\n",
    "\n",
    "twoSum(nums, target)\n",
    "\n"
   ]
  },
  {
   "cell_type": "code",
   "execution_count": null,
   "metadata": {},
   "outputs": [
    {
     "name": "stdout",
     "output_type": "stream",
     "text": [
      "8\n"
     ]
    }
   ],
   "source": [
    "# #Given an array nums containing n distinct numbers in the range [0, n], \n",
    "# return the only number in the range that is missing from the array.\n",
    "# Example 1:\n",
    "# Input: nums = [3,0,1]\n",
    "# Output: 2\n",
    "# Explanation:\n",
    "# n = 3 since there are 3 numbers, so all numbers are in the range [0,3]. \n",
    "# 2 is the missing number in the range since it does not appear in nums.\n",
    "\n",
    "# Example 2:\n",
    "# Input: nums = [0,1]\n",
    "# Output: 2\n",
    "# Explanation:\n",
    "# n = 2 since there are 2 numbers, so all numbers are in the range [0,2]. \n",
    "# 2 is the missing number in the range since it does not appear in nums.\n",
    "\n",
    "# Example 3:\n",
    "# Input: nums = [9,6,4,2,3,5,7,0,1]\n",
    "# Output: 8\n",
    "# Explanation:\n",
    "# n = 9 since there are 9 numbers, so all numbers are in the range [0,9]. \n",
    "# 8 is the missing number in the range since it does not appear in nums.\n",
    "\n",
    "nums= [0,1]\n",
    "def missing_number(nums):\n",
    "    n = len(nums)\n",
    "    for i in range(n+1):\n",
    "        if i not in nums:\n",
    "            return i    \n",
    "\n",
    "missing_number(nums)\n",
    "\n",
    "def missing_number(nums):\n",
    "    n = len(nums)\n",
    "    i= 0\n",
    "    while i<=n:\n",
    "        if i not in nums:\n",
    "            print(i)\n",
    "        i+=1"
   ]
  }
 ],
 "metadata": {
  "kernelspec": {
   "display_name": "venv",
   "language": "python",
   "name": "python3"
  },
  "language_info": {
   "codemirror_mode": {
    "name": "ipython",
    "version": 3
   },
   "file_extension": ".py",
   "mimetype": "text/x-python",
   "name": "python",
   "nbconvert_exporter": "python",
   "pygments_lexer": "ipython3",
   "version": "3.10.0"
  }
 },
 "nbformat": 4,
 "nbformat_minor": 2
}
