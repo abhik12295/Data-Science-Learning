{
 "cells": [
  {
   "cell_type": "code",
   "execution_count": null,
   "metadata": {},
   "outputs": [],
   "source": [
    "# Dictionaries\n",
    "'''\n",
    "-> Unordered collections of items\n",
    "-> Key value pairs\n",
    "    -> key = must be unique, immutable (strings, number, tuples)\n",
    "    -> values = any type \n",
    "-> mutable\n",
    "\n",
    "'''"
   ]
  },
  {
   "cell_type": "code",
   "execution_count": 14,
   "metadata": {},
   "outputs": [
    {
     "name": "stdout",
     "output_type": "stream",
     "text": [
      "{'name': 'Krish', 'age': 32, 'grade': 'A'}\n"
     ]
    }
   ],
   "source": [
    "#Error\n",
    "student = {\"name\":\"Krish\", \"age\":32, \"grade\":'A'} #- 2 same keys - name\n",
    "print(student)"
   ]
  },
  {
   "cell_type": "code",
   "execution_count": 15,
   "metadata": {},
   "outputs": [
    {
     "name": "stdout",
     "output_type": "stream",
     "text": [
      "Krish 32 A\n",
      "A\n",
      "32\n",
      "not available\n"
     ]
    }
   ],
   "source": [
    "#Acessing Dictionary Elements\n",
    "print(student['name'], student['age'], student['grade'])\n",
    "#using get() method\n",
    "print(student.get('grade'))\n",
    "print(student.get('age'))\n",
    "print(student.get('number','not available'))"
   ]
  },
  {
   "cell_type": "code",
   "execution_count": 16,
   "metadata": {},
   "outputs": [
    {
     "name": "stdout",
     "output_type": "stream",
     "text": [
      "33\n",
      "India\n",
      "{'name': 'Krish', 'age': 33, 'grade': 'A', 'address': 'India'}\n"
     ]
    }
   ],
   "source": [
    "#\n",
    "student['age'] = 33 #updated\n",
    "print(student.get('age'))\n",
    "student['address'] = \"India\" # added\n",
    "print(student['address'])\n",
    "print(student)\n"
   ]
  },
  {
   "cell_type": "code",
   "execution_count": 17,
   "metadata": {},
   "outputs": [
    {
     "name": "stdout",
     "output_type": "stream",
     "text": [
      "{'name': 'Krish', 'age': 33, 'address': 'India'}\n"
     ]
    }
   ],
   "source": [
    "del student['grade']\n",
    "print(student)"
   ]
  },
  {
   "cell_type": "code",
   "execution_count": 18,
   "metadata": {},
   "outputs": [
    {
     "name": "stdout",
     "output_type": "stream",
     "text": [
      "dict_keys(['name', 'age', 'address'])\n",
      "dict_values(['Krish', 33, 'India'])\n",
      "dict_items([('name', 'Krish'), ('age', 33), ('address', 'India')])\n"
     ]
    }
   ],
   "source": [
    "keys = student.keys()\n",
    "print(keys)\n",
    "values = student.values()\n",
    "print(values)\n",
    "items = student.items()\n",
    "print(items)"
   ]
  },
  {
   "cell_type": "code",
   "execution_count": 19,
   "metadata": {},
   "outputs": [
    {
     "name": "stdout",
     "output_type": "stream",
     "text": [
      "{'name': 'Krish', 'age': 33, 'address': 'India'}\n",
      "{'name': 'Krish', 'age': 33, 'address': 'India'}\n"
     ]
    }
   ],
   "source": [
    "#shallow copy\n",
    "student_copy = student\n",
    "print(student)\n",
    "print(student_copy)"
   ]
  },
  {
   "cell_type": "code",
   "execution_count": null,
   "metadata": {},
   "outputs": [
    {
     "name": "stdout",
     "output_type": "stream",
     "text": [
      "Result of shallow copy:\n",
      "{'name': 'Abhi', 'age': 33, 'address': 'India'}\n",
      "{'name': 'Abhi', 'age': 33, 'address': 'India'}\n"
     ]
    }
   ],
   "source": [
    "\n",
    "student['name']='Abhi'\n",
    "print(f\"Result of copy:\")\n",
    "print(student)\n",
    "print(student_copy)"
   ]
  },
  {
   "cell_type": "code",
   "execution_count": null,
   "metadata": {},
   "outputs": [
    {
     "name": "stdout",
     "output_type": "stream",
     "text": [
      "Student Copy 1 {'name': 'Amit', 'age': 33, 'address': 'India'} \n",
      " Student {'name': 'Abhi', 'age': 33, 'address': 'India'}\n"
     ]
    }
   ],
   "source": [
    "#shallow copy\n",
    "student_copy1 = student.copy()\n",
    "student_copy1['name']= 'Amit'\n",
    "print(\"Student Copy 1\",student_copy1,\"\\n\" ,\"Student\",student)\n"
   ]
  },
  {
   "cell_type": "code",
   "execution_count": 33,
   "metadata": {},
   "outputs": [
    {
     "name": "stdout",
     "output_type": "stream",
     "text": [
      "Keys:\n",
      "name\n",
      "age\n",
      "address\n",
      "Values:\n",
      "Abhi\n",
      "33\n",
      "India\n",
      "Items:\n",
      "name Abhi\n",
      "age 33\n",
      "address India\n"
     ]
    }
   ],
   "source": [
    "#iteration\n",
    "print(\"Keys:\")\n",
    "for key in student.keys():\n",
    "    print(key)\n",
    "\n",
    "print(\"Values:\")\n",
    "for val in student.values():\n",
    "    print(val)\n",
    "\n",
    "print(\"Items:\")\n",
    "for key, values in student.items():\n",
    "    print(key,values)\n"
   ]
  },
  {
   "cell_type": "code",
   "execution_count": 37,
   "metadata": {},
   "outputs": [
    {
     "name": "stdout",
     "output_type": "stream",
     "text": [
      "mahant\n"
     ]
    }
   ],
   "source": [
    "# Nested Dict\n",
    "students = {\n",
    "    \"student1\" :{\"name\":\"mahant\", \"Age\":\"32\"},\n",
    "    \"student2\" :{\"name\":\"kabir\", \"Age\":\"33\"}\n",
    "    }\n",
    "print(students[\"student1\"][\"name\"])\n"
   ]
  },
  {
   "cell_type": "code",
   "execution_count": 42,
   "metadata": {},
   "outputs": [
    {
     "name": "stdout",
     "output_type": "stream",
     "text": [
      "student1\n",
      "name: name & age : mahant\n",
      "name: Age & age : 32\n",
      "student2\n",
      "name: name & age : kabir\n",
      "name: Age & age : 33\n"
     ]
    }
   ],
   "source": [
    "#iteration over nested dict:\n",
    "for student_id, student_info in students.items():\n",
    "    print(student_id)\n",
    "    for name, age in student_info.items():\n",
    "        print(f'name: {name} & age : {age}')"
   ]
  },
  {
   "cell_type": "code",
   "execution_count": 47,
   "metadata": {},
   "outputs": [
    {
     "name": "stdout",
     "output_type": "stream",
     "text": [
      "{0: 0, 1: 1, 2: 4, 3: 9, 4: 16}\n"
     ]
    }
   ],
   "source": [
    "#Dictionary comprehension\n",
    "squares = {x:x**2 for x in range(5)} #--> x = key : x**2 = values\n",
    "print(squares)\n",
    "\n"
   ]
  },
  {
   "cell_type": "code",
   "execution_count": 48,
   "metadata": {},
   "outputs": [
    {
     "data": {
      "text/plain": [
       "{0: 0, 2: 4, 4: 16}"
      ]
     },
     "execution_count": 48,
     "metadata": {},
     "output_type": "execute_result"
    }
   ],
   "source": [
    "# conditinal dict comprehension\n",
    "even_sq = {x:x**2 for x in range(5) if x%2==0}\n",
    "even_sq"
   ]
  },
  {
   "cell_type": "code",
   "execution_count": 52,
   "metadata": {},
   "outputs": [
    {
     "name": "stdout",
     "output_type": "stream",
     "text": [
      "Counter({8: 4, 2: 2, 4: 2, 5: 2, 1: 1, 6: 1, 7: 1, 9: 1})\n",
      "{1: 1, 2: 2, 4: 2, 5: 2, 6: 1, 7: 1, 8: 4, 9: 1}\n"
     ]
    }
   ],
   "source": [
    "#frequenc count of numbers\n",
    "nums = [1,2,2,4,5,5,6,7,8,8,8,8,9,4]\n",
    "from collections import Counter \n",
    "print(Counter(nums))\n",
    "\n",
    "cnt = {}\n",
    "for num in nums:\n",
    "    if num in cnt:\n",
    "        cnt[num]+=1\n",
    "    else:\n",
    "        cnt[num]=1\n",
    "print(cnt)"
   ]
  },
  {
   "cell_type": "code",
   "execution_count": 54,
   "metadata": {},
   "outputs": [
    {
     "data": {
      "text/plain": [
       "{'a': 1, 'b': 3, 'c': 4}"
      ]
     },
     "execution_count": 54,
     "metadata": {},
     "output_type": "execute_result"
    }
   ],
   "source": [
    "## Merge 2 dictionaries\n",
    "dict1 = {\"a\":1,\"b\":2}\n",
    "dict2 = {\"b\":3,\"c\":4}\n",
    "merged_dict = {**dict1,**dict2}\n",
    "merged_dict"
   ]
  }
 ],
 "metadata": {
  "kernelspec": {
   "display_name": "venv",
   "language": "python",
   "name": "python3"
  },
  "language_info": {
   "codemirror_mode": {
    "name": "ipython",
    "version": 3
   },
   "file_extension": ".py",
   "mimetype": "text/x-python",
   "name": "python",
   "nbconvert_exporter": "python",
   "pygments_lexer": "ipython3",
   "version": "3.10.0"
  }
 },
 "nbformat": 4,
 "nbformat_minor": 2
}
