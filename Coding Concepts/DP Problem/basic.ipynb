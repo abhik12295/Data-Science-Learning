{
 "cells": [
  {
   "cell_type": "code",
   "execution_count": null,
   "metadata": {},
   "outputs": [],
   "source": [
    "'''\n",
    "Dynamic Programminig:\n",
    "\n",
    "-> optimized technique used to solve problems by breaking down into smaller overlapping subproblems\n",
    "and solving each subproblem only once.\n",
    "-> and store the results to avoid redundant computations\n",
    "-> Used for optimization problems where we need to find the maximum, minimum, or total number of ways to achieve a goal.\n",
    "\n",
    "'''"
   ]
  },
  {
   "cell_type": "code",
   "execution_count": null,
   "metadata": {},
   "outputs": [],
   "source": [
    "'''\n",
    "How to identify a DP problem:\n",
    "\n",
    "A problem can be solved using DP if it has 2 key properties:\n",
    "\n",
    " 1. Optimal Substructure\n",
    "    The solution to a bigger problem can be constructed using solutions of smaller subproblems.\n",
    "    Example: In the House Robber problem, \n",
    "            the best way to rob from house i depends on the best way to rob from house i+1 or i+2.\n",
    "\n",
    "2. Overlapping Subproblems\n",
    "    The problem recomputes the same subproblems multiple times.\n",
    "    Example: If you try solving Fibonacci numbers recursively, \n",
    "    you will notice that fib(3) calls fib(2), which is also called by fib(4), causing unnecessary work\n",
    "\n",
    "\n",
    "Ask yourself these two questions:\n",
    "Can I break this problem into smaller overlapping subproblems?\n",
    "Example: Fibonacci, Climbing Stairs, Longest Common Subsequence.\n",
    "\n",
    "Does the problem have an optimal substructure?\n",
    "Example: If I know the best way to reach step n-1 and n-2, I can determine the best way to reach step n.\n",
    "\n",
    "If the answer is YES to both, it’s a DP problem!\n",
    "'''"
   ]
  },
  {
   "cell_type": "code",
   "execution_count": null,
   "metadata": {},
   "outputs": [],
   "source": [
    "'''\n",
    "3 Ways to Solve DP Problems:\n",
    "Approach\t                Explanation\t                                                            Time Complexity\t    Space Complexity\n",
    "                                                                                                    Exponential \n",
    "Recursion (Brute Force)\t    using pure recursion.\t                                                (O(2ⁿ))\t            O(n) (stack calls)\n",
    "Memoization (Top-Down DP)\trecursion but store results of subproblems to avoid redundant work.\t     O(n)\t            O(n) (memo array)\n",
    "Tabulation (Bottom-Up DP)\tBuild the solution from the smallest case to the biggest iteratively.\t O(n)\t            O(n) or O(1) (optimized)\n",
    "'''"
   ]
  },
  {
   "cell_type": "code",
   "execution_count": null,
   "metadata": {},
   "outputs": [],
   "source": [
    "'''\n",
    "Types of DP Problems:\n",
    "\n",
    "1D DP (Linear DP)\n",
    "\n",
    "    Examples: Fibonacci series, Climbing Stairs, House Robber\n",
    "\n",
    "2D DP (Grid DP or Matrix DP)\n",
    "\n",
    "    Examples: Unique Paths, Minimum Path Sum, Edit Distance\n",
    "\n",
    "Knapsack DP (Subset DP)\n",
    "\n",
    "    Examples: 0/1 Knapsack, Partition Equal Subset Sum\n",
    "\n",
    "String DP\n",
    "\n",
    "    Examples: Longest Common Subsequence, Edit Distance, Palindrome Substring\n",
    "\n",
    "Tree DP\n",
    "\n",
    "    Examples: Binary Tree Maximum Path Sum\n",
    "\n",
    "Graph DP (Shortest Path Problems)\n",
    "\n",
    "    Examples: Bellman Ford Algorithm, Floyd Warshall Algorithm\n",
    "'''"
   ]
  },
  {
   "cell_type": "code",
   "execution_count": 2,
   "metadata": {},
   "outputs": [
    {
     "data": {
      "text/plain": [
       "'\\nRecursion is when a function refers to itself to break down the problem it’s trying to solve. \\nIn every function call, the problem becomes smaller until it reaches a base case, \\nafter which it will then return the result to each intermediate caller \\nuntil it returns the final result back to the original caller.\\n'"
      ]
     },
     "execution_count": 2,
     "metadata": {},
     "output_type": "execute_result"
    }
   ],
   "source": [
    "'''\n",
    "Recursion is when a function refers to itself to break down the problem it’s trying to solve. \n",
    "In every function call, the problem becomes smaller until it reaches a base case, \n",
    "after which it will then return the result to each intermediate caller \n",
    "until it returns the final result back to the original caller.\n",
    "'''"
   ]
  },
  {
   "cell_type": "code",
   "execution_count": null,
   "metadata": {},
   "outputs": [],
   "source": [
    "'''\n",
    "Memoization Working:\n",
    "Function calls itself several times with the same input. Instead of a new call every time, \n",
    "you can store the results of previous calls in something like a memory cache. \n",
    "Python list/ Dict to store the results of previous computations. This technique is called memoization.\n",
    "Memoization speeds up the execution of expensive recursive functions by storing previously calculated results in a cache.\n",
    "This way, when the same input occurs again, \n",
    "the function just has to look up the corresponding result and return it without having to run the computation again. \n",
    "You can refer to these results as cached or memoized:\n",
    "'''"
   ]
  },
  {
   "cell_type": "markdown",
   "metadata": {},
   "source": [
    "![alt text](Screen_Shot_2021-06-03_at_10.24.56_PM.dde28642334d.avif)"
   ]
  },
  {
   "cell_type": "code",
   "execution_count": null,
   "metadata": {},
   "outputs": [],
   "source": [
    "'''\n",
    "Iterative working:\n",
    "You know that the first two numbers in the sequence are 0 and 1 and \n",
    "that each subsequent number in the sequence is the sum of its previous two predecessors. \n",
    "So, you can just create a loop that adds the previous two numbers, n - 1 and n - 2, \n",
    "together to find the number at position n in the sequence. #keyword - find the number\n",
    "'''"
   ]
  },
  {
   "cell_type": "markdown",
   "metadata": {},
   "source": [
    "![alt text](FibonacciSequenceDiagram1.42fd93a7229f.avif)"
   ]
  },
  {
   "cell_type": "code",
   "execution_count": null,
   "metadata": {},
   "outputs": [],
   "source": []
  }
 ],
 "metadata": {
  "kernelspec": {
   "display_name": "venv",
   "language": "python",
   "name": "python3"
  },
  "language_info": {
   "codemirror_mode": {
    "name": "ipython",
    "version": 3
   },
   "file_extension": ".py",
   "mimetype": "text/x-python",
   "name": "python",
   "nbconvert_exporter": "python",
   "pygments_lexer": "ipython3",
   "version": "3.10.0"
  }
 },
 "nbformat": 4,
 "nbformat_minor": 2
}
