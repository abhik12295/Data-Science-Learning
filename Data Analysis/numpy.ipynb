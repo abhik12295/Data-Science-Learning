{
 "cells": [
  {
   "cell_type": "code",
   "execution_count": null,
   "id": "b3bf4ad8",
   "metadata": {},
   "outputs": [],
   "source": [
    "'''\n",
    "Numpy:\n",
    "    -> fundamental library for scientific computing in Python\n",
    "    -> provides support for arrays and matrices along with a collection of mathematical\n",
    "        functions to operate on these data structures\n",
    "'''\n",
    "\n"
   ]
  },
  {
   "cell_type": "code",
   "execution_count": 1,
   "id": "163453cf",
   "metadata": {},
   "outputs": [
    {
     "data": {
      "text/plain": [
       "array([1, 2, 3, 4])"
      ]
     },
     "execution_count": 1,
     "metadata": {},
     "output_type": "execute_result"
    }
   ],
   "source": [
    "import numpy as np\n",
    "arr1 = np.array([1,2,3,4])\n",
    "arr1"
   ]
  },
  {
   "cell_type": "code",
   "execution_count": 3,
   "id": "74b380e3",
   "metadata": {},
   "outputs": [
    {
     "data": {
      "text/plain": [
       "numpy.ndarray"
      ]
     },
     "execution_count": 3,
     "metadata": {},
     "output_type": "execute_result"
    }
   ],
   "source": [
    "type(arr1)"
   ]
  },
  {
   "cell_type": "code",
   "execution_count": null,
   "id": "38251eca",
   "metadata": {},
   "outputs": [
    {
     "data": {
      "text/plain": [
       "(4,)"
      ]
     },
     "execution_count": 4,
     "metadata": {},
     "output_type": "execute_result"
    }
   ],
   "source": [
    "arr1.shape # since 1 dimension with 4 elements (4,)"
   ]
  },
  {
   "cell_type": "code",
   "execution_count": 6,
   "id": "f3872072",
   "metadata": {},
   "outputs": [
    {
     "data": {
      "text/plain": [
       "array([[1, 2, 3, 4, 5]])"
      ]
     },
     "execution_count": 6,
     "metadata": {},
     "output_type": "execute_result"
    }
   ],
   "source": [
    "# 2- Dimensional\n",
    "arr2 = np.array([1,2,3,4,5])\n",
    "arr2.reshape(1,5) # 1 row and 5 columns"
   ]
  },
  {
   "cell_type": "code",
   "execution_count": 9,
   "id": "c207ceff",
   "metadata": {},
   "outputs": [
    {
     "data": {
      "text/plain": [
       "(1, 6)"
      ]
     },
     "execution_count": 9,
     "metadata": {},
     "output_type": "execute_result"
    }
   ],
   "source": [
    "arr2 = np.array([[1,2,3,4,5,6]])\n",
    "arr2.shape"
   ]
  },
  {
   "cell_type": "code",
   "execution_count": 13,
   "id": "795abc3b",
   "metadata": {},
   "outputs": [
    {
     "name": "stdout",
     "output_type": "stream",
     "text": [
      "[[ 1  2  3  4  5]\n",
      " [ 6  7  8  9  0]\n",
      " [11 12 13 14 15]]\n",
      "(3, 5)\n"
     ]
    }
   ],
   "source": [
    "# N- d arrays\n",
    "arr3 = np.array([[1,2,3,4,5],[6,7,8,9,0],[11,12,13,14,15]])\n",
    "print(arr3)\n",
    "print(arr3.shape)"
   ]
  },
  {
   "cell_type": "code",
   "execution_count": 19,
   "id": "9fd9311e",
   "metadata": {},
   "outputs": [
    {
     "data": {
      "text/plain": [
       "array([[0],\n",
       "       [2],\n",
       "       [4],\n",
       "       [6],\n",
       "       [8]])"
      ]
     },
     "execution_count": 19,
     "metadata": {},
     "output_type": "execute_result"
    }
   ],
   "source": [
    "# Create array with inbuilt functions\n",
    "# function - arange and reshape it to 1d\n",
    "np.arange(0,10,2).reshape(5,1)"
   ]
  },
  {
   "cell_type": "code",
   "execution_count": 25,
   "id": "1ab4dbdc",
   "metadata": {},
   "outputs": [
    {
     "name": "stdout",
     "output_type": "stream",
     "text": [
      "Ones\n",
      "[[1. 1. 1. 1.]\n",
      " [1. 1. 1. 1.]\n",
      " [1. 1. 1. 1.]]\n",
      "\n",
      "Zeroes\n",
      "[[0. 0. 0. 0. 0.]\n",
      " [0. 0. 0. 0. 0.]\n",
      " [0. 0. 0. 0. 0.]\n",
      " [0. 0. 0. 0. 0.]]\n"
     ]
    }
   ],
   "source": [
    "#inbuilt fnction for deep learning with creating n size arrays\n",
    "# functions: ones, zeroes\n",
    "# parameters: (rows, columns)\n",
    "print('Ones')\n",
    "print(np.ones((3,4)))\n",
    "print('\\nZeroes')\n",
    "print(np.zeros((4,5)))\n"
   ]
  },
  {
   "cell_type": "code",
   "execution_count": 29,
   "id": "415f7e6f",
   "metadata": {},
   "outputs": [
    {
     "data": {
      "text/plain": [
       "array([[1., 0., 0.],\n",
       "       [0., 1., 0.],\n",
       "       [0., 0., 1.]])"
      ]
     },
     "execution_count": 29,
     "metadata": {},
     "output_type": "execute_result"
    }
   ],
   "source": [
    "# Identity matrix\n",
    "# all diagonal elements will be 1'set\n",
    "# parameter = number of arrays \n",
    "np.eye(3)"
   ]
  },
  {
   "cell_type": "code",
   "execution_count": 32,
   "id": "3e027ca4",
   "metadata": {},
   "outputs": [
    {
     "name": "stdout",
     "output_type": "stream",
     "text": [
      "Array:\n",
      " [[1 2 3]\n",
      " [4 5 6]]\n",
      "Shape: (2, 3)\n",
      "Number of dimenstions 2\n",
      "Size(No of elements) 6\n",
      "Data Type:  int64\n",
      "Item size in bytes:  8\n"
     ]
    }
   ],
   "source": [
    "#Summary to get the details of arrays\n",
    "arr = np.array([[1,2,3],[4,5,6]])\n",
    "print(\"Array:\\n\",arr)\n",
    "print(\"Shape:\", arr.shape)\n",
    "print(\"Number of dimenstions\", arr.ndim)\n",
    "print(\"Size(No of elements)\", arr.size)\n",
    "print(\"Data Type: \",arr.dtype)\n",
    "print(\"Item size in bytes: \", arr.itemsize)\n"
   ]
  },
  {
   "cell_type": "code",
   "execution_count": 34,
   "id": "937b2e2b",
   "metadata": {},
   "outputs": [
    {
     "name": "stdout",
     "output_type": "stream",
     "text": [
      "Addition: [11 22 33 44 55]\n",
      "Substraction: [ -9 -18 -27 -36 -45]\n",
      "Multiply: [ 10  40  90 160 250]\n",
      "Division: [0.1 0.1 0.1 0.1 0.1]\n"
     ]
    }
   ],
   "source": [
    "# Numpy Vectorized Operations\n",
    "arr1 = np.array([1,2,3,4,5])\n",
    "arr2 = np.array([10,20,30,40,50])\n",
    "\n",
    "#Element wise addition\n",
    "print(\"Addition:\", arr1+arr2)\n",
    "\n",
    "#Element wise substraction\n",
    "print(\"Substraction:\", arr1-arr2)\n",
    "\n",
    "#Element wise multiply\n",
    "print(\"Multiply:\", arr1*arr2)\n",
    "\n",
    "#Element wise division\n",
    "print(\"Division:\", arr1/arr2)"
   ]
  },
  {
   "cell_type": "code",
   "execution_count": null,
   "id": "412b3b67",
   "metadata": {},
   "outputs": [
    {
     "name": "stdout",
     "output_type": "stream",
     "text": [
      "[[1.         1.41421356 1.73205081]\n",
      " [2.         2.23606798 2.44948974]]\n",
      "[  2.71828183   7.3890561   20.08553692  54.59815003 148.4131591 ]\n",
      "[[ 0.84147098  0.90929743  0.14112001]\n",
      " [-0.7568025  -0.95892427 -0.2794155 ]]\n",
      "[[0.         0.69314718 1.09861229]\n",
      " [1.38629436 1.60943791 1.79175947]]\n"
     ]
    }
   ],
   "source": [
    "# Universal function\n",
    "# function which is apply to all the arrays\n",
    "arr1 = np.array([1,2,3,4,5])\n",
    "#sqrt\n",
    "print(np.sqrt(arr))\n",
    "#exponential\n",
    "print(np.exp(arr1))\n",
    "#Sine\n",
    "print(np.sin(arr))\n",
    "#Log\n",
    "print(np.log(arr))\n"
   ]
  },
  {
   "cell_type": "code",
   "execution_count": null,
   "id": "ccf5379c",
   "metadata": {},
   "outputs": [
    {
     "name": "stdout",
     "output_type": "stream",
     "text": [
      "[[ 1  2  4  5  6]\n",
      " [ 7  8  9  0 11]\n",
      " [12 13 14 15 16]]\n"
     ]
    }
   ],
   "source": [
    "# Array \n",
    "# Slicing and Indexing\n",
    "arr = np.array([[1,2,4,5,6],[7,8,9,0,11],[12,13,14,15,16]])\n",
    "print(arr)"
   ]
  },
  {
   "cell_type": "code",
   "execution_count": null,
   "id": "d82f51cd",
   "metadata": {},
   "outputs": [
    {
     "data": {
      "text/plain": [
       "np.int64(6)"
      ]
     },
     "execution_count": 44,
     "metadata": {},
     "output_type": "execute_result"
    }
   ],
   "source": [
    "#picking up the element from specific index\n",
    "arr[0][4]"
   ]
  },
  {
   "cell_type": "code",
   "execution_count": 49,
   "id": "d1ccfa3c",
   "metadata": {},
   "outputs": [
    {
     "data": {
      "text/plain": [
       "array([[ 7,  8,  9,  0, 11],\n",
       "       [12, 13, 14, 15, 16]])"
      ]
     },
     "execution_count": 49,
     "metadata": {},
     "output_type": "execute_result"
    }
   ],
   "source": [
    "#picking up the whole rows\n",
    "arr[1:]"
   ]
  },
  {
   "cell_type": "code",
   "execution_count": 50,
   "id": "b5637313",
   "metadata": {},
   "outputs": [
    {
     "data": {
      "text/plain": [
       "array([[ 9,  0, 11],\n",
       "       [14, 15, 16]])"
      ]
     },
     "execution_count": 50,
     "metadata": {},
     "output_type": "execute_result"
    }
   ],
   "source": [
    "#picking up the rows and cols\n",
    "arr[1:,2:]"
   ]
  },
  {
   "cell_type": "code",
   "execution_count": 51,
   "id": "46cfb9ec",
   "metadata": {},
   "outputs": [
    {
     "name": "stdout",
     "output_type": "stream",
     "text": [
      "[[ 4  5  6]\n",
      " [ 9  0 11]]\n"
     ]
    }
   ],
   "source": [
    "#read 1st and 2nd column, and get last 2 columns\n",
    "print(arr[0:2,2:])"
   ]
  },
  {
   "cell_type": "code",
   "execution_count": 52,
   "id": "957c54e8",
   "metadata": {},
   "outputs": [
    {
     "name": "stdout",
     "output_type": "stream",
     "text": [
      "[[100   2   4   5   6]\n",
      " [  7   8   9   0  11]\n",
      " [ 12  13  14  15  16]]\n"
     ]
    }
   ],
   "source": [
    "# modify elements\n",
    "arr[0,0]=100\n",
    "print(arr)"
   ]
  },
  {
   "cell_type": "code",
   "execution_count": 53,
   "id": "37dd4f96",
   "metadata": {},
   "outputs": [
    {
     "name": "stdout",
     "output_type": "stream",
     "text": [
      "[[100   2   4   5   6]\n",
      " [100 100 100 100 100]\n",
      " [100 100 100 100 100]]\n"
     ]
    }
   ],
   "source": [
    "arr[1:]=100\n",
    "print(arr)"
   ]
  },
  {
   "cell_type": "code",
   "execution_count": 54,
   "id": "c69d28e9",
   "metadata": {},
   "outputs": [
    {
     "name": "stdout",
     "output_type": "stream",
     "text": [
      "[-1.41421356 -0.70710678  0.          0.70710678  1.41421356]\n"
     ]
    }
   ],
   "source": [
    "# Statistics Concept\n",
    "'''\n",
    "Normalization\n",
    "-> to have mean of 0 and standard deviation at 1\n",
    "'''\n",
    "data = np.array([1,2,3,4,5])\n",
    "\n",
    "#compute mean and std dev\n",
    "mean = np.mean(data)\n",
    "std_dev = np.std(data)\n",
    "\n",
    "#normalize the data\n",
    "normalized_data = (data-mean)/std_dev\n",
    "print(normalized_data)\n"
   ]
  },
  {
   "cell_type": "code",
   "execution_count": 55,
   "id": "86aafbed",
   "metadata": {},
   "outputs": [
    {
     "name": "stdout",
     "output_type": "stream",
     "text": [
      "Mean:  3.0\n",
      "Median:  3.0\n",
      "Std Dev:  1.4142135623730951\n",
      "Variance:  2.0\n"
     ]
    }
   ],
   "source": [
    "#Basic Stats \n",
    "print(\"Mean: \", np.mean(data))\n",
    "print(\"Median: \", np.median(data))\n",
    "print(\"Std Dev: \", np.std(data))\n",
    "print(\"Variance: \", np.var(data))\n"
   ]
  },
  {
   "cell_type": "code",
   "execution_count": 5,
   "id": "886bbf1b",
   "metadata": {},
   "outputs": [
    {
     "name": "stdout",
     "output_type": "stream",
     "text": [
      "[False False False  True  True  True  True  True  True]\n",
      "[ 6  7 10  8  9]\n",
      "[6 7 8]\n"
     ]
    }
   ],
   "source": [
    "# Logical Ops\n",
    "data = np.array([1,2,4,5,6,7,10,8,9])\n",
    "print(data>=5)\n",
    "print(data[data>5])\n",
    "print(data[(data>5) & (data<9)])"
   ]
  }
 ],
 "metadata": {
  "kernelspec": {
   "display_name": "venv",
   "language": "python",
   "name": "python3"
  },
  "language_info": {
   "codemirror_mode": {
    "name": "ipython",
    "version": 3
   },
   "file_extension": ".py",
   "mimetype": "text/x-python",
   "name": "python",
   "nbconvert_exporter": "python",
   "pygments_lexer": "ipython3",
   "version": "3.10.0"
  }
 },
 "nbformat": 4,
 "nbformat_minor": 5
}
