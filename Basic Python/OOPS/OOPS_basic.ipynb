{
 "cells": [
  {
   "cell_type": "code",
   "execution_count": null,
   "metadata": {},
   "outputs": [
    {
     "name": "stdout",
     "output_type": "stream",
     "text": [
      "Model: mazda, Color: black\n"
     ]
    }
   ],
   "source": [
    "# Basic Class and Object Creation\n",
    "class Car:\n",
    "    def __init__(self, model, color):\n",
    "        self.model = model\n",
    "        self.color = color\n",
    "    def display_info(self):\n",
    "        print(f'Model: {self.model}, Color: {self.color}')\n",
    "\n",
    "car = Car(\"mazda\",\"black\")\n",
    "car.display_info()"
   ]
  },
  {
   "cell_type": "code",
   "execution_count": 3,
   "metadata": {},
   "outputs": [
    {
     "name": "stdout",
     "output_type": "stream",
     "text": [
      "Area 50.24\n"
     ]
    }
   ],
   "source": [
    "#Class with methods\n",
    "class Circle:\n",
    "    def __init__(self, radius):\n",
    "        self.radius = radius\n",
    "\n",
    "    def area(self):\n",
    "        return 3.14*self.radius**2\n",
    "    \n",
    "circle = Circle(4)\n",
    "print(\"Area\", circle.area())"
   ]
  },
  {
   "cell_type": "code",
   "execution_count": null,
   "metadata": {},
   "outputs": [
    {
     "data": {
      "text/plain": [
       "5000"
      ]
     },
     "execution_count": 4,
     "metadata": {},
     "output_type": "execute_result"
    }
   ],
   "source": [
    "#Encapsulation (Private Attributes)\n",
    "class Employee:\n",
    "    def __init__(self, name, salary):\n",
    "        self.__name = name\n",
    "        self.__salary = salary\n",
    "    \n",
    "    def get_salary(self):\n",
    "        return self.__salary\n",
    "    \n",
    "    def get_name(self):\n",
    "        return self.__name\n",
    "\n",
    "emp1= Employee(\"Abhi\",5000)\n",
    "emp1.get_salary()"
   ]
  },
  {
   "cell_type": "code",
   "execution_count": 6,
   "metadata": {},
   "outputs": [
    {
     "data": {
      "text/plain": [
       "'Bark'"
      ]
     },
     "execution_count": 6,
     "metadata": {},
     "output_type": "execute_result"
    }
   ],
   "source": [
    "# inheritance\n",
    "class Animal:\n",
    "    def sound(self):\n",
    "        return \"Animal Sound\"\n",
    "\n",
    "class Dog:\n",
    "    def sound(self):\n",
    "        return \"Bark\"\n",
    "\n",
    "dog = Dog()\n",
    "dog.sound()\n"
   ]
  },
  {
   "cell_type": "code",
   "execution_count": 8,
   "metadata": {},
   "outputs": [
    {
     "name": "stdout",
     "output_type": "stream",
     "text": [
      "Tall Fair\n"
     ]
    }
   ],
   "source": [
    "# Multiple Inheritance\n",
    "class Father:\n",
    "    def height(self):\n",
    "        return \"Tall\"\n",
    "\n",
    "class Mother:\n",
    "    def color(self):\n",
    "        return \"Fair\"\n",
    "\n",
    "class Child(Father, Mother):\n",
    "    pass\n",
    "\n",
    "child = Child()\n",
    "print(child.height(), child.color())"
   ]
  },
  {
   "cell_type": "code",
   "execution_count": 11,
   "metadata": {},
   "outputs": [
    {
     "name": "stdout",
     "output_type": "stream",
     "text": [
      "Bird can fly\n"
     ]
    },
    {
     "data": {
      "text/plain": [
       "\"Peguin can't fly\""
      ]
     },
     "execution_count": 11,
     "metadata": {},
     "output_type": "execute_result"
    }
   ],
   "source": [
    "# Polymorphism\n",
    "\n",
    "class Bird:\n",
    "    def fly(self):\n",
    "        print(\"Bird can fly\")\n",
    "\n",
    "class Penguin(Bird):\n",
    "    def fly(self):\n",
    "        return \"Peguin can't fly\"\n",
    "        #return super().fly()\n",
    "\n",
    "bird = Bird()\n",
    "penguin = Penguin()\n",
    "bird.fly()\n",
    "penguin.fly()\n",
    "    "
   ]
  },
  {
   "cell_type": "code",
   "execution_count": 12,
   "metadata": {},
   "outputs": [
    {
     "name": "stdout",
     "output_type": "stream",
     "text": [
      "20\n"
     ]
    }
   ],
   "source": [
    "#Abstraction using ABC\n",
    "from abc import ABC, abstractmethod\n",
    "\n",
    "class Shape(ABC):\n",
    "    @abstractmethod\n",
    "    def area(self):\n",
    "        pass\n",
    "\n",
    "class Rectangle(Shape):\n",
    "    def __init__(self, l, b):\n",
    "        self.l = l\n",
    "        self.b = b\n",
    "    \n",
    "    def area(self):\n",
    "        return self.l * self.b\n",
    "\n",
    "rect = Rectangle(4,5)\n",
    "print(rect.area())\n"
   ]
  },
  {
   "cell_type": "code",
   "execution_count": null,
   "metadata": {},
   "outputs": [
    {
     "data": {
      "text/plain": [
       "200"
      ]
     },
     "execution_count": 15,
     "metadata": {},
     "output_type": "execute_result"
    }
   ],
   "source": [
    "#Class Method and Static Method\n",
    "class Calculator:\n",
    "    def __init__(self, val):\n",
    "        self.val = val\n",
    "    \n",
    "    @classmethod\n",
    "    def from_string(cls, val_str):\n",
    "        return cls(int(val_str))\n",
    "    \n",
    "    @staticmethod\n",
    "    def add(a,b):\n",
    "        return a*b\n",
    "    \n",
    "c = Calculator.from_string(\"10\")\n",
    "Calculator.add(10,20)"
   ]
  },
  {
   "cell_type": "code",
   "execution_count": null,
   "metadata": {},
   "outputs": [],
   "source": [
    "# Operator Overloading\n",
    "class Point:\n",
    "    def __init__(self, x, y):\n",
    "        self.x = x\n",
    "        self.y = y\n",
    "    \n",
    "    def __add__(self, other):\n",
    "        return Point(self.x + other.x, self.y + other.y)\n",
    "\n",
    "p1 = Point(1,2)\n",
    "p2 = Point(3,4)\n",
    "result = p1+p2\n",
    "print(result.x, result.y)"
   ]
  },
  {
   "cell_type": "code",
   "execution_count": 16,
   "metadata": {},
   "outputs": [
    {
     "name": "stdout",
     "output_type": "stream",
     "text": [
      "200\n"
     ]
    }
   ],
   "source": [
    "# Property Decorator(Getter and Setter)\n",
    "class Product:\n",
    "    def __init__(self, price):\n",
    "        self._price = price\n",
    "    \n",
    "    @property\n",
    "    def price(self):\n",
    "        return self._price\n",
    "    \n",
    "    @price.setter\n",
    "    def price(self, value):\n",
    "        if value>0:\n",
    "            self._price = value\n",
    "        else:\n",
    "            print(\"Invalid Price\")\n",
    "\n",
    "product = Product(100)\n",
    "product.price = 200\n",
    "print(product.price)"
   ]
  },
  {
   "cell_type": "code",
   "execution_count": 17,
   "metadata": {},
   "outputs": [
    {
     "name": "stdout",
     "output_type": "stream",
     "text": [
      "False\n"
     ]
    }
   ],
   "source": [
    "# Object Comparison using Dunder Methods\n",
    "class Book:\n",
    "    def __init__(self, pages):\n",
    "        self.pages = pages\n",
    "    \n",
    "    def __lt__(self,other):\n",
    "        return self.pages < other.pages\n",
    "\n",
    "book1 = Book(200)\n",
    "book2 = Book(150)\n",
    "print(book1<book2)"
   ]
  }
 ],
 "metadata": {
  "kernelspec": {
   "display_name": "venv",
   "language": "python",
   "name": "python3"
  },
  "language_info": {
   "codemirror_mode": {
    "name": "ipython",
    "version": 3
   },
   "file_extension": ".py",
   "mimetype": "text/x-python",
   "name": "python",
   "nbconvert_exporter": "python",
   "pygments_lexer": "ipython3",
   "version": "3.10.0"
  }
 },
 "nbformat": 4,
 "nbformat_minor": 2
}
