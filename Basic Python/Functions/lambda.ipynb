{
 "cells": [
  {
   "cell_type": "code",
   "execution_count": null,
   "metadata": {},
   "outputs": [],
   "source": [
    "# Lambda Functions in Python\n",
    "'''\n",
    "-> small anonymous functions defined using lambda keyword,\n",
    "-> can have any no of arguments but only one expression\n",
    "-> use case = short ops,or as arguments to high order functions\n",
    "'''"
   ]
  },
  {
   "cell_type": "code",
   "execution_count": null,
   "metadata": {},
   "outputs": [],
   "source": [
    "'''\n",
    "Syntax:\n",
    "lambda arguments: expressions\n",
    "'''"
   ]
  },
  {
   "cell_type": "code",
   "execution_count": 3,
   "metadata": {},
   "outputs": [
    {
     "name": "stdout",
     "output_type": "stream",
     "text": [
      "<class 'function'>\n",
      "20\n"
     ]
    }
   ],
   "source": [
    "res = lambda a,b:a*b\n",
    "print(type(res))\n",
    "print(res(4,5))"
   ]
  },
  {
   "cell_type": "code",
   "execution_count": 4,
   "metadata": {},
   "outputs": [
    {
     "data": {
      "text/plain": [
       "True"
      ]
     },
     "execution_count": 4,
     "metadata": {},
     "output_type": "execute_result"
    }
   ],
   "source": [
    "res = lambda x:x%2==0\n",
    "res(10)"
   ]
  },
  {
   "cell_type": "code",
   "execution_count": 5,
   "metadata": {},
   "outputs": [
    {
     "data": {
      "text/plain": [
       "10"
      ]
     },
     "execution_count": 5,
     "metadata": {},
     "output_type": "execute_result"
    }
   ],
   "source": [
    "# multiple parameters\n",
    "res = lambda x,y,z:x*y+z\n",
    "res(2,3,4)"
   ]
  },
  {
   "cell_type": "code",
   "execution_count": null,
   "metadata": {},
   "outputs": [
    {
     "data": {
      "text/plain": [
       "{'Kumar': 85, 'Abhi': 50, 'Amit': 10}"
      ]
     },
     "execution_count": 9,
     "metadata": {},
     "output_type": "execute_result"
    }
   ],
   "source": [
    "##sorting dictionary on the basis of value:\n",
    "## abhi- 15, amti - 60s\n",
    "data = {\n",
    "    'Abhi':50,\n",
    "    'Kumar':85,\n",
    "    'Amit':10\n",
    "}\n",
    "\n",
    "ordered_d = sorted(data.items(), key=lambda x:x[1], reverse= True)\n",
    "#x: is tuple = ('abhi',50)\n",
    "#x[1] : pick the second item of tuple = which is value in dict -> in this case: 50\n",
    "dict(ordered_d)"
   ]
  }
 ],
 "metadata": {
  "kernelspec": {
   "display_name": "venv",
   "language": "python",
   "name": "python3"
  },
  "language_info": {
   "codemirror_mode": {
    "name": "ipython",
    "version": 3
   },
   "file_extension": ".py",
   "mimetype": "text/x-python",
   "name": "python",
   "nbconvert_exporter": "python",
   "pygments_lexer": "ipython3",
   "version": "3.10.0"
  }
 },
 "nbformat": 4,
 "nbformat_minor": 2
}
