{
 "cells": [
  {
   "cell_type": "code",
   "execution_count": null,
   "metadata": {},
   "outputs": [],
   "source": [
    "'''\n",
    "Map() function in Python\n",
    "map() function applies a given function to all items in an input list(or any iterable) \n",
    "and returns a map object(an iterator). \n",
    "This is particularly useful for transforming data in a list comprehensively \n",
    "'''"
   ]
  },
  {
   "cell_type": "code",
   "execution_count": null,
   "metadata": {},
   "outputs": [
    {
     "data": {
      "text/plain": [
       "[1, 4, 9, 16, 25, 36]"
      ]
     },
     "execution_count": 4,
     "metadata": {},
     "output_type": "execute_result"
    }
   ],
   "source": [
    "#lambda power with map\n",
    "#map\n",
    "'''\n",
    "map(lambda args:expression, iterables)\n",
    "'''\n",
    "numbers = [1,2,3,4,5,6]\n",
    "sq = map(lambda x:x**2, numbers)\n",
    "list(sq)"
   ]
  },
  {
   "cell_type": "code",
   "execution_count": 5,
   "metadata": {},
   "outputs": [
    {
     "data": {
      "text/plain": [
       "[1, 4, 9, 16, 25, 36]"
      ]
     },
     "execution_count": 5,
     "metadata": {},
     "output_type": "execute_result"
    }
   ],
   "source": [
    "def square(x):\n",
    "    return x*x\n",
    "list(map(square, numbers))"
   ]
  },
  {
   "cell_type": "code",
   "execution_count": 7,
   "metadata": {},
   "outputs": [
    {
     "data": {
      "text/plain": [
       "[8, 11, 13]"
      ]
     },
     "execution_count": 7,
     "metadata": {},
     "output_type": "execute_result"
    }
   ],
   "source": [
    "#multiple iterables\n",
    "numbers1 = [2,4,5]\n",
    "numbers2 = [6,7,8]\n",
    "res = list(map(lambda x,y:x+y,numbers1, numbers2))\n",
    "res"
   ]
  },
  {
   "cell_type": "code",
   "execution_count": 10,
   "metadata": {},
   "outputs": [
    {
     "data": {
      "text/plain": [
       "[1, 2, 3, 4]"
      ]
     },
     "execution_count": 10,
     "metadata": {},
     "output_type": "execute_result"
    }
   ],
   "source": [
    "#convert str to int\n",
    "str_n = ['1','2','3','4']\n",
    "#int_n = list(map(lambda x:int(x), str_n))\n",
    "int_n = list(map(int, str_n))\n",
    "int_n"
   ]
  },
  {
   "cell_type": "code",
   "execution_count": 14,
   "metadata": {},
   "outputs": [
    {
     "data": {
      "text/plain": [
       "['APPLE', 'MANGO', 'ORANGE']"
      ]
     },
     "execution_count": 14,
     "metadata": {},
     "output_type": "execute_result"
    }
   ],
   "source": [
    "#upper all the strings\n",
    "words = ['apple','mango','orange']\n",
    "return_words = list(map(str.upper,words))\n",
    "return_words"
   ]
  },
  {
   "cell_type": "code",
   "execution_count": 16,
   "metadata": {},
   "outputs": [
    {
     "data": {
      "text/plain": [
       "['Krish', 'Abhi']"
      ]
     },
     "execution_count": 16,
     "metadata": {},
     "output_type": "execute_result"
    }
   ],
   "source": [
    "# list of dictionary\n",
    "people = [\n",
    "    {'name':'Krish','age':32},\n",
    "    {'name':'Abhi','age':33}\n",
    "]\n",
    "def get_name(people):\n",
    "    return people['name']\n",
    "\n",
    "list(map(get_name,people))"
   ]
  }
 ],
 "metadata": {
  "kernelspec": {
   "display_name": "venv",
   "language": "python",
   "name": "python3"
  },
  "language_info": {
   "codemirror_mode": {
    "name": "ipython",
    "version": 3
   },
   "file_extension": ".py",
   "mimetype": "text/x-python",
   "name": "python",
   "nbconvert_exporter": "python",
   "pygments_lexer": "ipython3",
   "version": "3.10.0"
  }
 },
 "nbformat": 4,
 "nbformat_minor": 2
}
