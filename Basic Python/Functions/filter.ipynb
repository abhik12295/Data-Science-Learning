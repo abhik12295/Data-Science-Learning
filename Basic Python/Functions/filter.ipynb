{
 "cells": [
  {
   "cell_type": "code",
   "execution_count": null,
   "metadata": {},
   "outputs": [],
   "source": [
    "#filter() function\n",
    "'''\n",
    "constructs an iterator from elements of an iterable for which a function returns True\n",
    "It is used to filter out items from a list(or any other iterables) based on condition\n",
    "'''"
   ]
  },
  {
   "cell_type": "code",
   "execution_count": 3,
   "metadata": {},
   "outputs": [
    {
     "data": {
      "text/plain": [
       "[2, 4, 6, 8]"
      ]
     },
     "execution_count": 3,
     "metadata": {},
     "output_type": "execute_result"
    }
   ],
   "source": [
    "def even(n):\n",
    "    if n%2==0:\n",
    "        return n\n",
    "\n",
    "nums = [1,2,3,4,5,6,7,8]\n",
    "res = filter(even, nums)\n",
    "list(res)"
   ]
  },
  {
   "cell_type": "code",
   "execution_count": 6,
   "metadata": {},
   "outputs": [
    {
     "data": {
      "text/plain": [
       "[10, 15, 20]"
      ]
     },
     "execution_count": 6,
     "metadata": {},
     "output_type": "execute_result"
    }
   ],
   "source": [
    "#filter with lambda function\n",
    "nums = [1,2,5,10,15,20]\n",
    "greater_than_five= filter(lambda x:x>5, nums)\n",
    "list(greater_than_five)"
   ]
  },
  {
   "cell_type": "code",
   "execution_count": 8,
   "metadata": {},
   "outputs": [
    {
     "data": {
      "text/plain": [
       "[10, 20]"
      ]
     },
     "execution_count": 8,
     "metadata": {},
     "output_type": "execute_result"
    }
   ],
   "source": [
    "#filter with lambda function and multiple conditions\n",
    "greater_than_five_even= filter(lambda x:x>5 and x%2==0, nums)\n",
    "list(greater_than_five_even)"
   ]
  },
  {
   "cell_type": "code",
   "execution_count": null,
   "metadata": {},
   "outputs": [
    {
     "data": {
      "text/plain": [
       "[{'Name': 'Nami ', 'Age': 31}, {'Name': 'Baba', 'Age': 32}]"
      ]
     },
     "execution_count": 11,
     "metadata": {},
     "output_type": "execute_result"
    },
    {
     "ename": "",
     "evalue": "",
     "output_type": "error",
     "traceback": [
      "\u001b[1;31mThe Kernel crashed while executing code in the current cell or a previous cell. \n",
      "\u001b[1;31mPlease review the code in the cell(s) to identify a possible cause of the failure. \n",
      "\u001b[1;31mClick <a href='https://aka.ms/vscodeJupyterKernelCrash'>here</a> for more info. \n",
      "\u001b[1;31mView Jupyter <a href='command:jupyter.viewOutput'>log</a> for further details."
     ]
    }
   ],
   "source": [
    "#filter check in dictionary\n",
    "dict = [\n",
    "    {\"Name\":\"Abhi\",\"Age\":30},\n",
    "    {\"Name\":\"Nami \",\"Age\":31},\n",
    "    {\"Name\":\"Baba\",\"Age\":32},\n",
    "    ]\n",
    "\n",
    "def age_greater_than_25(dict):\n",
    "    return dict['Age']>30\n",
    "\n",
    "res = filter(age_greater_than_25, dict)\n",
    "list(res)"
   ]
  },
  {
   "cell_type": "code",
   "execution_count": null,
   "metadata": {},
   "outputs": [],
   "source": [
    "'''\n",
    "-> creating iterator and filtering items out of an iterable based on function\n",
    "-> data cleaning, filtering object, removing unwanted elements from  lists\n",
    "-> for processing,  and manuipulating collections in python\n",
    "'''"
   ]
  }
 ],
 "metadata": {
  "kernelspec": {
   "display_name": "venv",
   "language": "python",
   "name": "python3"
  },
  "language_info": {
   "codemirror_mode": {
    "name": "ipython",
    "version": 3
   },
   "file_extension": ".py",
   "mimetype": "text/x-python",
   "name": "python",
   "nbconvert_exporter": "python",
   "pygments_lexer": "ipython3",
   "version": "3.10.0"
  }
 },
 "nbformat": 4,
 "nbformat_minor": 2
}
