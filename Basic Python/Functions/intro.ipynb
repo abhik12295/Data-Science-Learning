{
 "cells": [
  {
   "cell_type": "code",
   "execution_count": null,
   "metadata": {},
   "outputs": [],
   "source": [
    "'''\n",
    "Block of code that performs the specific task\n",
    "-> organizing code\n",
    "-> reusing code\n",
    "-> increase readability\n",
    "'''\n"
   ]
  },
  {
   "cell_type": "code",
   "execution_count": 1,
   "metadata": {},
   "outputs": [
    {
     "name": "stdout",
     "output_type": "stream",
     "text": [
      "Hello Abhi\n",
      "Hello Kumar\n"
     ]
    }
   ],
   "source": [
    "'''\n",
    "Default parameters\n",
    "'''\n",
    "def greet(name=\"Kumar\"):\n",
    "    print(f\"Hello {name}\")\n",
    "\n",
    "greet(\"Abhi\") #override\n",
    "#print(greet())--- error: since no argument passed\n",
    "    #greet() missing 1 required positional argument: 'name'\n",
    "greet() #default"
   ]
  },
  {
   "cell_type": "code",
   "execution_count": null,
   "metadata": {},
   "outputs": [
    {
     "name": "stdout",
     "output_type": "stream",
     "text": [
      "1\n",
      "2\n",
      "4\n",
      "5\n",
      "6\n",
      "7\n",
      "8\n",
      "9\n",
      "abhi\n"
     ]
    }
   ],
   "source": [
    "#variable length arguments\n",
    "#positional arguments\n",
    "def print_numbers(*args): # *args or *calc or *abi\n",
    "    for number in args:\n",
    "        print(number)\n",
    "print_numbers(1,2,4,5,6,7,8,9,\"abhi\")"
   ]
  },
  {
   "cell_type": "code",
   "execution_count": 4,
   "metadata": {},
   "outputs": [
    {
     "name": "stdout",
     "output_type": "stream",
     "text": [
      "name:Abhi\n",
      "age:31\n",
      "country:USA\n"
     ]
    }
   ],
   "source": [
    "#variable length arguments\n",
    "#keyword argumnets - all the parameter in form key-value pairs\n",
    "def print_details(**kwargs):\n",
    "    for e,v in kwargs.items():\n",
    "        print(f\"{e}:{v}\")\n",
    "print_details(name=\"Abhi\",age='31',country = 'USA')\n",
    "#print_details()\n",
    "\n",
    "    "
   ]
  },
  {
   "cell_type": "code",
   "execution_count": 8,
   "metadata": {},
   "outputs": [
    {
     "name": "stdout",
     "output_type": "stream",
     "text": [
      "Positional args: 1\n",
      "Positional args: 2\n",
      "Positional args: 3\n",
      "Positional args: 4\n",
      "Positional args: Abhi\n",
      "Keyword args name:abhi\n",
      "Keyword args age:30\n"
     ]
    }
   ],
   "source": [
    "def print_combined(*args, **kwargs):\n",
    "    for val in args:\n",
    "        print(f\"Positional args: {val}\")\n",
    "    for key,val in kwargs.items():\n",
    "        print(f\"Keyword args {key}:{val}\")\n",
    "\n",
    "print_combined(1,2,3,4,\"Abhi\",name=\"abhi\", age=30)\n"
   ]
  },
  {
   "cell_type": "code",
   "execution_count": 9,
   "metadata": {},
   "outputs": [
    {
     "data": {
      "text/plain": [
       "(48, 6)"
      ]
     },
     "execution_count": 9,
     "metadata": {},
     "output_type": "execute_result"
    }
   ],
   "source": [
    "#return multiple parameters\n",
    "def multiply(a,b):\n",
    "    return a*b, b\n",
    "multiply(8,6)"
   ]
  },
  {
   "cell_type": "code",
   "execution_count": 10,
   "metadata": {},
   "outputs": [
    {
     "data": {
      "text/plain": [
       "60.8"
      ]
     },
     "execution_count": 10,
     "metadata": {},
     "output_type": "execute_result"
    }
   ],
   "source": [
    "#Temperature Conversion\n",
    "def temp_conv(temp, unit):\n",
    "    if unit==\"C\" or \"c\":\n",
    "        return temp*9/5 +32\n",
    "    elif unit==\"F\" or \"f\":\n",
    "        return (temp-32)*5/9\n",
    "    return None\n",
    "\n",
    "temp_conv(16,\"C\")\n"
   ]
  },
  {
   "cell_type": "code",
   "execution_count": 13,
   "metadata": {},
   "outputs": [
    {
     "data": {
      "text/plain": [
       "True"
      ]
     },
     "execution_count": 13,
     "metadata": {},
     "output_type": "execute_result"
    }
   ],
   "source": [
    "def is_strong_password(password):\n",
    "    if len(password)<8:\n",
    "        return False\n",
    "    if not any(char.isdigit() for char in password):\n",
    "        return False\n",
    "    if not any(char.isupper() for char in password):\n",
    "        return False\n",
    "    if not any(char.islower() for char in password):\n",
    "        return False\n",
    "    if not any(char in '!@#$^&*()_+' for char in password):\n",
    "        return False\n",
    "    return True\n",
    "\n",
    "is_strong_password(\"Gmail@123\")"
   ]
  },
  {
   "cell_type": "code",
   "execution_count": 26,
   "metadata": {},
   "outputs": [
    {
     "data": {
      "text/plain": [
       "28.0"
      ]
     },
     "execution_count": 26,
     "metadata": {},
     "output_type": "execute_result"
    }
   ],
   "source": [
    "# Calculate total cost of items in shopping cart\n",
    "carts = [\n",
    "    {'item':'Apple','price':1.5,'quantity':4},\n",
    "    {'item':'Banana','price':2,'quantity':6},\n",
    "    {'item':'Orange','price':1,'quantity':10}\n",
    "]\n",
    "\n",
    "def calculateTotal(carts):\n",
    "    total_sum = 0\n",
    "    for items in carts:\n",
    "        total_sum+=items['price']*items['quantity']\n",
    "    return total_sum\n",
    "\n",
    "calculateTotal(carts)\n"
   ]
  },
  {
   "cell_type": "code",
   "execution_count": 30,
   "metadata": {},
   "outputs": [
    {
     "name": "stdout",
     "output_type": "stream",
     "text": [
      "True\n"
     ]
    }
   ],
   "source": [
    "# Palindrome check\n",
    "s = \"aba\"\n",
    "print(s.lower().replace(\" \",\"\")==s.lower().replace(\" \",\"\")[::-1])"
   ]
  },
  {
   "cell_type": "code",
   "execution_count": 2,
   "metadata": {},
   "outputs": [
    {
     "data": {
      "text/plain": [
       "120"
      ]
     },
     "execution_count": 2,
     "metadata": {},
     "output_type": "execute_result"
    }
   ],
   "source": [
    "#factorial\n",
    "def fact(n):\n",
    "    #base case \n",
    "    if n<0:\n",
    "        return 0\n",
    "    if n==0 or n==1:\n",
    "        return 1\n",
    "    return n*fact(n-1)\n",
    "fact(5)"
   ]
  },
  {
   "cell_type": "code",
   "execution_count": 23,
   "metadata": {},
   "outputs": [
    {
     "name": "stdout",
     "output_type": "stream",
     "text": [
      "Hi\n",
      "This\n",
      "is\n",
      "what\n",
      "this\n",
      "is\n"
     ]
    },
    {
     "data": {
      "text/plain": [
       "{'hi': 1, 'this': 2, 'is': 2, 'what': 1}"
      ]
     },
     "execution_count": 23,
     "metadata": {},
     "output_type": "execute_result"
    }
   ],
   "source": [
    "#Read file and count frequenc of words\n",
    "def readFile(file_path):\n",
    "    from collections import Counter\n",
    "    word_count = {}\n",
    "    with open(file_path,'r') as file:\n",
    "        for line in file:\n",
    "            words = line.split()\n",
    "            for word in words:\n",
    "                print(word)\n",
    "                word = word.lower()\n",
    "                word_count[word]= word_count.get(word,0)+1\n",
    "                # if word in word_count:\n",
    "                #     word_count[word]+=1\n",
    "                # else:\n",
    "                #     word_count[word]=1\n",
    "    return word_count\n",
    "\n",
    "readFile(r'C:\\Users\\stuar\\Desktop\\Data Science Learning\\Functions\\read_file.txt')"
   ]
  }
 ],
 "metadata": {
  "kernelspec": {
   "display_name": "venv",
   "language": "python",
   "name": "python3"
  },
  "language_info": {
   "codemirror_mode": {
    "name": "ipython",
    "version": 3
   },
   "file_extension": ".py",
   "mimetype": "text/x-python",
   "name": "python",
   "nbconvert_exporter": "python",
   "pygments_lexer": "ipython3",
   "version": "3.10.0"
  }
 },
 "nbformat": 4,
 "nbformat_minor": 2
}
